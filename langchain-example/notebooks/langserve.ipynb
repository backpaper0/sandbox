{
 "cells": [
  {
   "cell_type": "markdown",
   "metadata": {},
   "source": [
    "# LangServeで遊ぶ"
   ]
  },
  {
   "cell_type": "markdown",
   "metadata": {},
   "source": [
    "次のコマンドでWebアプリケーションを起動してからノートブックを実行していく。\n",
    "\n",
    "```sh\n",
    "poetry run task start\n",
    "```"
   ]
  },
  {
   "cell_type": "code",
   "execution_count": 1,
   "metadata": {},
   "outputs": [],
   "source": [
    "import requests\n",
    "from datetime import datetime\n",
    "\n",
    "base_url = \"http://localhost:8000\""
   ]
  },
  {
   "cell_type": "markdown",
   "metadata": {},
   "source": [
    "## とりあえずOpenAIでチャット"
   ]
  },
  {
   "cell_type": "code",
   "execution_count": 2,
   "metadata": {},
   "outputs": [
    {
     "data": {
      "text/plain": [
       "{'output': {'content': '東京です。',\n",
       "  'additional_kwargs': {},\n",
       "  'type': 'ai',\n",
       "  'name': None,\n",
       "  'id': None,\n",
       "  'example': False},\n",
       " 'callback_events': [],\n",
       " 'metadata': {'run_id': '79758175-c660-4ff2-9e4f-fd5c061bb93c'}}"
      ]
     },
     "execution_count": 2,
     "metadata": {},
     "output_type": "execute_result"
    }
   ],
   "source": [
    "json = {\n",
    "    \"input\": \"日本の首都は？\"\n",
    "}\n",
    "resp = requests.post(f\"{base_url}/chat/invoke\", json=json)\n",
    "resp.json()"
   ]
  },
  {
   "cell_type": "code",
   "execution_count": 3,
   "metadata": {},
   "outputs": [
    {
     "data": {
      "text/plain": [
       "['event: metadata',\n",
       " 'data: {\"run_id\": \"9fea404e-75f0-45c6-85fd-095c1b9b379d\"}',\n",
       " '',\n",
       " 'event: data',\n",
       " 'data: {\"content\":\"\",\"additional_kwargs\":{},\"type\":\"AIMessageChunk\",\"name\":null,\"id\":null,\"example\":false}',\n",
       " '',\n",
       " 'event: data',\n",
       " 'data: {\"content\":\"東\",\"additional_kwargs\":{},\"type\":\"AIMessageChunk\",\"name\":null,\"id\":null,\"example\":false}',\n",
       " '',\n",
       " 'event: data',\n",
       " 'data: {\"content\":\"京\",\"additional_kwargs\":{},\"type\":\"AIMessageChunk\",\"name\":null,\"id\":null,\"example\":false}',\n",
       " '',\n",
       " 'event: data',\n",
       " 'data: {\"content\":\"です\",\"additional_kwargs\":{},\"type\":\"AIMessageChunk\",\"name\":null,\"id\":null,\"example\":false}',\n",
       " '',\n",
       " 'event: data',\n",
       " 'data: {\"content\":\"。\",\"additional_kwargs\":{},\"type\":\"AIMessageChunk\",\"name\":null,\"id\":null,\"example\":false}',\n",
       " '',\n",
       " 'event: data',\n",
       " 'data: {\"content\":\"\",\"additional_kwargs\":{},\"type\":\"AIMessageChunk\",\"name\":null,\"id\":null,\"example\":false}',\n",
       " '',\n",
       " 'event: end',\n",
       " '']"
      ]
     },
     "execution_count": 3,
     "metadata": {},
     "output_type": "execute_result"
    }
   ],
   "source": [
    "json = {\n",
    "    \"input\": \"日本の首都は？\"\n",
    "}\n",
    "resp = requests.post(f\"{base_url}/chat/stream\", json=json, stream=True)\n",
    "[line for line in resp.iter_lines(decode_unicode=True)]"
   ]
  },
  {
   "cell_type": "markdown",
   "metadata": {},
   "source": [
    "## `RunnablePassthrough`で入力と出力を確認してみる"
   ]
  },
  {
   "cell_type": "code",
   "execution_count": 4,
   "metadata": {},
   "outputs": [
    {
     "data": {
      "text/plain": [
       "'日本の首都は？'"
      ]
     },
     "execution_count": 4,
     "metadata": {},
     "output_type": "execute_result"
    }
   ],
   "source": [
    "json = {\n",
    "    \"input\": \"日本の首都は？\"\n",
    "}\n",
    "resp = requests.post(f\"{base_url}/passthrough/invoke\", json=json)\n",
    "resp.json()[\"output\"]"
   ]
  },
  {
   "cell_type": "code",
   "execution_count": 5,
   "metadata": {},
   "outputs": [
    {
     "data": {
      "text/plain": [
       "{'question': '日本の首都は？'}"
      ]
     },
     "execution_count": 5,
     "metadata": {},
     "output_type": "execute_result"
    }
   ],
   "source": [
    "json = {\n",
    "    \"input\": {\n",
    "        \"question\": \"日本の首都は？\"\n",
    "    }\n",
    "}\n",
    "resp = requests.post(f\"{base_url}/passthrough/invoke\", json=json)\n",
    "resp.json()[\"output\"]"
   ]
  },
  {
   "cell_type": "code",
   "execution_count": 6,
   "metadata": {},
   "outputs": [
    {
     "data": {
      "text/plain": [
       "['日本の首都は？']"
      ]
     },
     "execution_count": 6,
     "metadata": {},
     "output_type": "execute_result"
    }
   ],
   "source": [
    "json = {\n",
    "    \"input\": [ \"日本の首都は？\" ]\n",
    "}\n",
    "resp = requests.post(f\"{base_url}/passthrough/invoke\", json=json)\n",
    "resp.json()[\"output\"]"
   ]
  },
  {
   "cell_type": "code",
   "execution_count": 7,
   "metadata": {},
   "outputs": [
    {
     "data": {
      "text/plain": [
       "['event: metadata',\n",
       " 'data: {\"run_id\": \"a3b0e43d-236c-4407-8599-3556e74bfc5e\"}',\n",
       " '',\n",
       " 'event: data',\n",
       " 'data: \"日本の首都は？\"',\n",
       " '',\n",
       " 'event: end',\n",
       " '']"
      ]
     },
     "execution_count": 7,
     "metadata": {},
     "output_type": "execute_result"
    }
   ],
   "source": [
    "resp = requests.post(f\"{base_url}/passthrough/stream\", json={ \"input\": \"日本の首都は？\" }, stream=True)\n",
    "[line for line in resp.iter_lines(decode_unicode=True)]"
   ]
  },
  {
   "cell_type": "markdown",
   "metadata": {},
   "source": [
    "## `RunnableLambda`"
   ]
  },
  {
   "cell_type": "code",
   "execution_count": 8,
   "metadata": {},
   "outputs": [
    {
     "data": {
      "text/plain": [
       "'abcabcabc'"
      ]
     },
     "execution_count": 8,
     "metadata": {},
     "output_type": "execute_result"
    }
   ],
   "source": [
    "json = {\n",
    "    \"input\": {\n",
    "        \"text\": \"abc\",\n",
    "        \"times\": 3,\n",
    "    }\n",
    "}\n",
    "resp = requests.post(f\"{base_url}/lambda/invoke\", json=json)\n",
    "resp.json()[\"output\"]"
   ]
  },
  {
   "cell_type": "code",
   "execution_count": 9,
   "metadata": {},
   "outputs": [
    {
     "data": {
      "text/plain": [
       "['event: metadata',\n",
       " 'data: {\"run_id\": \"ec18ad94-caeb-4b6e-8283-344dcd76a7ac\"}',\n",
       " '',\n",
       " 'event: data',\n",
       " 'data: \"abcabcabc\"',\n",
       " '',\n",
       " 'event: end',\n",
       " '']"
      ]
     },
     "execution_count": 9,
     "metadata": {},
     "output_type": "execute_result"
    }
   ],
   "source": [
    "json = {\n",
    "    \"input\": {\n",
    "        \"text\": \"abc\",\n",
    "        \"times\": 3,\n",
    "    }\n",
    "}\n",
    "resp = requests.post(f\"{base_url}/lambda/stream\", json=json, stream=True)\n",
    "[line for line in resp.iter_lines(decode_unicode=True)]"
   ]
  },
  {
   "cell_type": "markdown",
   "metadata": {},
   "source": [
    "## `RunnableGenerator`でServer-Sent Events"
   ]
  },
  {
   "cell_type": "code",
   "execution_count": 10,
   "metadata": {},
   "outputs": [
    {
     "name": "stdout",
     "output_type": "stream",
     "text": [
      "('0', 'event: metadata')\n",
      "('0', 'data: {\"run_id\": \"ac3e22d7-e497-4a0b-ab22-e5b0bd44dd77\"}')\n",
      "('0', '')\n",
      "('0', 'event: data')\n",
      "('0', 'data: \"h\"')\n",
      "('0', '')\n",
      "('1', 'event: data')\n",
      "('1', 'data: \"e\"')\n",
      "('1', '')\n",
      "('2', 'event: data')\n",
      "('2', 'data: \"l\"')\n",
      "('2', '')\n",
      "('3', 'event: data')\n",
      "('3', 'data: \"l\"')\n",
      "('3', '')\n",
      "('4', 'event: data')\n",
      "('4', 'data: \"o\"')\n",
      "('4', '')\n",
      "('5', 'event: end')\n",
      "('5', '')\n"
     ]
    }
   ],
   "source": [
    "json = {\n",
    "    \"input\": {\n",
    "        \"text\": \"hello\",\n",
    "        \"sleep\": 1,\n",
    "    }\n",
    "}\n",
    "resp = requests.post(f\"{base_url}/generator/stream\", json=json, stream=True)\n",
    "date = datetime.now()\n",
    "for line in resp.iter_lines(decode_unicode=True):\n",
    "    td = datetime.now() - date\n",
    "    print((f\"{td.seconds}\", line))\n"
   ]
  },
  {
   "cell_type": "code",
   "execution_count": 11,
   "metadata": {},
   "outputs": [
    {
     "data": {
      "text/plain": [
       "(datetime.timedelta(seconds=5, microseconds=22568),\n",
       " {'output': 'hello',\n",
       "  'callback_events': [],\n",
       "  'metadata': {'run_id': '247e759e-1597-41ad-b2c9-7c44541cb12b'}})"
      ]
     },
     "execution_count": 11,
     "metadata": {},
     "output_type": "execute_result"
    }
   ],
   "source": [
    "json = {\n",
    "    \"input\": {\n",
    "        \"text\": \"hello\",\n",
    "        \"sleep\": 1,\n",
    "    }\n",
    "}\n",
    "date = datetime.now()\n",
    "resp = requests.post(f\"{base_url}/generator/invoke\", json=json, stream=True)\n",
    "dt = datetime.now() - date\n",
    "dt, resp.json()"
   ]
  }
 ],
 "metadata": {
  "kernelspec": {
   "display_name": "langchain-example-hkYN0PFm-py3.11",
   "language": "python",
   "name": "python3"
  },
  "language_info": {
   "codemirror_mode": {
    "name": "ipython",
    "version": 3
   },
   "file_extension": ".py",
   "mimetype": "text/x-python",
   "name": "python",
   "nbconvert_exporter": "python",
   "pygments_lexer": "ipython3",
   "version": "3.11.6"
  }
 },
 "nbformat": 4,
 "nbformat_minor": 2
}
