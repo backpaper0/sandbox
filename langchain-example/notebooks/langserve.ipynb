{
 "cells": [
  {
   "cell_type": "markdown",
   "metadata": {},
   "source": [
    "# LangServeで遊ぶ"
   ]
  },
  {
   "cell_type": "markdown",
   "metadata": {},
   "source": [
    "次のコマンドでWebアプリケーションを起動してからノートブックを実行していく。\n",
    "\n",
    "```sh\n",
    "poetry run task start\n",
    "```"
   ]
  },
  {
   "cell_type": "code",
   "execution_count": 1,
   "metadata": {},
   "outputs": [],
   "source": [
    "import requests\n",
    "from datetime import datetime\n",
    "\n",
    "base_url = \"http://localhost:8000\""
   ]
  },
  {
   "cell_type": "markdown",
   "metadata": {},
   "source": [
    "## とりあえずOpenAIでチャット"
   ]
  },
  {
   "cell_type": "code",
   "execution_count": 2,
   "metadata": {},
   "outputs": [
    {
     "data": {
      "text/plain": [
       "{'output': {'content': '東京（とうきょう）です。',\n",
       "  'additional_kwargs': {},\n",
       "  'type': 'ai',\n",
       "  'name': None,\n",
       "  'id': None,\n",
       "  'example': False},\n",
       " 'callback_events': [],\n",
       " 'metadata': {'run_id': 'c65ade24-93cd-49fb-a7ff-c7402e88dd25'}}"
      ]
     },
     "execution_count": 2,
     "metadata": {},
     "output_type": "execute_result"
    }
   ],
   "source": [
    "json = {\n",
    "    \"input\": \"日本の首都は？\"\n",
    "}\n",
    "resp = requests.post(f\"{base_url}/chat1/invoke\", json=json)\n",
    "resp.json()"
   ]
  },
  {
   "cell_type": "code",
   "execution_count": 3,
   "metadata": {},
   "outputs": [
    {
     "data": {
      "text/plain": [
       "['event: metadata',\n",
       " 'data: {\"run_id\": \"40f36355-2c77-4758-8ee5-05cae44c0860\"}',\n",
       " '',\n",
       " 'event: data',\n",
       " 'data: {\"content\":\"\",\"additional_kwargs\":{},\"type\":\"AIMessageChunk\",\"name\":null,\"id\":null,\"example\":false}',\n",
       " '',\n",
       " 'event: data',\n",
       " 'data: {\"content\":\"東\",\"additional_kwargs\":{},\"type\":\"AIMessageChunk\",\"name\":null,\"id\":null,\"example\":false}',\n",
       " '',\n",
       " 'event: data',\n",
       " 'data: {\"content\":\"京\",\"additional_kwargs\":{},\"type\":\"AIMessageChunk\",\"name\":null,\"id\":null,\"example\":false}',\n",
       " '',\n",
       " 'event: data',\n",
       " 'data: {\"content\":\"です\",\"additional_kwargs\":{},\"type\":\"AIMessageChunk\",\"name\":null,\"id\":null,\"example\":false}',\n",
       " '',\n",
       " 'event: data',\n",
       " 'data: {\"content\":\"。\",\"additional_kwargs\":{},\"type\":\"AIMessageChunk\",\"name\":null,\"id\":null,\"example\":false}',\n",
       " '',\n",
       " 'event: data',\n",
       " 'data: {\"content\":\"\",\"additional_kwargs\":{},\"type\":\"AIMessageChunk\",\"name\":null,\"id\":null,\"example\":false}',\n",
       " '',\n",
       " 'event: end',\n",
       " '']"
      ]
     },
     "execution_count": 3,
     "metadata": {},
     "output_type": "execute_result"
    }
   ],
   "source": [
    "json = {\n",
    "    \"input\": \"日本の首都は？\"\n",
    "}\n",
    "resp = requests.post(f\"{base_url}/chat1/stream\", json=json, stream=True)\n",
    "[line for line in resp.iter_lines(decode_unicode=True)]"
   ]
  },
  {
   "cell_type": "markdown",
   "metadata": {},
   "source": [
    "## `RunnablePassthrough`で入力と出力を確認してみる"
   ]
  },
  {
   "cell_type": "code",
   "execution_count": 4,
   "metadata": {},
   "outputs": [
    {
     "data": {
      "text/plain": [
       "'日本の首都は？'"
      ]
     },
     "execution_count": 4,
     "metadata": {},
     "output_type": "execute_result"
    }
   ],
   "source": [
    "json = {\n",
    "    \"input\": \"日本の首都は？\"\n",
    "}\n",
    "resp = requests.post(f\"{base_url}/passthrough/invoke\", json=json)\n",
    "resp.json()[\"output\"]"
   ]
  },
  {
   "cell_type": "code",
   "execution_count": 5,
   "metadata": {},
   "outputs": [
    {
     "data": {
      "text/plain": [
       "{'question': '日本の首都は？'}"
      ]
     },
     "execution_count": 5,
     "metadata": {},
     "output_type": "execute_result"
    }
   ],
   "source": [
    "json = {\n",
    "    \"input\": {\n",
    "        \"question\": \"日本の首都は？\"\n",
    "    }\n",
    "}\n",
    "resp = requests.post(f\"{base_url}/passthrough/invoke\", json=json)\n",
    "resp.json()[\"output\"]"
   ]
  },
  {
   "cell_type": "code",
   "execution_count": 6,
   "metadata": {},
   "outputs": [
    {
     "data": {
      "text/plain": [
       "['日本の首都は？']"
      ]
     },
     "execution_count": 6,
     "metadata": {},
     "output_type": "execute_result"
    }
   ],
   "source": [
    "json = {\n",
    "    \"input\": [ \"日本の首都は？\" ]\n",
    "}\n",
    "resp = requests.post(f\"{base_url}/passthrough/invoke\", json=json)\n",
    "resp.json()[\"output\"]"
   ]
  },
  {
   "cell_type": "code",
   "execution_count": 7,
   "metadata": {},
   "outputs": [
    {
     "data": {
      "text/plain": [
       "['event: metadata',\n",
       " 'data: {\"run_id\": \"a6e617eb-34e7-4491-8653-b73f30fdd708\"}',\n",
       " '',\n",
       " 'event: data',\n",
       " 'data: \"日本の首都は？\"',\n",
       " '',\n",
       " 'event: end',\n",
       " '']"
      ]
     },
     "execution_count": 7,
     "metadata": {},
     "output_type": "execute_result"
    }
   ],
   "source": [
    "resp = requests.post(f\"{base_url}/passthrough/stream\", json={ \"input\": \"日本の首都は？\" }, stream=True)\n",
    "[line for line in resp.iter_lines(decode_unicode=True)]"
   ]
  },
  {
   "cell_type": "markdown",
   "metadata": {},
   "source": [
    "## `RunnableLambda`"
   ]
  },
  {
   "cell_type": "code",
   "execution_count": 8,
   "metadata": {},
   "outputs": [
    {
     "data": {
      "text/plain": [
       "'abcabcabc'"
      ]
     },
     "execution_count": 8,
     "metadata": {},
     "output_type": "execute_result"
    }
   ],
   "source": [
    "json = {\n",
    "    \"input\": {\n",
    "        \"text\": \"abc\",\n",
    "        \"times\": 3,\n",
    "    }\n",
    "}\n",
    "resp = requests.post(f\"{base_url}/lambda/invoke\", json=json)\n",
    "resp.json()[\"output\"]"
   ]
  },
  {
   "cell_type": "code",
   "execution_count": 9,
   "metadata": {},
   "outputs": [
    {
     "data": {
      "text/plain": [
       "['event: metadata',\n",
       " 'data: {\"run_id\": \"d6b1df50-3e27-4826-af62-b4ec37bfae13\"}',\n",
       " '',\n",
       " 'event: data',\n",
       " 'data: \"abcabcabc\"',\n",
       " '',\n",
       " 'event: end',\n",
       " '']"
      ]
     },
     "execution_count": 9,
     "metadata": {},
     "output_type": "execute_result"
    }
   ],
   "source": [
    "json = {\n",
    "    \"input\": {\n",
    "        \"text\": \"abc\",\n",
    "        \"times\": 3,\n",
    "    }\n",
    "}\n",
    "resp = requests.post(f\"{base_url}/lambda/stream\", json=json, stream=True)\n",
    "[line for line in resp.iter_lines(decode_unicode=True)]"
   ]
  },
  {
   "cell_type": "markdown",
   "metadata": {},
   "source": [
    "## `RunnableGenerator`でServer-Sent Events"
   ]
  },
  {
   "cell_type": "code",
   "execution_count": 10,
   "metadata": {},
   "outputs": [
    {
     "name": "stdout",
     "output_type": "stream",
     "text": [
      "('0', 'event: metadata')\n",
      "('0', 'data: {\"run_id\": \"b1af8c93-7033-457b-9c27-bf2fd9d893dd\"}')\n",
      "('0', '')\n",
      "('0', 'event: data')\n",
      "('0', 'data: \"h\"')\n",
      "('0', '')\n",
      "('1', 'event: data')\n",
      "('1', 'data: \"e\"')\n",
      "('1', '')\n",
      "('2', 'event: data')\n",
      "('2', 'data: \"l\"')\n",
      "('2', '')\n",
      "('3', 'event: data')\n",
      "('3', 'data: \"l\"')\n",
      "('3', '')\n",
      "('4', 'event: data')\n",
      "('4', 'data: \"o\"')\n",
      "('4', '')\n",
      "('5', 'event: end')\n",
      "('5', '')\n"
     ]
    }
   ],
   "source": [
    "json = {\n",
    "    \"input\": {\n",
    "        \"text\": \"hello\",\n",
    "        \"sleep\": 1,\n",
    "    }\n",
    "}\n",
    "resp = requests.post(f\"{base_url}/generator/stream\", json=json, stream=True)\n",
    "date = datetime.now()\n",
    "for line in resp.iter_lines(decode_unicode=True):\n",
    "    td = datetime.now() - date\n",
    "    print((f\"{td.seconds}\", line))\n"
   ]
  },
  {
   "cell_type": "code",
   "execution_count": 11,
   "metadata": {},
   "outputs": [
    {
     "data": {
      "text/plain": [
       "(datetime.timedelta(seconds=5, microseconds=17855),\n",
       " {'output': 'hello',\n",
       "  'callback_events': [],\n",
       "  'metadata': {'run_id': 'cc42f55e-fa2a-4c98-ac95-9b63a810cd2c'}})"
      ]
     },
     "execution_count": 11,
     "metadata": {},
     "output_type": "execute_result"
    }
   ],
   "source": [
    "json = {\n",
    "    \"input\": {\n",
    "        \"text\": \"hello\",\n",
    "        \"sleep\": 1,\n",
    "    }\n",
    "}\n",
    "date = datetime.now()\n",
    "resp = requests.post(f\"{base_url}/generator/invoke\", json=json, stream=True)\n",
    "dt = datetime.now() - date\n",
    "dt, resp.json()"
   ]
  },
  {
   "cell_type": "markdown",
   "metadata": {},
   "source": [
    "## チェーンしてみる"
   ]
  },
  {
   "cell_type": "code",
   "execution_count": 12,
   "metadata": {},
   "outputs": [
    {
     "name": "stdout",
     "output_type": "stream",
     "text": [
      "('1', 'event: metadata')\n",
      "('1', 'data: {\"run_id\": \"c420fc1a-dc54-4acb-8fba-4c448c890a93\"}')\n",
      "('1', '')\n",
      "('1', 'event: data')\n",
      "('1', 'data: {\"bar\":\"barhello1\"}')\n",
      "('1', '')\n",
      "('2', 'event: data')\n",
      "('2', 'data: {\"foo\":\"foohello1\"}')\n",
      "('2', '')\n",
      "('3', 'event: data')\n",
      "('3', 'data: {\"bar\":\"barhello2\"}')\n",
      "('3', '')\n",
      "('3', 'event: data')\n",
      "('3', 'data: {\"foo\":\"foohello2\"}')\n",
      "('3', '')\n",
      "('4', 'event: data')\n",
      "('4', 'data: {\"bar\":\"barhello3\"}')\n",
      "('4', '')\n",
      "('4', 'event: data')\n",
      "('4', 'data: {\"foo\":\"foohello3\"}')\n",
      "('4', '')\n",
      "('4', 'event: data')\n",
      "('4', 'data: {\"foobar\":\"foobar\"}')\n",
      "('4', '')\n",
      "('4', 'event: end')\n",
      "('4', '')\n"
     ]
    }
   ],
   "source": [
    "json = {\n",
    "    \"input\": \"hello\",\n",
    "}\n",
    "resp = requests.post(f\"{base_url}/chain1/stream\", json=json, stream=True)\n",
    "date = datetime.now()\n",
    "for line in resp.iter_lines(decode_unicode=True):\n",
    "    td = datetime.now() - date\n",
    "    print((f\"{td.seconds}\", line))\n"
   ]
  },
  {
   "cell_type": "markdown",
   "metadata": {},
   "source": [
    "### 会話する"
   ]
  },
  {
   "cell_type": "code",
   "execution_count": 13,
   "metadata": {},
   "outputs": [
    {
     "data": {
      "text/plain": [
       "{'output': '東京です。',\n",
       " 'callback_events': [],\n",
       " 'metadata': {'run_id': '2a4b5673-5385-4e5b-917d-ae4999e417d8'}}"
      ]
     },
     "execution_count": 13,
     "metadata": {},
     "output_type": "execute_result"
    }
   ],
   "source": [
    "session_id = \"e4d63ba5-627f-4854-b53e-5d7a83926319\"\n",
    "json = {\n",
    "    \"input\": {\n",
    "        \"question\": \"日本の首都は？\",\n",
    "    },\n",
    "    \"config\": {\n",
    "        \"configurable\": {\n",
    "            \"session_id\": session_id,\n",
    "        },\n",
    "    },\n",
    "}\n",
    "resp = requests.post(f\"{base_url}/chat2/invoke\", json=json)\n",
    "resp.json()"
   ]
  },
  {
   "cell_type": "code",
   "execution_count": 14,
   "metadata": {},
   "outputs": [
    {
     "data": {
      "text/plain": [
       "{'output': 'ローマです。',\n",
       " 'callback_events': [],\n",
       " 'metadata': {'run_id': 'a2df4e95-2566-418b-8273-05ff41e3c056'}}"
      ]
     },
     "execution_count": 14,
     "metadata": {},
     "output_type": "execute_result"
    }
   ],
   "source": [
    "json = {\n",
    "    \"input\": {\n",
    "        \"question\": \"イタリアは？\",\n",
    "    },\n",
    "    \"config\": {\n",
    "        \"configurable\": {\n",
    "            \"session_id\": session_id,\n",
    "        },\n",
    "    },\n",
    "}\n",
    "resp = requests.post(f\"{base_url}/chat2/invoke\", json=json)\n",
    "resp.json()"
   ]
  },
  {
   "cell_type": "code",
   "execution_count": 15,
   "metadata": {},
   "outputs": [
    {
     "data": {
      "text/plain": [
       "{'output': 'パリです。',\n",
       " 'callback_events': [],\n",
       " 'metadata': {'run_id': '9d530ea5-1d47-4ec8-8557-7aea507034d7'}}"
      ]
     },
     "execution_count": 15,
     "metadata": {},
     "output_type": "execute_result"
    }
   ],
   "source": [
    "json = {\n",
    "    \"input\": {\n",
    "        \"question\": \"フランスは？\",\n",
    "    },\n",
    "    \"config\": {\n",
    "        \"configurable\": {\n",
    "            \"session_id\": session_id,\n",
    "        },\n",
    "    },\n",
    "}\n",
    "resp = requests.post(f\"{base_url}/chat2/invoke\", json=json)\n",
    "resp.json()"
   ]
  }
 ],
 "metadata": {
  "kernelspec": {
   "display_name": "langchain-example-hkYN0PFm-py3.11",
   "language": "python",
   "name": "python3"
  },
  "language_info": {
   "codemirror_mode": {
    "name": "ipython",
    "version": 3
   },
   "file_extension": ".py",
   "mimetype": "text/x-python",
   "name": "python",
   "nbconvert_exporter": "python",
   "pygments_lexer": "ipython3",
   "version": "3.11.6"
  }
 },
 "nbformat": 4,
 "nbformat_minor": 2
}
