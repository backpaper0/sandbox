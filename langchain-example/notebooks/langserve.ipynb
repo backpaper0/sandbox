{
 "cells": [
  {
   "cell_type": "markdown",
   "metadata": {},
   "source": [
    "# LangServeで遊ぶ"
   ]
  },
  {
   "cell_type": "markdown",
   "metadata": {},
   "source": [
    "次のコマンドでWebアプリケーションを起動してからノートブックを実行していく。\n",
    "\n",
    "```sh\n",
    "poetry run task start\n",
    "```"
   ]
  },
  {
   "cell_type": "code",
   "execution_count": 1,
   "metadata": {},
   "outputs": [],
   "source": [
    "import requests\n",
    "from datetime import datetime\n",
    "\n",
    "base_url = \"http://localhost:8000\""
   ]
  },
  {
   "cell_type": "markdown",
   "metadata": {},
   "source": [
    "## とりあえずOpenAIでチャット"
   ]
  },
  {
   "cell_type": "code",
   "execution_count": 2,
   "metadata": {},
   "outputs": [
    {
     "data": {
      "text/plain": [
       "{'output': {'content': '東京です。',\n",
       "  'additional_kwargs': {},\n",
       "  'type': 'ai',\n",
       "  'name': None,\n",
       "  'id': None,\n",
       "  'example': False},\n",
       " 'callback_events': [],\n",
       " 'metadata': {'run_id': '2f0754b0-2ea6-4c27-9c9a-0b4dfe78c9c3'}}"
      ]
     },
     "execution_count": 2,
     "metadata": {},
     "output_type": "execute_result"
    }
   ],
   "source": [
    "json = {\n",
    "    \"input\": \"日本の首都は？\"\n",
    "}\n",
    "resp = requests.post(f\"{base_url}/chat/invoke\", json=json)\n",
    "resp.json()"
   ]
  },
  {
   "cell_type": "code",
   "execution_count": 3,
   "metadata": {},
   "outputs": [
    {
     "data": {
      "text/plain": [
       "['event: metadata',\n",
       " 'data: {\"run_id\": \"6b26bbb0-5b90-45aa-9b3e-67faeac5c603\"}',\n",
       " '',\n",
       " 'event: data',\n",
       " 'data: {\"content\":\"\",\"additional_kwargs\":{},\"type\":\"AIMessageChunk\",\"name\":null,\"id\":null,\"example\":false}',\n",
       " '',\n",
       " 'event: data',\n",
       " 'data: {\"content\":\"東\",\"additional_kwargs\":{},\"type\":\"AIMessageChunk\",\"name\":null,\"id\":null,\"example\":false}',\n",
       " '',\n",
       " 'event: data',\n",
       " 'data: {\"content\":\"京\",\"additional_kwargs\":{},\"type\":\"AIMessageChunk\",\"name\":null,\"id\":null,\"example\":false}',\n",
       " '',\n",
       " 'event: data',\n",
       " 'data: {\"content\":\"です\",\"additional_kwargs\":{},\"type\":\"AIMessageChunk\",\"name\":null,\"id\":null,\"example\":false}',\n",
       " '',\n",
       " 'event: data',\n",
       " 'data: {\"content\":\"。\",\"additional_kwargs\":{},\"type\":\"AIMessageChunk\",\"name\":null,\"id\":null,\"example\":false}',\n",
       " '',\n",
       " 'event: data',\n",
       " 'data: {\"content\":\"\",\"additional_kwargs\":{},\"type\":\"AIMessageChunk\",\"name\":null,\"id\":null,\"example\":false}',\n",
       " '',\n",
       " 'event: end',\n",
       " '']"
      ]
     },
     "execution_count": 3,
     "metadata": {},
     "output_type": "execute_result"
    }
   ],
   "source": [
    "json = {\n",
    "    \"input\": \"日本の首都は？\"\n",
    "}\n",
    "resp = requests.post(f\"{base_url}/chat/stream\", json=json, stream=True)\n",
    "[line for line in resp.iter_lines(decode_unicode=True)]"
   ]
  },
  {
   "cell_type": "markdown",
   "metadata": {},
   "source": [
    "## `RunnablePassthrough`で入力と出力を確認してみる"
   ]
  },
  {
   "cell_type": "code",
   "execution_count": 4,
   "metadata": {},
   "outputs": [
    {
     "data": {
      "text/plain": [
       "'日本の首都は？'"
      ]
     },
     "execution_count": 4,
     "metadata": {},
     "output_type": "execute_result"
    }
   ],
   "source": [
    "json = {\n",
    "    \"input\": \"日本の首都は？\"\n",
    "}\n",
    "resp = requests.post(f\"{base_url}/passthrough/invoke\", json=json)\n",
    "resp.json()[\"output\"]"
   ]
  },
  {
   "cell_type": "code",
   "execution_count": 5,
   "metadata": {},
   "outputs": [
    {
     "data": {
      "text/plain": [
       "{'question': '日本の首都は？'}"
      ]
     },
     "execution_count": 5,
     "metadata": {},
     "output_type": "execute_result"
    }
   ],
   "source": [
    "json = {\n",
    "    \"input\": {\n",
    "        \"question\": \"日本の首都は？\"\n",
    "    }\n",
    "}\n",
    "resp = requests.post(f\"{base_url}/passthrough/invoke\", json=json)\n",
    "resp.json()[\"output\"]"
   ]
  },
  {
   "cell_type": "code",
   "execution_count": 6,
   "metadata": {},
   "outputs": [
    {
     "data": {
      "text/plain": [
       "['日本の首都は？']"
      ]
     },
     "execution_count": 6,
     "metadata": {},
     "output_type": "execute_result"
    }
   ],
   "source": [
    "json = {\n",
    "    \"input\": [ \"日本の首都は？\" ]\n",
    "}\n",
    "resp = requests.post(f\"{base_url}/passthrough/invoke\", json=json)\n",
    "resp.json()[\"output\"]"
   ]
  },
  {
   "cell_type": "code",
   "execution_count": 7,
   "metadata": {},
   "outputs": [
    {
     "data": {
      "text/plain": [
       "['event: metadata',\n",
       " 'data: {\"run_id\": \"b3b3e5c1-0589-4066-8efe-dfa222ab26a4\"}',\n",
       " '',\n",
       " 'event: data',\n",
       " 'data: \"日本の首都は？\"',\n",
       " '',\n",
       " 'event: end',\n",
       " '']"
      ]
     },
     "execution_count": 7,
     "metadata": {},
     "output_type": "execute_result"
    }
   ],
   "source": [
    "resp = requests.post(f\"{base_url}/passthrough/stream\", json={ \"input\": \"日本の首都は？\" }, stream=True)\n",
    "[line for line in resp.iter_lines(decode_unicode=True)]"
   ]
  },
  {
   "cell_type": "markdown",
   "metadata": {},
   "source": [
    "## `RunnableLambda`"
   ]
  },
  {
   "cell_type": "code",
   "execution_count": 8,
   "metadata": {},
   "outputs": [
    {
     "data": {
      "text/plain": [
       "'abcabcabc'"
      ]
     },
     "execution_count": 8,
     "metadata": {},
     "output_type": "execute_result"
    }
   ],
   "source": [
    "json = {\n",
    "    \"input\": {\n",
    "        \"text\": \"abc\",\n",
    "        \"times\": 3,\n",
    "    }\n",
    "}\n",
    "resp = requests.post(f\"{base_url}/lambda/invoke\", json=json)\n",
    "resp.json()[\"output\"]"
   ]
  },
  {
   "cell_type": "code",
   "execution_count": 9,
   "metadata": {},
   "outputs": [
    {
     "data": {
      "text/plain": [
       "['event: metadata',\n",
       " 'data: {\"run_id\": \"8139d16d-d9c2-4a92-8322-e353afb27ca8\"}',\n",
       " '',\n",
       " 'event: data',\n",
       " 'data: \"abcabcabc\"',\n",
       " '',\n",
       " 'event: end',\n",
       " '']"
      ]
     },
     "execution_count": 9,
     "metadata": {},
     "output_type": "execute_result"
    }
   ],
   "source": [
    "json = {\n",
    "    \"input\": {\n",
    "        \"text\": \"abc\",\n",
    "        \"times\": 3,\n",
    "    }\n",
    "}\n",
    "resp = requests.post(f\"{base_url}/lambda/stream\", json=json, stream=True)\n",
    "[line for line in resp.iter_lines(decode_unicode=True)]"
   ]
  },
  {
   "cell_type": "markdown",
   "metadata": {},
   "source": [
    "## `RunnableGenerator`でServer-Sent Events"
   ]
  },
  {
   "cell_type": "code",
   "execution_count": 10,
   "metadata": {},
   "outputs": [
    {
     "name": "stdout",
     "output_type": "stream",
     "text": [
      "('0', 'event: metadata')\n",
      "('0', 'data: {\"run_id\": \"792127e7-78f8-4c9a-9eb0-c1bbf0160d7a\"}')\n",
      "('0', '')\n",
      "('0', 'event: data')\n",
      "('0', 'data: \"h\"')\n",
      "('0', '')\n",
      "('1', 'event: data')\n",
      "('1', 'data: \"e\"')\n",
      "('1', '')\n",
      "('2', 'event: data')\n",
      "('2', 'data: \"l\"')\n",
      "('2', '')\n",
      "('3', 'event: data')\n",
      "('3', 'data: \"l\"')\n",
      "('3', '')\n",
      "('4', 'event: data')\n",
      "('4', 'data: \"o\"')\n",
      "('4', '')\n",
      "('5', 'event: end')\n",
      "('5', '')\n"
     ]
    }
   ],
   "source": [
    "json = {\n",
    "    \"input\": {\n",
    "        \"text\": \"hello\",\n",
    "        \"sleep\": 1,\n",
    "    }\n",
    "}\n",
    "resp = requests.post(f\"{base_url}/generator/stream\", json=json, stream=True)\n",
    "date = datetime.now()\n",
    "for line in resp.iter_lines(decode_unicode=True):\n",
    "    td = datetime.now() - date\n",
    "    print((f\"{td.seconds}\", line))\n"
   ]
  },
  {
   "cell_type": "code",
   "execution_count": 11,
   "metadata": {},
   "outputs": [
    {
     "data": {
      "text/plain": [
       "(datetime.timedelta(seconds=5, microseconds=22577),\n",
       " {'output': 'hello',\n",
       "  'callback_events': [],\n",
       "  'metadata': {'run_id': 'e5750eaf-62a3-4f74-a1d4-b85d3dbf5578'}})"
      ]
     },
     "execution_count": 11,
     "metadata": {},
     "output_type": "execute_result"
    }
   ],
   "source": [
    "json = {\n",
    "    \"input\": {\n",
    "        \"text\": \"hello\",\n",
    "        \"sleep\": 1,\n",
    "    }\n",
    "}\n",
    "date = datetime.now()\n",
    "resp = requests.post(f\"{base_url}/generator/invoke\", json=json, stream=True)\n",
    "dt = datetime.now() - date\n",
    "dt, resp.json()"
   ]
  },
  {
   "cell_type": "markdown",
   "metadata": {},
   "source": [
    "## チェーンしてみる"
   ]
  },
  {
   "cell_type": "code",
   "execution_count": 12,
   "metadata": {},
   "outputs": [
    {
     "name": "stdout",
     "output_type": "stream",
     "text": [
      "('1', 'event: metadata')\n",
      "('1', 'data: {\"run_id\": \"f50ca9e9-3188-4b2e-853c-eaba9a8a2321\"}')\n",
      "('1', '')\n",
      "('1', 'event: data')\n",
      "('1', 'data: {\"bar\":\"barhello1\"}')\n",
      "('1', '')\n",
      "('2', 'event: data')\n",
      "('2', 'data: {\"foo\":\"foohello1\"}')\n",
      "('2', '')\n",
      "('3', 'event: data')\n",
      "('3', 'data: {\"bar\":\"barhello2\"}')\n",
      "('3', '')\n",
      "('3', 'event: data')\n",
      "('3', 'data: {\"foo\":\"foohello2\"}')\n",
      "('3', '')\n",
      "('4', 'event: data')\n",
      "('4', 'data: {\"bar\":\"barhello3\"}')\n",
      "('4', '')\n",
      "('4', 'event: data')\n",
      "('4', 'data: {\"foo\":\"foohello3\"}')\n",
      "('4', '')\n",
      "('4', 'event: data')\n",
      "('4', 'data: {\"foobar\":\"foobar\"}')\n",
      "('4', '')\n",
      "('4', 'event: end')\n",
      "('4', '')\n"
     ]
    }
   ],
   "source": [
    "json = {\n",
    "    \"input\": \"hello\",\n",
    "}\n",
    "resp = requests.post(f\"{base_url}/chain1/stream\", json=json, stream=True)\n",
    "date = datetime.now()\n",
    "for line in resp.iter_lines(decode_unicode=True):\n",
    "    td = datetime.now() - date\n",
    "    print((f\"{td.seconds}\", line))\n"
   ]
  },
  {
   "cell_type": "markdown",
   "metadata": {},
   "source": [
    "### 会話する"
   ]
  },
  {
   "cell_type": "code",
   "execution_count": 13,
   "metadata": {},
   "outputs": [
    {
     "data": {
      "text/plain": [
       "{'output': '東京です。',\n",
       " 'callback_events': [],\n",
       " 'metadata': {'run_id': 'b23ada58-3a1e-4faf-b0fe-54dcfe8f0d7a'}}"
      ]
     },
     "execution_count": 13,
     "metadata": {},
     "output_type": "execute_result"
    }
   ],
   "source": [
    "session_id = \"e4d63ba5-627f-4854-b53e-5d7a83926319\"\n",
    "json = {\n",
    "    \"input\": {\n",
    "        \"question\": \"日本の首都は？\",\n",
    "    },\n",
    "    \"config\": {\n",
    "        \"configurable\": {\n",
    "            \"session_id\": session_id,\n",
    "        },\n",
    "    },\n",
    "}\n",
    "resp = requests.post(f\"{base_url}/chatbot/invoke\", json=json)\n",
    "resp.json()"
   ]
  },
  {
   "cell_type": "code",
   "execution_count": 14,
   "metadata": {},
   "outputs": [
    {
     "data": {
      "text/plain": [
       "{'output': 'ローマです。',\n",
       " 'callback_events': [],\n",
       " 'metadata': {'run_id': '6b8020f7-8d91-4a8b-86b2-0d924d9f44a1'}}"
      ]
     },
     "execution_count": 14,
     "metadata": {},
     "output_type": "execute_result"
    }
   ],
   "source": [
    "json = {\n",
    "    \"input\": {\n",
    "        \"question\": \"イタリアは？\",\n",
    "    },\n",
    "    \"config\": {\n",
    "        \"configurable\": {\n",
    "            \"session_id\": session_id,\n",
    "        },\n",
    "    },\n",
    "}\n",
    "resp = requests.post(f\"{base_url}/chatbot/invoke\", json=json)\n",
    "resp.json()"
   ]
  },
  {
   "cell_type": "code",
   "execution_count": 15,
   "metadata": {},
   "outputs": [
    {
     "data": {
      "text/plain": [
       "{'output': 'パリです。',\n",
       " 'callback_events': [],\n",
       " 'metadata': {'run_id': 'af601a92-95f5-4411-a12a-851dd4183a49'}}"
      ]
     },
     "execution_count": 15,
     "metadata": {},
     "output_type": "execute_result"
    }
   ],
   "source": [
    "json = {\n",
    "    \"input\": {\n",
    "        \"question\": \"フランスは？\",\n",
    "    },\n",
    "    \"config\": {\n",
    "        \"configurable\": {\n",
    "            \"session_id\": session_id,\n",
    "        },\n",
    "    },\n",
    "}\n",
    "resp = requests.post(f\"{base_url}/chatbot/invoke\", json=json)\n",
    "resp.json()"
   ]
  }
 ],
 "metadata": {
  "kernelspec": {
   "display_name": "langchain-example-hkYN0PFm-py3.11",
   "language": "python",
   "name": "python3"
  },
  "language_info": {
   "codemirror_mode": {
    "name": "ipython",
    "version": 3
   },
   "file_extension": ".py",
   "mimetype": "text/x-python",
   "name": "python",
   "nbconvert_exporter": "python",
   "pygments_lexer": "ipython3",
   "version": "3.11.6"
  }
 },
 "nbformat": 4,
 "nbformat_minor": 2
}
