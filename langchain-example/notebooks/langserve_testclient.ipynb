{
 "cells": [
  {
   "cell_type": "code",
   "execution_count": 1,
   "metadata": {},
   "outputs": [],
   "source": [
    "from fastapi import FastAPI\n",
    "from fastapi.testclient import TestClient\n",
    "from langchain_core.runnables import ConfigurableFieldSpec, RunnablePassthrough\n",
    "from langserve import add_routes\n",
    "from typing import List"
   ]
  },
  {
   "cell_type": "code",
   "execution_count": 2,
   "metadata": {},
   "outputs": [
    {
     "data": {
      "text/plain": [
       "{'output': 'Hello, world!',\n",
       " 'callback_events': [],\n",
       " 'metadata': {'run_id': 'a8971b0c-537a-4824-b561-b76ed5b54d96'}}"
      ]
     },
     "execution_count": 2,
     "metadata": {},
     "output_type": "execute_result"
    }
   ],
   "source": [
    "app = FastAPI()\n",
    "\n",
    "chain = RunnablePassthrough()\n",
    "\n",
    "add_routes(\n",
    "    app,\n",
    "    chain,\n",
    "    path=\"/example\",\n",
    ")\n",
    "\n",
    "# 結果が見づらいのでLangServeのロゴとパスのログを出力するイベントハンドラーを消す\n",
    "app.router.on_startup.clear()\n",
    "\n",
    "with TestClient(app) as client:\n",
    "    req_body = {\n",
    "        \"input\": \"Hello, world!\",\n",
    "    }\n",
    "    resp = client.post(\"http://testserver/example/invoke\", json=req_body)\n",
    "\n",
    "resp.json()"
   ]
  },
  {
   "cell_type": "markdown",
   "metadata": {},
   "source": [
    "## configurableを使う"
   ]
  },
  {
   "cell_type": "code",
   "execution_count": 3,
   "metadata": {},
   "outputs": [
    {
     "data": {
      "text/plain": [
       "{'output': {'input': 'Hello, world!', 'config': {'bar': 'BAR', 'foo': 'FOO'}},\n",
       " 'callback_events': [],\n",
       " 'metadata': {'run_id': '3fa383d0-dabb-4e15-a5d4-c7310dc1a49c'}}"
      ]
     },
     "execution_count": 3,
     "metadata": {},
     "output_type": "execute_result"
    }
   ],
   "source": [
    "from langchain_core.runnables.config import RunnableConfig\n",
    "\n",
    "\n",
    "app = FastAPI()\n",
    "\n",
    "\n",
    "class MyRunnablePassthrough(RunnablePassthrough):\n",
    "    @property\n",
    "    def config_specs(self) -> List[ConfigurableFieldSpec]:\n",
    "        return [\n",
    "            ConfigurableFieldSpec(id=\"foo\", annotation=str),\n",
    "            ConfigurableFieldSpec(id=\"bar\", annotation=str),\n",
    "        ]\n",
    "\n",
    "\n",
    "chain = MyRunnablePassthrough() | (\n",
    "    lambda input, config: {\n",
    "        \"input\": input,\n",
    "        \"config\": config[\"configurable\"] if \"configurable\" in config else None,\n",
    "    }\n",
    ")\n",
    "\n",
    "add_routes(\n",
    "    app,\n",
    "    chain,\n",
    "    path=\"/example\",\n",
    ")\n",
    "\n",
    "# 結果が見づらいのでLangServeのロゴとパスのログを出力するイベントハンドラーを消す\n",
    "app.router.on_startup.clear()\n",
    "\n",
    "with TestClient(app) as client:\n",
    "    req_body = {\n",
    "        \"input\": \"Hello, world!\",\n",
    "        \"config\": {\n",
    "            \"configurable\": {\n",
    "                \"foo\": \"FOO\",\n",
    "                \"bar\": \"BAR\",\n",
    "                \"baz\": \"BAZ\",\n",
    "                \"qux\": \"QUX\",\n",
    "            }\n",
    "        },\n",
    "    }\n",
    "    resp = client.post(\"http://testserver/example/invoke\", json=req_body)\n",
    "\n",
    "resp.json()"
   ]
  }
 ],
 "metadata": {
  "kernelspec": {
   "display_name": "langchain-example-hkYN0PFm-py3.11",
   "language": "python",
   "name": "python3"
  },
  "language_info": {
   "codemirror_mode": {
    "name": "ipython",
    "version": 3
   },
   "file_extension": ".py",
   "mimetype": "text/x-python",
   "name": "python",
   "nbconvert_exporter": "python",
   "pygments_lexer": "ipython3",
   "version": "3.11.6"
  }
 },
 "nbformat": 4,
 "nbformat_minor": 2
}
