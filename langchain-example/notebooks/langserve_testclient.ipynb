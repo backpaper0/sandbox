{
 "cells": [
  {
   "cell_type": "code",
   "execution_count": 1,
   "metadata": {},
   "outputs": [],
   "source": [
    "from fastapi import FastAPI\n",
    "from langserve import add_routes\n",
    "from fastapi.testclient import TestClient\n",
    "from langchain_core.runnables import ConfigurableField, RunnableLambda, RunnablePassthrough\n",
    "from langchain_core.runnables.configurable import RunnableConfigurableFields"
   ]
  },
  {
   "cell_type": "code",
   "execution_count": 2,
   "metadata": {},
   "outputs": [
    {
     "name": "stdout",
     "output_type": "stream",
     "text": [
      "200\n",
      "{'output': 'Hello, world!', 'callback_events': [], 'metadata': {'run_id': '80feb6b1-4042-4ae8-8f10-7d8f5d65b999'}}\n"
     ]
    }
   ],
   "source": [
    "app = FastAPI()\n",
    "\n",
    "chain = RunnablePassthrough()\n",
    "\n",
    "add_routes(\n",
    "    app,\n",
    "    chain,\n",
    "    path=\"/example\",\n",
    ")\n",
    "\n",
    "# 結果が見づらいのでLangServeのロゴとパスのログを出力するイベントハンドラーを消す\n",
    "app.router.on_startup.clear()\n",
    "\n",
    "with TestClient(app) as client:\n",
    "    req_body = {\n",
    "        \"input\": \"Hello, world!\",\n",
    "    }\n",
    "    resp = client.post(\"http://testserver/example/invoke\", json=req_body)\n",
    "    print(resp.status_code)\n",
    "    print(resp.json())"
   ]
  }
 ],
 "metadata": {
  "kernelspec": {
   "display_name": "langchain-example-hkYN0PFm-py3.11",
   "language": "python",
   "name": "python3"
  },
  "language_info": {
   "codemirror_mode": {
    "name": "ipython",
    "version": 3
   },
   "file_extension": ".py",
   "mimetype": "text/x-python",
   "name": "python",
   "nbconvert_exporter": "python",
   "pygments_lexer": "ipython3",
   "version": "3.11.6"
  }
 },
 "nbformat": 4,
 "nbformat_minor": 2
}
