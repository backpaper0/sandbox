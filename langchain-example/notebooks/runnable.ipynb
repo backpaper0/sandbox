{
 "cells": [
  {
   "cell_type": "markdown",
   "metadata": {},
   "source": [
    "# Runnable を理解したい"
   ]
  },
  {
   "cell_type": "code",
   "execution_count": 1,
   "metadata": {},
   "outputs": [],
   "source": [
    "from langchain_core.runnables import (\n",
    "    Runnable,\n",
    "    RunnableAssign,\n",
    "    RunnableBinding,\n",
    "    RunnableBranch,\n",
    "    RunnableConfig,\n",
    "    RunnableGenerator,\n",
    "    RunnableLambda,\n",
    "    RunnableParallel,\n",
    "    RunnablePassthrough,\n",
    "    RunnablePick,\n",
    "    RunnableWithFallbacks,\n",
    ")\n",
    "from typing import Any, Iterator\n",
    "import asyncio\n"
   ]
  },
  {
   "cell_type": "markdown",
   "metadata": {},
   "source": [
    "### 入力をそのまま後続へ渡す（`RunnablePassthrough`）"
   ]
  },
  {
   "cell_type": "code",
   "execution_count": 2,
   "metadata": {},
   "outputs": [
    {
     "data": {
      "text/plain": [
       "'foobar'"
      ]
     },
     "execution_count": 2,
     "metadata": {},
     "output_type": "execute_result"
    }
   ],
   "source": [
    "chain = RunnablePassthrough()\n",
    "\n",
    "chain.invoke(\"foobar\")"
   ]
  },
  {
   "cell_type": "markdown",
   "metadata": {},
   "source": [
    "### `RunnableLambda`"
   ]
  },
  {
   "cell_type": "code",
   "execution_count": 3,
   "metadata": {},
   "outputs": [
    {
     "data": {
      "text/plain": [
       "2"
      ]
     },
     "execution_count": 3,
     "metadata": {},
     "output_type": "execute_result"
    }
   ],
   "source": [
    "chain = RunnableLambda(lambda x: x * 2)\n",
    "\n",
    "chain.invoke(1)"
   ]
  },
  {
   "cell_type": "markdown",
   "metadata": {},
   "source": [
    "`RunnableConfig`を受け取る。"
   ]
  },
  {
   "cell_type": "code",
   "execution_count": 4,
   "metadata": {},
   "outputs": [
    {
     "data": {
      "text/plain": [
       "{'tags': [],\n",
       " 'metadata': {},\n",
       " 'callbacks': <langchain_core.callbacks.manager.CallbackManager at 0x113846190>,\n",
       " 'recursion_limit': 25}"
      ]
     },
     "execution_count": 4,
     "metadata": {},
     "output_type": "execute_result"
    }
   ],
   "source": [
    "# 第二引数で受け取る\n",
    "# configという名前でなければいけない\n",
    "chain = RunnableLambda(lambda _, config: config)\n",
    "\n",
    "chain.invoke(None)"
   ]
  },
  {
   "cell_type": "markdown",
   "metadata": {},
   "source": [
    "出力に足す。"
   ]
  },
  {
   "cell_type": "code",
   "execution_count": 5,
   "metadata": {},
   "outputs": [
    {
     "data": {
      "text/plain": [
       "{'x': 1, 'y': 2}"
      ]
     },
     "execution_count": 5,
     "metadata": {},
     "output_type": "execute_result"
    }
   ],
   "source": [
    "chain = (\n",
    "    RunnableLambda(lambda x: { \"x\": x })\n",
    "        .assign(y=RunnableLambda(lambda _, config: config[\"configurable\"][\"y\"]))\n",
    ")\n",
    "\n",
    "chain.invoke(1, {\n",
    "    \"configurable\": {\n",
    "        \"y\": 2\n",
    "    }\n",
    "})"
   ]
  },
  {
   "cell_type": "markdown",
   "metadata": {},
   "source": [
    "`Runnable`を返しても良いみたい。"
   ]
  },
  {
   "cell_type": "code",
   "execution_count": 6,
   "metadata": {},
   "outputs": [
    {
     "data": {
      "text/plain": [
       "'hello'"
      ]
     },
     "execution_count": 6,
     "metadata": {},
     "output_type": "execute_result"
    }
   ],
   "source": [
    "chain = RunnableLambda(lambda _: RunnablePassthrough())\n",
    "\n",
    "chain.invoke(\"hello\")"
   ]
  },
  {
   "cell_type": "markdown",
   "metadata": {},
   "source": [
    "### 複数のRunnableを並行に処理してdictを出力する（`RunnableParallel`）"
   ]
  },
  {
   "cell_type": "code",
   "execution_count": 7,
   "metadata": {},
   "outputs": [
    {
     "data": {
      "text/plain": [
       "({'origin': 10, 'increment': 11, 'twice': 20},\n",
       " langchain_core.runnables.base.RunnableLambda,\n",
       " langchain_core.runnables.base.RunnableLambda)"
      ]
     },
     "execution_count": 7,
     "metadata": {},
     "output_type": "execute_result"
    }
   ],
   "source": [
    "def twice(a: int) -> int:\n",
    "    return a * 2\n",
    "\n",
    "chain = RunnableParallel(\n",
    "    origin=RunnablePassthrough(),\n",
    "    increment=lambda x: x+1,\n",
    "    twice=twice,\n",
    ")\n",
    "\n",
    "(\n",
    "    chain.invoke(10),\n",
    "    type(chain.steps[\"increment\"]), # ラムダ式は RunnableLambda になる\n",
    "    type(chain.steps[\"twice\"]), # 関数も RunnableLambda になる\n",
    ")"
   ]
  },
  {
   "cell_type": "markdown",
   "metadata": {},
   "source": [
    "### シーケンス（`RunnableSequence`）"
   ]
  },
  {
   "cell_type": "code",
   "execution_count": 8,
   "metadata": {},
   "outputs": [
    {
     "data": {
      "text/plain": [
       "({'foo': 'foobar', 'bar': 'foobar'},\n",
       " langchain_core.runnables.base.RunnableSequence,\n",
       " langchain_core.runnables.base.RunnableLambda)"
      ]
     },
     "execution_count": 8,
     "metadata": {},
     "output_type": "execute_result"
    }
   ],
   "source": [
    "# a | b | c といったチェーンは RunnableSequence になる\n",
    "# a | { \"b\": b, \"c\": c } といったチェーンのdict部分は RunnableParallel になる\n",
    "chain = (\n",
    "    RunnableLambda(lambda a: f\"{a}bar\")\n",
    "    | {\n",
    "        \"foo\": RunnablePassthrough(),\n",
    "        \"bar\": RunnablePassthrough(),\n",
    "    }\n",
    "    | RunnablePassthrough()\n",
    ")\n",
    "\n",
    "(\n",
    "    chain.invoke(\"foo\"),\n",
    "    type(chain),\n",
    "    type(chain.steps[0]),\n",
    ")"
   ]
  },
  {
   "cell_type": "markdown",
   "metadata": {},
   "source": [
    "### 条件分岐"
   ]
  },
  {
   "cell_type": "markdown",
   "metadata": {},
   "source": [
    "`RunnableBranch`を使うのかと思いきや、`RunnableLambda`で分岐ロジックを書くことが推奨されているみたい。\n",
    "\n",
    "- https://python.langchain.com/docs/expression_language/how_to/routing\n",
    "\n",
    "> 1. Conditionally return runnables from a RunnableLambda (recommended)\n",
    "> 2. Using a RunnableBranch."
   ]
  },
  {
   "cell_type": "code",
   "execution_count": 9,
   "metadata": {},
   "outputs": [
    {
     "data": {
      "text/plain": [
       "('FOO', 246, ['bar'])"
      ]
     },
     "execution_count": 9,
     "metadata": {},
     "output_type": "execute_result"
    }
   ],
   "source": [
    "def branch(a: Any) -> Any:\n",
    "    if isinstance(a, str):\n",
    "        return a.upper()\n",
    "    if isinstance(a, int):\n",
    "        return a * 2\n",
    "    return a\n",
    "\n",
    "chain = RunnableLambda(branch)\n",
    "\n",
    "(\n",
    "    chain.invoke(\"foo\"),\n",
    "    chain.invoke(123),\n",
    "    chain.invoke([\"bar\"]),\n",
    ")"
   ]
  },
  {
   "cell_type": "code",
   "execution_count": 10,
   "metadata": {},
   "outputs": [
    {
     "data": {
      "text/plain": [
       "('FOO', 246, ['bar'])"
      ]
     },
     "execution_count": 10,
     "metadata": {},
     "output_type": "execute_result"
    }
   ],
   "source": [
    "chain = RunnableBranch(\n",
    "    (lambda a: isinstance(a, str), lambda a: a.upper()),\n",
    "    (lambda a: isinstance(a, int), lambda a: a * 2),\n",
    "    RunnablePassthrough())\n",
    "\n",
    "(\n",
    "    chain.invoke(\"foo\"),\n",
    "    chain.invoke(123),\n",
    "    chain.invoke([\"bar\"]),\n",
    ")"
   ]
  },
  {
   "cell_type": "markdown",
   "metadata": {},
   "source": [
    "### ジェネレーターから`Runnable`を構築（`RunnableGenerator`）"
   ]
  },
  {
   "cell_type": "code",
   "execution_count": 11,
   "metadata": {},
   "outputs": [
    {
     "data": {
      "text/plain": [
       "'foobarbazqux'"
      ]
     },
     "execution_count": 11,
     "metadata": {},
     "output_type": "execute_result"
    }
   ],
   "source": [
    "def generator(input: Any) -> Iterator[str]:\n",
    "    for a in [\"foo\", \"bar\", \"baz\", \"qux\"]:\n",
    "        yield a\n",
    "\n",
    "chain = RunnableGenerator(generator)\n",
    "\n",
    "chain.invoke(None)"
   ]
  },
  {
   "cell_type": "markdown",
   "metadata": {},
   "source": [
    "`RunnableConfig`も受け取れるっぽい。"
   ]
  },
  {
   "cell_type": "code",
   "execution_count": 12,
   "metadata": {},
   "outputs": [
    {
     "data": {
      "text/plain": [
       "{'message': 'foobar'}"
      ]
     },
     "execution_count": 12,
     "metadata": {},
     "output_type": "execute_result"
    }
   ],
   "source": [
    "def generator(input: Any, config: RunnableConfig):\n",
    "    yield config[\"configurable\"]\n",
    "\n",
    "chain = RunnableGenerator(generator)\n",
    "\n",
    "chain.invoke(None, {\n",
    "    \"configurable\": {\n",
    "        \"message\": \"foobar\"\n",
    "    }\n",
    "})"
   ]
  },
  {
   "cell_type": "markdown",
   "metadata": {},
   "source": [
    "### 辞書から特定のキーを取得する（`RunnablePick`）"
   ]
  },
  {
   "cell_type": "code",
   "execution_count": 13,
   "metadata": {},
   "outputs": [
    {
     "data": {
      "text/plain": [
       "'hello'"
      ]
     },
     "execution_count": 13,
     "metadata": {},
     "output_type": "execute_result"
    }
   ],
   "source": [
    "chain = RunnablePick(\"foo\")\n",
    "\n",
    "chain.invoke({\n",
    "    \"foo\": \"hello\",\n",
    "    \"bar\": \"world\",\n",
    "    \"baz\": \"!!\"\n",
    "})"
   ]
  },
  {
   "cell_type": "code",
   "execution_count": 14,
   "metadata": {},
   "outputs": [
    {
     "data": {
      "text/plain": [
       "{'foo': 'hello', 'baz': '!!'}"
      ]
     },
     "execution_count": 14,
     "metadata": {},
     "output_type": "execute_result"
    }
   ],
   "source": [
    "chain = RunnablePick([\"foo\", \"baz\"])\n",
    "\n",
    "chain.invoke({\n",
    "    \"foo\": \"hello\",\n",
    "    \"bar\": \"world\",\n",
    "    \"baz\": \"!!\"\n",
    "})"
   ]
  },
  {
   "cell_type": "markdown",
   "metadata": {},
   "source": [
    "`RunnablePick`を明示的に使うよりも`pick`メソッドを使用するのかも。"
   ]
  },
  {
   "cell_type": "code",
   "execution_count": 15,
   "metadata": {},
   "outputs": [
    {
     "data": {
      "text/plain": [
       "'world'"
      ]
     },
     "execution_count": 15,
     "metadata": {},
     "output_type": "execute_result"
    }
   ],
   "source": [
    "chain = RunnablePassthrough().pick(\"bar\")\n",
    "\n",
    "chain.invoke({\n",
    "    \"foo\": \"hello\",\n",
    "    \"bar\": \"world\",\n",
    "    \"baz\": \"!!\"\n",
    "})"
   ]
  },
  {
   "cell_type": "markdown",
   "metadata": {},
   "source": [
    "### 処理が失敗したときにフォールバックする（`RunnableWithFallbacks`）"
   ]
  },
  {
   "cell_type": "code",
   "execution_count": 16,
   "metadata": {},
   "outputs": [
    {
     "data": {
      "text/plain": [
       "[100.0, 50.0, 1.0, 'Fallback: 0', 'Fallback: hello']"
      ]
     },
     "execution_count": 16,
     "metadata": {},
     "output_type": "execute_result"
    }
   ],
   "source": [
    "runnable = RunnableLambda(lambda a: 100 / a)\n",
    "fallback = RunnableLambda(lambda a: f\"Fallback: {a}\")\n",
    "\n",
    "chain = RunnableWithFallbacks(runnable=runnable, fallbacks=[fallback])\n",
    "\n",
    "chain.batch([1, 2, 100, 0, \"hello\"])"
   ]
  },
  {
   "cell_type": "markdown",
   "metadata": {},
   "source": [
    "`RunnableWithFallbacks`を明示的に使うよりも`with_fallbacks`メソッドを使用するのかも。"
   ]
  },
  {
   "cell_type": "code",
   "execution_count": 17,
   "metadata": {},
   "outputs": [
    {
     "data": {
      "text/plain": [
       "[100.0, 50.0, 1.0, 'Fallback: 0', 'Fallback: hello']"
      ]
     },
     "execution_count": 17,
     "metadata": {},
     "output_type": "execute_result"
    }
   ],
   "source": [
    "chain = RunnableLambda(lambda a: 100 / a).with_fallbacks([\n",
    "    RunnableLambda(lambda a: f\"Fallback: {a}\")\n",
    "])\n",
    "\n",
    "chain.batch([1, 2, 100, 0, \"hello\"])"
   ]
  },
  {
   "cell_type": "markdown",
   "metadata": {},
   "source": [
    "### `Runnable`のサブクラスを一覧する"
   ]
  },
  {
   "cell_type": "code",
   "execution_count": 18,
   "metadata": {},
   "outputs": [
    {
     "name": "stdout",
     "output_type": "stream",
     "text": [
      "<class 'langchain_core.runnables.base.RunnableSerializable'>\n",
      "<class 'langchain_core.runnables.base.RunnableSequence'>\n",
      "<class 'langchain_core.runnables.base.RunnableParallel'>\n",
      "<class 'langchain_core.runnables.base.RunnableEachBase'>\n",
      "<class 'langchain_core.runnables.base.RunnableEach'>\n",
      "<class 'langchain_core.runnables.base.RunnableBindingBase'>\n",
      "<class 'langchain_core.runnables.base.RunnableBinding'>\n",
      "<class 'langchain_core.runnables.branch.RunnableBranch'>\n",
      "<class 'langchain_core.runnables.fallbacks.RunnableWithFallbacks'>\n",
      "<class 'langchain_core.runnables.passthrough.RunnablePassthrough'>\n",
      "<class 'langchain_core.runnables.passthrough.RunnableAssign'>\n",
      "<class 'langchain_core.runnables.passthrough.RunnablePick'>\n",
      "<class 'langchain_core.runnables.router.RouterRunnable'>\n",
      "<class 'langchain_core.beta.runnables.context.ContextGet'>\n",
      "<class 'langchain_core.beta.runnables.context.ContextSet'>\n",
      "<class 'langchain_core.runnables.base.RunnableGenerator'>\n",
      "<class 'langchain_core.runnables.base.RunnableLambda'>\n"
     ]
    }
   ],
   "source": [
    "def get_all_subclasses(cls):\n",
    "    all_subclasses = []\n",
    "    direct_subclasses = cls.__subclasses__()    \n",
    "    for subclass in direct_subclasses:\n",
    "        all_subclasses.append(subclass)\n",
    "        all_subclasses.extend(get_all_subclasses(subclass))\n",
    "    return all_subclasses\n",
    "\n",
    "all_subclasses = get_all_subclasses(Runnable)\n",
    "for subclass in all_subclasses:\n",
    "    print(subclass)\n"
   ]
  }
 ],
 "metadata": {
  "kernelspec": {
   "display_name": "langchain-example-hkYN0PFm-py3.11",
   "language": "python",
   "name": "python3"
  },
  "language_info": {
   "codemirror_mode": {
    "name": "ipython",
    "version": 3
   },
   "file_extension": ".py",
   "mimetype": "text/x-python",
   "name": "python",
   "nbconvert_exporter": "python",
   "pygments_lexer": "ipython3",
   "version": "3.11.6"
  }
 },
 "nbformat": 4,
 "nbformat_minor": 2
}
