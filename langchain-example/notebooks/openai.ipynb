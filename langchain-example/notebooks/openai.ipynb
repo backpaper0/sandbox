{
 "cells": [
  {
   "cell_type": "markdown",
   "metadata": {},
   "source": [
    "# OpenAI"
   ]
  },
  {
   "cell_type": "code",
   "execution_count": 1,
   "metadata": {},
   "outputs": [],
   "source": [
    "from dotenv import load_dotenv\n",
    "from langchain_core.output_parsers import StrOutputParser\n",
    "from langchain_core.runnables import RunnableGenerator\n",
    "from langchain_openai import ChatOpenAI\n",
    "from typing import AsyncIterator, Iterator"
   ]
  },
  {
   "cell_type": "code",
   "execution_count": 2,
   "metadata": {},
   "outputs": [],
   "source": [
    "load_dotenv()\n",
    "\n",
    "model = ChatOpenAI()\n",
    "\n",
    "prompt = \"Please echo 'Hello, world!'.\""
   ]
  },
  {
   "cell_type": "code",
   "execution_count": 3,
   "metadata": {},
   "outputs": [
    {
     "name": "stdout",
     "output_type": "stream",
     "text": [
      "invoke: Hello, world!\n",
      "stream: |Hello|,| world|!||\n",
      "ainvoke: Hello, world!\n",
      "asteram: |Hello|,| world|!||\n"
     ]
    }
   ],
   "source": [
    "def transform(input: Iterator[str]) -> Iterator[str]:\n",
    "    for chunk in input:\n",
    "        yield chunk\n",
    "\n",
    "async def atransform(input: AsyncIterator[str]) -> AsyncIterator[str]:\n",
    "    async for chunk in input:\n",
    "        yield chunk\n",
    "\n",
    "chain = model | StrOutputParser() | RunnableGenerator(transform, atransform)\n",
    "\n",
    "result = chain.invoke(prompt)\n",
    "print(\"invoke: \", end=\"\")\n",
    "print(result)\n",
    "\n",
    "iter = chain.stream(prompt)\n",
    "print(\"stream: \", end=\"\")\n",
    "for chunk in iter:\n",
    "    print(chunk, end=\"|\")\n",
    "print()\n",
    "\n",
    "result = await chain.ainvoke(prompt)\n",
    "print(\"ainvoke: \", end=\"\")\n",
    "print(result)\n",
    "\n",
    "iter = chain.astream(prompt)\n",
    "print(\"asteram: \", end=\"\")\n",
    "async for chunk in iter:\n",
    "    print(chunk, end=\"|\")\n",
    "print()"
   ]
  }
 ],
 "metadata": {
  "kernelspec": {
   "display_name": "langchain-example-hkYN0PFm-py3.11",
   "language": "python",
   "name": "python3"
  },
  "language_info": {
   "codemirror_mode": {
    "name": "ipython",
    "version": 3
   },
   "file_extension": ".py",
   "mimetype": "text/x-python",
   "name": "python",
   "nbconvert_exporter": "python",
   "pygments_lexer": "ipython3",
   "version": "3.11.6"
  }
 },
 "nbformat": 4,
 "nbformat_minor": 2
}
