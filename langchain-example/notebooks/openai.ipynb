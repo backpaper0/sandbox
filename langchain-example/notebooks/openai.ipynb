{
 "cells": [
  {
   "cell_type": "markdown",
   "metadata": {},
   "source": [
    "# OpenAI"
   ]
  },
  {
   "cell_type": "code",
   "execution_count": 1,
   "metadata": {},
   "outputs": [],
   "source": [
    "from dotenv import load_dotenv\n",
    "from langchain_core.output_parsers import StrOutputParser\n",
    "from langchain_core.runnables import RunnableGenerator\n",
    "from langchain_openai import ChatOpenAI\n",
    "from typing import AsyncIterator, Iterator\n",
    "import pandas as pd\n",
    "import time"
   ]
  },
  {
   "cell_type": "code",
   "execution_count": 2,
   "metadata": {},
   "outputs": [],
   "source": [
    "load_dotenv()\n",
    "\n",
    "model = ChatOpenAI()\n",
    "\n",
    "prompt = \"Please echo 'Hello, world!'.\""
   ]
  },
  {
   "cell_type": "code",
   "execution_count": 3,
   "metadata": {},
   "outputs": [
    {
     "name": "stdout",
     "output_type": "stream",
     "text": [
      "invoke: Hello, world!\n",
      "stream: |Hello|,| world|!||\n",
      "ainvoke: Hello, world!\n",
      "asteram: |Hello|,| world|!||\n"
     ]
    }
   ],
   "source": [
    "def transform(input: Iterator[str]) -> Iterator[str]:\n",
    "    for chunk in input:\n",
    "        yield chunk\n",
    "\n",
    "\n",
    "async def atransform(input: AsyncIterator[str]) -> AsyncIterator[str]:\n",
    "    async for chunk in input:\n",
    "        yield chunk\n",
    "\n",
    "\n",
    "chain = model | StrOutputParser() | RunnableGenerator(transform, atransform)\n",
    "\n",
    "result = chain.invoke(prompt)\n",
    "print(\"invoke: \", end=\"\")\n",
    "print(result)\n",
    "\n",
    "iter = chain.stream(prompt)\n",
    "print(\"stream: \", end=\"\")\n",
    "for chunk in iter:\n",
    "    print(chunk, end=\"|\")\n",
    "print()\n",
    "\n",
    "result = await chain.ainvoke(prompt)\n",
    "print(\"ainvoke: \", end=\"\")\n",
    "print(result)\n",
    "\n",
    "iter = chain.astream(prompt)\n",
    "print(\"asteram: \", end=\"\")\n",
    "async for chunk in iter:\n",
    "    print(chunk, end=\"|\")\n",
    "print()"
   ]
  },
  {
   "cell_type": "markdown",
   "metadata": {},
   "source": [
    "（tiktokenで算出した）トークン数を取得することもできる。"
   ]
  },
  {
   "cell_type": "code",
   "execution_count": 4,
   "metadata": {},
   "outputs": [
    {
     "data": {
      "text/plain": [
       "8"
      ]
     },
     "execution_count": 4,
     "metadata": {},
     "output_type": "execute_result"
    }
   ],
   "source": [
    "model.get_num_tokens(prompt)"
   ]
  },
  {
   "cell_type": "markdown",
   "metadata": {},
   "source": [
    "モデルによって応答速度が違う。`max_tokens`によっても違いが出るらしい。"
   ]
  },
  {
   "cell_type": "code",
   "execution_count": 5,
   "metadata": {},
   "outputs": [
    {
     "data": {
      "text/html": [
       "<div>\n",
       "<style scoped>\n",
       "    .dataframe tbody tr th:only-of-type {\n",
       "        vertical-align: middle;\n",
       "    }\n",
       "\n",
       "    .dataframe tbody tr th {\n",
       "        vertical-align: top;\n",
       "    }\n",
       "\n",
       "    .dataframe thead th {\n",
       "        text-align: right;\n",
       "    }\n",
       "</style>\n",
       "<table border=\"1\" class=\"dataframe\">\n",
       "  <thead>\n",
       "    <tr style=\"text-align: right;\">\n",
       "      <th></th>\n",
       "      <th>model_name</th>\n",
       "      <th>max_tokens</th>\n",
       "      <th>actual_tokens</th>\n",
       "      <th>elapsed_time</th>\n",
       "    </tr>\n",
       "  </thead>\n",
       "  <tbody>\n",
       "    <tr>\n",
       "      <th>0</th>\n",
       "      <td>gpt-3.5-turbo</td>\n",
       "      <td>512</td>\n",
       "      <td>45</td>\n",
       "      <td>0.972399</td>\n",
       "    </tr>\n",
       "    <tr>\n",
       "      <th>1</th>\n",
       "      <td>gpt-3.5-turbo</td>\n",
       "      <td>1024</td>\n",
       "      <td>45</td>\n",
       "      <td>0.897296</td>\n",
       "    </tr>\n",
       "    <tr>\n",
       "      <th>2</th>\n",
       "      <td>gpt-3.5-turbo</td>\n",
       "      <td>2048</td>\n",
       "      <td>45</td>\n",
       "      <td>0.787427</td>\n",
       "    </tr>\n",
       "    <tr>\n",
       "      <th>3</th>\n",
       "      <td>gpt-4</td>\n",
       "      <td>512</td>\n",
       "      <td>137</td>\n",
       "      <td>5.258275</td>\n",
       "    </tr>\n",
       "    <tr>\n",
       "      <th>4</th>\n",
       "      <td>gpt-4</td>\n",
       "      <td>1024</td>\n",
       "      <td>62</td>\n",
       "      <td>2.925074</td>\n",
       "    </tr>\n",
       "    <tr>\n",
       "      <th>5</th>\n",
       "      <td>gpt-4</td>\n",
       "      <td>2048</td>\n",
       "      <td>62</td>\n",
       "      <td>2.311672</td>\n",
       "    </tr>\n",
       "    <tr>\n",
       "      <th>6</th>\n",
       "      <td>gpt-4</td>\n",
       "      <td>4096</td>\n",
       "      <td>137</td>\n",
       "      <td>5.914425</td>\n",
       "    </tr>\n",
       "  </tbody>\n",
       "</table>\n",
       "</div>"
      ],
      "text/plain": [
       "      model_name  max_tokens  actual_tokens  elapsed_time\n",
       "0  gpt-3.5-turbo         512             45      0.972399\n",
       "1  gpt-3.5-turbo        1024             45      0.897296\n",
       "2  gpt-3.5-turbo        2048             45      0.787427\n",
       "3          gpt-4         512            137      5.258275\n",
       "4          gpt-4        1024             62      2.925074\n",
       "5          gpt-4        2048             62      2.311672\n",
       "6          gpt-4        4096            137      5.914425"
      ]
     },
     "execution_count": 5,
     "metadata": {},
     "output_type": "execute_result"
    }
   ],
   "source": [
    "prompt = \"Pythonで挨拶するプログラムを書いてください。\"\n",
    "\n",
    "\n",
    "def test(model_name: str, max_tokens: int) -> dict[str, any]:\n",
    "    model = ChatOpenAI(model_name=model_name, max_tokens=max_tokens, temperature=0)\n",
    "    start_time = time.time()\n",
    "    msg = model.invoke(prompt)\n",
    "    end_time = time.time()\n",
    "    elapsed_time = end_time - start_time\n",
    "    return {\n",
    "        \"model_name\": model_name,\n",
    "        \"max_tokens\": max_tokens,\n",
    "        \"actual_tokens\": model.get_num_tokens_from_messages([msg]),\n",
    "        \"elapsed_time\": elapsed_time,\n",
    "    }\n",
    "\n",
    "\n",
    "pd.DataFrame(\n",
    "    [\n",
    "        test(model_name=\"gpt-3.5-turbo\", max_tokens=512),\n",
    "        test(model_name=\"gpt-3.5-turbo\", max_tokens=1024),\n",
    "        test(model_name=\"gpt-3.5-turbo\", max_tokens=2048),\n",
    "        test(model_name=\"gpt-4\", max_tokens=512),\n",
    "        test(model_name=\"gpt-4\", max_tokens=1024),\n",
    "        test(model_name=\"gpt-4\", max_tokens=2048),\n",
    "        test(model_name=\"gpt-4\", max_tokens=4096),\n",
    "    ]\n",
    ")"
   ]
  },
  {
   "cell_type": "code",
   "execution_count": 6,
   "metadata": {},
   "outputs": [
    {
     "data": {
      "text/html": [
       "<div>\n",
       "<style scoped>\n",
       "    .dataframe tbody tr th:only-of-type {\n",
       "        vertical-align: middle;\n",
       "    }\n",
       "\n",
       "    .dataframe tbody tr th {\n",
       "        vertical-align: top;\n",
       "    }\n",
       "\n",
       "    .dataframe thead th {\n",
       "        text-align: right;\n",
       "    }\n",
       "</style>\n",
       "<table border=\"1\" class=\"dataframe\">\n",
       "  <thead>\n",
       "    <tr style=\"text-align: right;\">\n",
       "      <th></th>\n",
       "      <th>model_name</th>\n",
       "      <th>max_tokens</th>\n",
       "      <th>actual_tokens</th>\n",
       "      <th>elapsed_time</th>\n",
       "    </tr>\n",
       "  </thead>\n",
       "  <tbody>\n",
       "    <tr>\n",
       "      <th>0</th>\n",
       "      <td>gpt-4</td>\n",
       "      <td>1024</td>\n",
       "      <td>170</td>\n",
       "      <td>5.697417</td>\n",
       "    </tr>\n",
       "    <tr>\n",
       "      <th>1</th>\n",
       "      <td>gpt-4</td>\n",
       "      <td>2048</td>\n",
       "      <td>137</td>\n",
       "      <td>5.241931</td>\n",
       "    </tr>\n",
       "    <tr>\n",
       "      <th>2</th>\n",
       "      <td>gpt-4</td>\n",
       "      <td>3072</td>\n",
       "      <td>62</td>\n",
       "      <td>2.260835</td>\n",
       "    </tr>\n",
       "    <tr>\n",
       "      <th>3</th>\n",
       "      <td>gpt-4</td>\n",
       "      <td>4096</td>\n",
       "      <td>156</td>\n",
       "      <td>4.608724</td>\n",
       "    </tr>\n",
       "    <tr>\n",
       "      <th>4</th>\n",
       "      <td>gpt-4</td>\n",
       "      <td>5120</td>\n",
       "      <td>62</td>\n",
       "      <td>2.021820</td>\n",
       "    </tr>\n",
       "    <tr>\n",
       "      <th>5</th>\n",
       "      <td>gpt-4</td>\n",
       "      <td>6144</td>\n",
       "      <td>62</td>\n",
       "      <td>2.425377</td>\n",
       "    </tr>\n",
       "    <tr>\n",
       "      <th>6</th>\n",
       "      <td>gpt-4</td>\n",
       "      <td>7168</td>\n",
       "      <td>137</td>\n",
       "      <td>3.561274</td>\n",
       "    </tr>\n",
       "  </tbody>\n",
       "</table>\n",
       "</div>"
      ],
      "text/plain": [
       "  model_name  max_tokens  actual_tokens  elapsed_time\n",
       "0      gpt-4        1024            170      5.697417\n",
       "1      gpt-4        2048            137      5.241931\n",
       "2      gpt-4        3072             62      2.260835\n",
       "3      gpt-4        4096            156      4.608724\n",
       "4      gpt-4        5120             62      2.021820\n",
       "5      gpt-4        6144             62      2.425377\n",
       "6      gpt-4        7168            137      3.561274"
      ]
     },
     "execution_count": 6,
     "metadata": {},
     "output_type": "execute_result"
    }
   ],
   "source": [
    "pd.DataFrame(\n",
    "    [\n",
    "        test(model_name=\"gpt-4\", max_tokens=1024),\n",
    "        test(model_name=\"gpt-4\", max_tokens=2048),\n",
    "        test(model_name=\"gpt-4\", max_tokens=3072),\n",
    "        test(model_name=\"gpt-4\", max_tokens=4096),\n",
    "        test(model_name=\"gpt-4\", max_tokens=5120),\n",
    "        test(model_name=\"gpt-4\", max_tokens=6144),\n",
    "        test(model_name=\"gpt-4\", max_tokens=7168),\n",
    "    ]\n",
    ")"
   ]
  },
  {
   "cell_type": "markdown",
   "metadata": {},
   "source": [
    "GPTさんの機嫌にもよるのかな、、、"
   ]
  }
 ],
 "metadata": {
  "kernelspec": {
   "display_name": "langchain-example-hkYN0PFm-py3.11",
   "language": "python",
   "name": "python3"
  },
  "language_info": {
   "codemirror_mode": {
    "name": "ipython",
    "version": 3
   },
   "file_extension": ".py",
   "mimetype": "text/x-python",
   "name": "python",
   "nbconvert_exporter": "python",
   "pygments_lexer": "ipython3",
   "version": "3.11.6"
  }
 },
 "nbformat": 4,
 "nbformat_minor": 2
}
