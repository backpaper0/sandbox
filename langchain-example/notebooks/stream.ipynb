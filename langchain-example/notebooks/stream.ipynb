{
 "cells": [
  {
   "cell_type": "markdown",
   "metadata": {},
   "source": [
    "# streamを理解したい"
   ]
  },
  {
   "cell_type": "code",
   "execution_count": 1,
   "metadata": {},
   "outputs": [],
   "source": [
    "from langchain_core.runnables import (\n",
    "    Runnable,\n",
    "    RunnableGenerator,\n",
    "    RunnableLambda,\n",
    "    RunnableParallel,\n",
    "    RunnablePassthrough,\n",
    ")\n",
    "from langchain_core.messages.ai import AIMessageChunk\n",
    "from typing import Iterator\n",
    "from langchain_openai import ChatOpenAI, OpenAIEmbeddings\n",
    "from langchain_core.prompts import PromptTemplate\n",
    "from langchain_core.output_parsers import StrOutputParser\n",
    "from dotenv import load_dotenv"
   ]
  },
  {
   "cell_type": "code",
   "execution_count": 2,
   "metadata": {},
   "outputs": [
    {
     "data": {
      "text/plain": [
       "True"
      ]
     },
     "execution_count": 2,
     "metadata": {},
     "output_type": "execute_result"
    }
   ],
   "source": [
    "load_dotenv()"
   ]
  },
  {
   "cell_type": "code",
   "execution_count": 3,
   "metadata": {},
   "outputs": [
    {
     "name": "stdout",
     "output_type": "stream",
     "text": [
      "hello|\n",
      "hello|"
     ]
    }
   ],
   "source": [
    "chain = RunnablePassthrough()\n",
    "\n",
    "for chunk in chain.stream(\"hello\"):\n",
    "    print(chunk, end=\"|\")\n",
    "\n",
    "print()\n",
    "print(chain.invoke(\"hello\"), end=\"|\")"
   ]
  },
  {
   "cell_type": "code",
   "execution_count": 4,
   "metadata": {},
   "outputs": [
    {
     "name": "stdout",
     "output_type": "stream",
     "text": [
      "h|e|l|l|o|\n",
      "hello|"
     ]
    }
   ],
   "source": [
    "def gen(iter: Iterator[str]) -> Iterator[str]:\n",
    "    for s in iter:\n",
    "        for c in s:\n",
    "            yield c\n",
    "\n",
    "\n",
    "chain = RunnableGenerator(gen)\n",
    "\n",
    "for chunk in chain.stream(\"hello\"):\n",
    "    print(chunk, end=\"|\")\n",
    "\n",
    "print()\n",
    "print(chain.invoke(\"hello\"), end=\"|\")"
   ]
  },
  {
   "cell_type": "code",
   "execution_count": 5,
   "metadata": {},
   "outputs": [
    {
     "name": "stdout",
     "output_type": "stream",
     "text": [
      "content=''|content='東'|content='京'|content='です'|content='。'|content=''|\n",
      "content='東京です。'|"
     ]
    }
   ],
   "source": [
    "model = ChatOpenAI()\n",
    "\n",
    "for chunk in model.stream(\"日本の首都は？\"):\n",
    "    print(chunk, end=\"|\")\n",
    "\n",
    "print()\n",
    "\n",
    "answer = model.invoke(\"日本の首都は？\")\n",
    "print(answer, end=\"|\")"
   ]
  },
  {
   "cell_type": "code",
   "execution_count": 6,
   "metadata": {},
   "outputs": [
    {
     "name": "stdout",
     "output_type": "stream",
     "text": [
      "東京です。|\n",
      "東京です。|"
     ]
    }
   ],
   "source": [
    "model = ChatOpenAI()\n",
    "\n",
    "\n",
    "def gen(chunk: AIMessageChunk) -> Iterator[any]:\n",
    "    yield chunk.content\n",
    "\n",
    "\n",
    "chain = model | RunnableLambda(gen)\n",
    "\n",
    "for chunk in chain.stream(\"日本の首都は？\"):\n",
    "    print(chunk, end=\"|\")\n",
    "\n",
    "print()\n",
    "\n",
    "answer = chain.invoke(\"日本の首都は？\")\n",
    "print(answer, end=\"|\")"
   ]
  },
  {
   "cell_type": "code",
   "execution_count": 7,
   "metadata": {},
   "outputs": [
    {
     "name": "stdout",
     "output_type": "stream",
     "text": [
      "|東|京|です|。||\n",
      "東京です。|"
     ]
    }
   ],
   "source": [
    "model = ChatOpenAI()\n",
    "\n",
    "\n",
    "def gen(iter: Iterator[AIMessageChunk]) -> Iterator[any]:\n",
    "    for c in iter:\n",
    "        yield c.content\n",
    "\n",
    "\n",
    "chain = model | RunnableGenerator(gen)\n",
    "\n",
    "for chunk in chain.stream(\"日本の首都は？\"):\n",
    "    print(chunk, end=\"|\")\n",
    "\n",
    "print()\n",
    "\n",
    "answer = chain.invoke(\"日本の首都は？\")\n",
    "print(answer, end=\"|\")"
   ]
  },
  {
   "cell_type": "code",
   "execution_count": 8,
   "metadata": {},
   "outputs": [
    {
     "name": "stdout",
     "output_type": "stream",
     "text": [
      "<h>[h](h)<e>[e](e)<l>[l](l)<l>[l](l)<o>[o](o)\n",
      "<h><e><l><l><o>[hello](hello)\n"
     ]
    }
   ],
   "source": [
    "def gen1(iter: Iterator[str]) -> Iterator[str]:\n",
    "    for s in iter:\n",
    "        for c in s:\n",
    "            print(f\"<{c}>\", end=\"\")\n",
    "            yield c\n",
    "\n",
    "\n",
    "def gen2(iter: Iterator[any]):\n",
    "    for s in iter:\n",
    "        print(f\"[{s}]\", end=\"\")\n",
    "        yield s\n",
    "\n",
    "\n",
    "chain = RunnableGenerator(gen1) | RunnableGenerator(gen2)\n",
    "\n",
    "for chunk in chain.stream(\"hello\"):\n",
    "    print(f\"({chunk})\", end=\"\")\n",
    "\n",
    "print()\n",
    "\n",
    "answer = chain.invoke(\"hello\")\n",
    "print(f\"({answer})\")"
   ]
  }
 ],
 "metadata": {
  "kernelspec": {
   "display_name": "langchain-example-hkYN0PFm-py3.11",
   "language": "python",
   "name": "python3"
  },
  "language_info": {
   "codemirror_mode": {
    "name": "ipython",
    "version": 3
   },
   "file_extension": ".py",
   "mimetype": "text/x-python",
   "name": "python",
   "nbconvert_exporter": "python",
   "pygments_lexer": "ipython3",
   "version": "3.11.6"
  }
 },
 "nbformat": 4,
 "nbformat_minor": 2
}
