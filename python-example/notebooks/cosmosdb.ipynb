{
 "cells": [
  {
   "cell_type": "markdown",
   "metadata": {},
   "source": [
    "# Cosmos DB"
   ]
  },
  {
   "cell_type": "markdown",
   "metadata": {},
   "source": [
    "Cosmos DBを扱う。"
   ]
  },
  {
   "cell_type": "code",
   "execution_count": 1,
   "metadata": {},
   "outputs": [],
   "source": [
    "from azure.cosmos import CosmosClient, PartitionKey\n",
    "from dotenv import load_dotenv\n",
    "import os\n",
    "import urllib3\n",
    "import hashlib"
   ]
  },
  {
   "cell_type": "code",
   "execution_count": 2,
   "metadata": {},
   "outputs": [],
   "source": [
    "load_dotenv()\n",
    "\n",
    "cosmos_endpoint = os.environ[\"COSMOS_ENDPOINT\"]\n",
    "#エミュレーター使ってる場合はSSLまわりが、まあ、なんというか、面倒なので検証しない\n",
    "connection_verify = not \"localhost\" in cosmos_endpoint\n",
    "if not connection_verify:\n",
    "    urllib3.disable_warnings()"
   ]
  },
  {
   "cell_type": "markdown",
   "metadata": {},
   "source": [
    "クライアントとデータベース、コンテナーを準備する。"
   ]
  },
  {
   "cell_type": "code",
   "execution_count": 3,
   "metadata": {},
   "outputs": [],
   "source": [
    "client = CosmosClient(\n",
    "    url=cosmos_endpoint,\n",
    "    credential=os.environ[\"COSMOS_KEY\"],\n",
    "    connection_verify=connection_verify,\n",
    ")\n",
    "\n",
    "database = client.create_database_if_not_exists(\n",
    "    id=\"example_database\",\n",
    "    offer_throughput=400,\n",
    ")\n",
    "\n",
    "container = database.create_container_if_not_exists(\n",
    "    id=\"example_container\",\n",
    "    partition_key=PartitionKey(\n",
    "        path=\"/data_group\",\n",
    "    ),\n",
    ")"
   ]
  },
  {
   "cell_type": "markdown",
   "metadata": {},
   "source": [
    "サンプルデータを投入する。\n",
    "項目は次の通り。\n",
    "\n",
    "- `id`：連番\n",
    "- `data_group`：パーティションキーなので、適当にバラけさせるため`id`を12で割った余り\n",
    "- `data`：`id`のSHA-1ハッシュ値"
   ]
  },
  {
   "cell_type": "code",
   "execution_count": 4,
   "metadata": {},
   "outputs": [],
   "source": [
    "for i in range(0, 200):\n",
    "    hash_data = hashlib.sha1(str(i).encode())\n",
    "    item = {\n",
    "        \"id\": str(i),\n",
    "        \"data_group\": i%12,\n",
    "        \"data\": hash_data.hexdigest(),\n",
    "    }\n",
    "    container.upsert_item(item)"
   ]
  },
  {
   "cell_type": "markdown",
   "metadata": {},
   "source": [
    "データを1件読み取る。"
   ]
  },
  {
   "cell_type": "code",
   "execution_count": 5,
   "metadata": {},
   "outputs": [
    {
     "data": {
      "text/plain": [
       "('13', 1, 'bd307a3ec329e10a2cff8fb87480823da114f8f4')"
      ]
     },
     "execution_count": 5,
     "metadata": {},
     "output_type": "execute_result"
    }
   ],
   "source": [
    "item = container.read_item(\"13\", 13%12)\n",
    "item[\"id\"], item[\"data_group\"], item[\"data\"]"
   ]
  },
  {
   "cell_type": "markdown",
   "metadata": {},
   "source": [
    "全件読み取る。\n",
    "Webのコンソールだと一度の問い合わせで最大100件までしか取得できないけれど、SDK使えばその縛りはなさそう。"
   ]
  },
  {
   "cell_type": "code",
   "execution_count": 6,
   "metadata": {},
   "outputs": [
    {
     "data": {
      "text/plain": [
       "200"
      ]
     },
     "execution_count": 6,
     "metadata": {},
     "output_type": "execute_result"
    }
   ],
   "source": [
    "len([item for item in container.read_all_items()])"
   ]
  },
  {
   "cell_type": "markdown",
   "metadata": {},
   "source": [
    "クエリーを指定して全件取得する。\n",
    "パーティションキーを指定しないクエリーの場合は`enable_cross_partition_query=True`を設定しなければいけない。\n",
    "内部的には次のようなリクエストヘッダーを設定してHTTPリクエストを送信しているみたい。\n",
    "\n",
    "```\n",
    "x-ms-documentdb-query-enablecrosspartition: true\n",
    "```"
   ]
  },
  {
   "cell_type": "code",
   "execution_count": 7,
   "metadata": {},
   "outputs": [
    {
     "data": {
      "text/plain": [
       "200"
      ]
     },
     "execution_count": 7,
     "metadata": {},
     "output_type": "execute_result"
    }
   ],
   "source": [
    "len([item for item in container.query_items(\"select * from c\", enable_cross_partition_query=True)])"
   ]
  },
  {
   "cell_type": "markdown",
   "metadata": {},
   "source": [
    "条件式を書いたりパラメーター渡したりしてみる。"
   ]
  },
  {
   "cell_type": "code",
   "execution_count": 8,
   "metadata": {},
   "outputs": [
    {
     "data": {
      "text/plain": [
       "[{'id': '1',\n",
       "  'data_group': 1,\n",
       "  'data': '356a192b7913b04c54574d18c28d46e6395428ab'},\n",
       " {'id': '13',\n",
       "  'data_group': 1,\n",
       "  'data': 'bd307a3ec329e10a2cff8fb87480823da114f8f4'},\n",
       " {'id': '25',\n",
       "  'data_group': 1,\n",
       "  'data': 'f6e1126cedebf23e1463aee73f9df08783640400'}]"
      ]
     },
     "execution_count": 8,
     "metadata": {},
     "output_type": "execute_result"
    }
   ],
   "source": [
    "[\n",
    "    item\n",
    "    for item in container.query_items(\n",
    "        query=(\n",
    "            \"select c.id, c.data_group, c.data from c\"\n",
    "            \" where c.data_group = @data_group\"\n",
    "            \" offset 0 limit 3\"\n",
    "        ),\n",
    "        parameters=[\n",
    "            dict(name=\"@data_group\", value=1)\n",
    "        ],\n",
    "    )\n",
    "]"
   ]
  }
 ],
 "metadata": {
  "kernelspec": {
   "display_name": "python-example-B-yixF64-py3.12",
   "language": "python",
   "name": "python3"
  },
  "language_info": {
   "codemirror_mode": {
    "name": "ipython",
    "version": 3
   },
   "file_extension": ".py",
   "mimetype": "text/x-python",
   "name": "python",
   "nbconvert_exporter": "python",
   "pygments_lexer": "ipython3",
   "version": "3.12.2"
  }
 },
 "nbformat": 4,
 "nbformat_minor": 2
}
