{
 "cells": [
  {
   "cell_type": "markdown",
   "metadata": {},
   "source": [
    "# Rubyの`method_missing`みたいなことをやる"
   ]
  },
  {
   "cell_type": "markdown",
   "metadata": {},
   "source": [
    "存在しないメソッドの呼び出しがあった場合に[`__getattr__`メソッド](https://docs.python.org/ja/3/reference/datamodel.html#object.__getattr__)が呼び出されるらしい。"
   ]
  },
  {
   "cell_type": "code",
   "execution_count": 1,
   "metadata": {},
   "outputs": [
    {
     "name": "stdout",
     "output_type": "stream",
     "text": [
      "foo\n",
      "'Foobar' object has no attribute 'bar'\n"
     ]
    }
   ],
   "source": [
    "class Foobar:\n",
    "    def foo(self):\n",
    "        return \"foo\"\n",
    "\n",
    "\n",
    "fb = Foobar()\n",
    "print(fb.foo())\n",
    "try:\n",
    "    print(fb.bar())\n",
    "except AttributeError as e:\n",
    "    print(e)"
   ]
  },
  {
   "cell_type": "code",
   "execution_count": 2,
   "metadata": {},
   "outputs": [
    {
     "name": "stdout",
     "output_type": "stream",
     "text": [
      "baz\n",
      "qux\n",
      "'Bazqux' object has no attribute 'hoge'\n"
     ]
    }
   ],
   "source": [
    "class Bazqux:\n",
    "    def baz(self):\n",
    "        return \"baz\"\n",
    "\n",
    "    def __getattr__(self, name):\n",
    "        if name in [\"qux\"]:\n",
    "            return lambda: \"qux\"\n",
    "        raise AttributeError(\n",
    "            f\"'{self.__class__.__name__}' object has no attribute '{name}'\"\n",
    "        )\n",
    "\n",
    "\n",
    "bq = Bazqux()\n",
    "print(bq.baz())\n",
    "print(bq.qux())\n",
    "try:\n",
    "    bq.hoge()\n",
    "except AttributeError as e:\n",
    "    print(e)"
   ]
  }
 ],
 "metadata": {
  "kernelspec": {
   "display_name": "python-example-B-yixF64-py3.11",
   "language": "python",
   "name": "python3"
  },
  "language_info": {
   "codemirror_mode": {
    "name": "ipython",
    "version": 3
   },
   "file_extension": ".py",
   "mimetype": "text/x-python",
   "name": "python",
   "nbconvert_exporter": "python",
   "pygments_lexer": "ipython3",
   "version": "3.11.6"
  }
 },
 "nbformat": 4,
 "nbformat_minor": 2
}
