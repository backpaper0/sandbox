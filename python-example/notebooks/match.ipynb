{
 "cells": [
  {
   "cell_type": "markdown",
   "metadata": {},
   "source": [
    "# `match`文"
   ]
  },
  {
   "cell_type": "markdown",
   "metadata": {},
   "source": [
    "Javaでいう`switch`っぽいやつ。"
   ]
  },
  {
   "cell_type": "code",
   "execution_count": 1,
   "metadata": {},
   "outputs": [
    {
     "name": "stdout",
     "output_type": "stream",
     "text": [
      "0:foo\n",
      "1:bar\n",
      "2:bar\n",
      "3:baz\n",
      "4:baz\n"
     ]
    }
   ],
   "source": [
    "def hello_match(a):\n",
    "    match a:\n",
    "        case 0:\n",
    "            print(f\"{a}:foo\")\n",
    "        case 1 | 2: #パイプは論理和っぽい\n",
    "            print(f\"{a}:bar\")\n",
    "        case _: #アンダースコアがワイルドカード\n",
    "            print(f\"{a}:baz\")\n",
    "\n",
    "for a in range(5):\n",
    "    hello_match(a)"
   ]
  },
  {
   "cell_type": "markdown",
   "metadata": {},
   "source": [
    "コンストラクターでいい感じにパターンマッチできるっぽい。"
   ]
  },
  {
   "cell_type": "code",
   "execution_count": 2,
   "metadata": {},
   "outputs": [
    {
     "name": "stdout",
     "output_type": "stream",
     "text": [
      "(0, 1) -> foo\n",
      "(2, 3) -> bar\n",
      "(4, 5) -> y=5\n",
      "(4, 4) -> baz\n",
      "(6, 7) -> baz\n",
      "... -> qux\n"
     ]
    }
   ],
   "source": [
    "class Point1:\n",
    "    def __init__(self, x, y):\n",
    "        self.x = x\n",
    "        self.y = y\n",
    "\n",
    "    def __str__(self):\n",
    "        return f\"({self.x}, {self.y})\"\n",
    "\n",
    "def point1_match(p):\n",
    "    match p:\n",
    "        case Point1(x=0, y=1):\n",
    "            print(f\"{p} -> foo\")\n",
    "        case Point1(x=2, y=3):\n",
    "            print(f\"{p} -> bar\")\n",
    "        case Point1(x=4, y=y) if y > 4: #ガード節を書ける\n",
    "            print(f\"{p} -> y={y}\")\n",
    "        case Point1(): #その他のPoint1にマッチ\n",
    "            print(f\"{p} -> baz\")\n",
    "        case _: #Point1以外の値にマッチ\n",
    "            print(f\"{p} -> qux\")\n",
    "\n",
    "point1_match(Point1(0, 1))\n",
    "point1_match(Point1(2, 3))\n",
    "point1_match(Point1(4, 5))\n",
    "point1_match(Point1(4, 4))\n",
    "point1_match(Point1(6, 7))\n",
    "point1_match(\"...\")\n"
   ]
  },
  {
   "cell_type": "markdown",
   "metadata": {},
   "source": [
    "`__match_args__`を定義すれば変数は省略できるっぽい。"
   ]
  },
  {
   "cell_type": "code",
   "execution_count": 3,
   "metadata": {},
   "outputs": [
    {
     "name": "stdout",
     "output_type": "stream",
     "text": [
      "(0, 1) -> foo\n",
      "(2, 3) -> bar\n",
      "(4, 5) -> y=5\n",
      "(4, 4) -> baz\n",
      "(6, 7) -> baz\n",
      "... -> qux\n"
     ]
    }
   ],
   "source": [
    "class Point1:\n",
    "    __match_args__ = (\"x\", \"y\")\n",
    "\n",
    "    def __init__(self, x, y):\n",
    "        self.x = x\n",
    "        self.y = y\n",
    "\n",
    "    def __str__(self):\n",
    "        return f\"({self.x}, {self.y})\"\n",
    "\n",
    "def point1_match(p):\n",
    "    match p:\n",
    "        case Point1(0, 1):\n",
    "            print(f\"{p} -> foo\")\n",
    "        case Point1(2, 3):\n",
    "            print(f\"{p} -> bar\")\n",
    "        case Point1(4, y) if y > 4: #ガード節を書ける\n",
    "            print(f\"{p} -> y={y}\")\n",
    "        case Point1(): #その他のPoint1にマッチ\n",
    "            print(f\"{p} -> baz\")\n",
    "        case _: #Point1以外の値にマッチ\n",
    "            print(f\"{p} -> qux\")\n",
    "\n",
    "point1_match(Point1(0, 1))\n",
    "point1_match(Point1(2, 3))\n",
    "point1_match(Point1(4, 5))\n",
    "point1_match(Point1(4, 4))\n",
    "point1_match(Point1(6, 7))\n",
    "point1_match(\"...\")\n"
   ]
  }
 ],
 "metadata": {
  "kernelspec": {
   "display_name": "learn-python-qS5X6pXX-py3.12",
   "language": "python",
   "name": "python3"
  },
  "language_info": {
   "codemirror_mode": {
    "name": "ipython",
    "version": 3
   },
   "file_extension": ".py",
   "mimetype": "text/x-python",
   "name": "python",
   "nbconvert_exporter": "python",
   "pygments_lexer": "ipython3",
   "version": "3.12.2"
  }
 },
 "nbformat": 4,
 "nbformat_minor": 2
}
