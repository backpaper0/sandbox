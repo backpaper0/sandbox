{
 "cells": [
  {
   "cell_type": "markdown",
   "metadata": {},
   "source": [
    "# PlantUML"
   ]
  },
  {
   "cell_type": "code",
   "execution_count": 24,
   "metadata": {},
   "outputs": [
    {
     "data": {
      "text/plain": [
       "'/usr/local/bin/plantuml.jar'"
      ]
     },
     "execution_count": 24,
     "metadata": {},
     "output_type": "execute_result"
    }
   ],
   "source": [
    "import iplantuml\n",
    "\n",
    "iplantuml.PLANTUMLPATH"
   ]
  },
  {
   "cell_type": "markdown",
   "metadata": {},
   "source": [
    "`%%plantuml`のあとに何も付けないとWebで変換するっぽい。\n",
    "`--jar`を付けると`iplantuml.PLANTUMLPATH`にある`plantuml.jar`で変換するっぽい。\n",
    "`plantuml.jar`のパスを明示したい場合は`--plantuml-path=/path/to/plantuml.jar`とすれば良さそう。"
   ]
  },
  {
   "cell_type": "code",
   "execution_count": 25,
   "metadata": {},
   "outputs": [
    {
     "data": {
      "image/svg+xml": [
       "<svg xmlns=\"http://www.w3.org/2000/svg\" xmlns:xlink=\"http://www.w3.org/1999/xlink\" contentScriptType=\"application/ecmascript\" contentStyleType=\"text/css\" height=\"221px\" preserveAspectRatio=\"none\" style=\"width:295px;height:221px;background:#FFFFFF;\" version=\"1.1\" viewBox=\"0 0 295 221\" width=\"295px\" zoomAndPan=\"magnify\"><defs><filter height=\"300%\" id=\"fn3yvorrca0j1\" width=\"300%\" x=\"-1\" y=\"-1\"><feGaussianBlur result=\"blurOut\" stdDeviation=\"2.0\"/><feColorMatrix in=\"blurOut\" result=\"blurOut2\" type=\"matrix\" values=\"0 0 0 0 0 0 0 0 0 0 0 0 0 0 0 0 0 0 .4 0\"/><feOffset dx=\"4.0\" dy=\"4.0\" in=\"blurOut2\" result=\"blurOut3\"/><feBlend in=\"SourceGraphic\" in2=\"blurOut3\" mode=\"normal\"/></filter></defs><g><line style=\"stroke:#A80036;stroke-width:1.0;stroke-dasharray:5.0,5.0;\" x1=\"30\" x2=\"30\" y1=\"40.4883\" y2=\"177.7305\"/><line style=\"stroke:#A80036;stroke-width:1.0;stroke-dasharray:5.0,5.0;\" x1=\"263.5\" x2=\"263.5\" y1=\"40.4883\" y2=\"177.7305\"/><rect fill=\"#FEFECE\" filter=\"url(#fn3yvorrca0j1)\" height=\"30.4883\" style=\"stroke:#A80036;stroke-width:1.5;\" width=\"47\" x=\"5\" y=\"5\"/><text fill=\"#000000\" font-family=\"sans-serif\" font-size=\"14\" lengthAdjust=\"spacing\" textLength=\"33\" x=\"12\" y=\"25.5352\">Alice</text><rect fill=\"#FEFECE\" filter=\"url(#fn3yvorrca0j1)\" height=\"30.4883\" style=\"stroke:#A80036;stroke-width:1.5;\" width=\"47\" x=\"5\" y=\"176.7305\"/><text fill=\"#000000\" font-family=\"sans-serif\" font-size=\"14\" lengthAdjust=\"spacing\" textLength=\"33\" x=\"12\" y=\"197.2656\">Alice</text><rect fill=\"#FEFECE\" filter=\"url(#fn3yvorrca0j1)\" height=\"30.4883\" style=\"stroke:#A80036;stroke-width:1.5;\" width=\"40\" x=\"241.5\" y=\"5\"/><text fill=\"#000000\" font-family=\"sans-serif\" font-size=\"14\" lengthAdjust=\"spacing\" textLength=\"26\" x=\"248.5\" y=\"25.5352\">Bob</text><rect fill=\"#FEFECE\" filter=\"url(#fn3yvorrca0j1)\" height=\"30.4883\" style=\"stroke:#A80036;stroke-width:1.5;\" width=\"40\" x=\"241.5\" y=\"176.7305\"/><text fill=\"#000000\" font-family=\"sans-serif\" font-size=\"14\" lengthAdjust=\"spacing\" textLength=\"26\" x=\"248.5\" y=\"197.2656\">Bob</text><polygon fill=\"#A80036\" points=\"251.5,67.7988,261.5,71.7988,251.5,75.7988,255.5,71.7988\" style=\"stroke:#A80036;stroke-width:1.0;\"/><line style=\"stroke:#A80036;stroke-width:1.0;\" x1=\"30.5\" x2=\"257.5\" y1=\"71.7988\" y2=\"71.7988\"/><text fill=\"#000000\" font-family=\"sans-serif\" font-size=\"13\" lengthAdjust=\"spacing\" textLength=\"147\" x=\"37.5\" y=\"67.0566\">Authentication Request</text><polygon fill=\"#A80036\" points=\"41.5,97.1094,31.5,101.1094,41.5,105.1094,37.5,101.1094\" style=\"stroke:#A80036;stroke-width:1.0;\"/><line style=\"stroke:#A80036;stroke-width:1.0;stroke-dasharray:2.0,2.0;\" x1=\"35.5\" x2=\"262.5\" y1=\"101.1094\" y2=\"101.1094\"/><text fill=\"#000000\" font-family=\"sans-serif\" font-size=\"13\" lengthAdjust=\"spacing\" textLength=\"157\" x=\"47.5\" y=\"96.3672\">Authentication Response</text><polygon fill=\"#A80036\" points=\"251.5,126.4199,261.5,130.4199,251.5,134.4199,255.5,130.4199\" style=\"stroke:#A80036;stroke-width:1.0;\"/><line style=\"stroke:#A80036;stroke-width:1.0;\" x1=\"30.5\" x2=\"257.5\" y1=\"130.4199\" y2=\"130.4199\"/><text fill=\"#000000\" font-family=\"sans-serif\" font-size=\"13\" lengthAdjust=\"spacing\" textLength=\"199\" x=\"37.5\" y=\"125.6777\">Another authentication Request</text><polygon fill=\"#A80036\" points=\"41.5,155.7305,31.5,159.7305,41.5,163.7305,37.5,159.7305\" style=\"stroke:#A80036;stroke-width:1.0;\"/><line style=\"stroke:#A80036;stroke-width:1.0;stroke-dasharray:2.0,2.0;\" x1=\"35.5\" x2=\"262.5\" y1=\"159.7305\" y2=\"159.7305\"/><text fill=\"#000000\" font-family=\"sans-serif\" font-size=\"13\" lengthAdjust=\"spacing\" textLength=\"209\" x=\"47.5\" y=\"154.9883\">Another authentication Response</text><!--MD5=[9d83859fbba1e46604d9fcd55015f1e2]\n",
       "@startuml\n",
       "Alice -> Bob: Authentication Request\n",
       "Bob - -> Alice: Authentication Response\n",
       "\n",
       "Alice -> Bob: Another authentication Request\n",
       "Alice <- - Bob: Another authentication Response\n",
       "@enduml\n",
       "\n",
       "PlantUML version 1.2021.9(Sun Jul 25 19:13:56 JST 2021)\n",
       "(GPL source distribution)\n",
       "Java Runtime: OpenJDK Runtime Environment\n",
       "JVM: OpenJDK 64-Bit Server VM\n",
       "Default Encoding: UTF-8\n",
       "Language: ja\n",
       "Country: JP\n",
       "--></g></svg>"
      ],
      "text/plain": [
       "<IPython.core.display.SVG object>"
      ]
     },
     "execution_count": 25,
     "metadata": {},
     "output_type": "execute_result"
    }
   ],
   "source": [
    "%%plantuml --jar\n",
    "@startuml\n",
    "Alice -> Bob: Authentication Request\n",
    "Bob --> Alice: Authentication Response\n",
    "\n",
    "Alice -> Bob: Another authentication Request\n",
    "Alice <-- Bob: Another authentication Response\n",
    "@enduml"
   ]
  }
 ],
 "metadata": {
  "kernelspec": {
   "display_name": "python-example-B-yixF64-py3.12",
   "language": "python",
   "name": "python3"
  },
  "language_info": {
   "codemirror_mode": {
    "name": "ipython",
    "version": 3
   },
   "file_extension": ".py",
   "mimetype": "text/x-python",
   "name": "python",
   "nbconvert_exporter": "python",
   "pygments_lexer": "ipython3",
   "version": "3.11.6"
  }
 },
 "nbformat": 4,
 "nbformat_minor": 2
}
