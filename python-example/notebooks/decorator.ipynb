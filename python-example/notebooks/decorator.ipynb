{
 "cells": [
  {
   "cell_type": "markdown",
   "metadata": {},
   "source": [
    "# デコレーター"
   ]
  },
  {
   "cell_type": "markdown",
   "metadata": {},
   "source": [
    "クラスや関数に`@<関数名>`でクラス・関数をデコレートできる。"
   ]
  },
  {
   "cell_type": "markdown",
   "metadata": {},
   "source": [
    "## メソッドをデコレート"
   ]
  },
  {
   "cell_type": "code",
   "execution_count": 1,
   "metadata": {
    "execution": {
     "iopub.execute_input": "2024-02-28T19:52:01.329220Z",
     "iopub.status.busy": "2024-02-28T19:52:01.328602Z",
     "iopub.status.idle": "2024-02-28T19:52:01.343810Z",
     "shell.execute_reply": "2024-02-28T19:52:01.343106Z"
    }
   },
   "outputs": [
    {
     "name": "stdout",
     "output_type": "stream",
     "text": [
      "ラッパー開始 ('foo', 'bar') {'arg3': 'baz'}\n",
      "引数 = foo, bar, baz, qux\n",
      "ラッパー終了\n"
     ]
    },
    {
     "data": {
      "text/plain": [
       "'戻り値'"
      ]
     },
     "execution_count": 1,
     "metadata": {},
     "output_type": "execute_result"
    }
   ],
   "source": [
    "def wrap_method(original_method):\n",
    "    def wrapped_method(*args, **kwargs):\n",
    "        print(f\"ラッパー開始 {args} {kwargs}\")\n",
    "        result = original_method(*args, **kwargs)\n",
    "        print(\"ラッパー終了\")\n",
    "        return result\n",
    "    return wrapped_method\n",
    "\n",
    "@wrap_method\n",
    "def foobar(arg1, arg2, arg3=None, arg4=\"qux\"):\n",
    "    print(f\"引数 = {arg1}, {arg2}, {arg3}, {arg4}\")\n",
    "    return \"戻り値\"\n",
    "\n",
    "foobar(\"foo\", \"bar\", arg3=\"baz\")"
   ]
  },
  {
   "cell_type": "markdown",
   "metadata": {},
   "source": [
    "## クラスをデコレート"
   ]
  },
  {
   "cell_type": "markdown",
   "metadata": {},
   "source": [
    "メソッドを追加する。"
   ]
  },
  {
   "cell_type": "code",
   "execution_count": 2,
   "metadata": {
    "execution": {
     "iopub.execute_input": "2024-02-28T19:52:01.388490Z",
     "iopub.status.busy": "2024-02-28T19:52:01.388225Z",
     "iopub.status.idle": "2024-02-28T19:52:01.392306Z",
     "shell.execute_reply": "2024-02-28T19:52:01.391750Z"
    }
   },
   "outputs": [
    {
     "name": "stdout",
     "output_type": "stream",
     "text": [
      "動的に追加したメソッドです。\n"
     ]
    }
   ],
   "source": [
    "def add_method(cls):\n",
    "    def new_method(self, *args, **kwargs):\n",
    "        print(\"動的に追加したメソッドです。\")\n",
    "    cls.new_method = new_method\n",
    "    return cls\n",
    "\n",
    "@add_method\n",
    "class Foo:\n",
    "    pass\n",
    "\n",
    "f = Foo()\n",
    "f.new_method()"
   ]
  },
  {
   "cell_type": "markdown",
   "metadata": {},
   "source": [
    "メソッドを上書きする。上書きしたメソッドの中で元のメソッドも呼び出してみる。"
   ]
  },
  {
   "cell_type": "code",
   "execution_count": 3,
   "metadata": {
    "execution": {
     "iopub.execute_input": "2024-02-28T19:52:01.395248Z",
     "iopub.status.busy": "2024-02-28T19:52:01.395056Z",
     "iopub.status.idle": "2024-02-28T19:52:01.399207Z",
     "shell.execute_reply": "2024-02-28T19:52:01.398716Z"
    }
   },
   "outputs": [
    {
     "name": "stdout",
     "output_type": "stream",
     "text": [
      "上書きメソッドの開始\n",
      "オリジナルの実装\n",
      "上書きメソッドの終了\n"
     ]
    }
   ],
   "source": [
    "def override_method(cls):\n",
    "    original_method = cls.existing_method\n",
    "    def overridden_method(self, *args, **kwargs):\n",
    "        print(\"上書きメソッドの開始\")\n",
    "        result = original_method(self, *args, **kwargs)\n",
    "        print(\"上書きメソッドの終了\")\n",
    "        return result\n",
    "    cls.existing_method = overridden_method\n",
    "    return cls\n",
    "\n",
    "@override_method\n",
    "class Bar:\n",
    "    def existing_method(self):\n",
    "        print(\"オリジナルの実装\")\n",
    "\n",
    "b = Bar()\n",
    "b.existing_method()"
   ]
  }
 ],
 "metadata": {
  "kernelspec": {
   "display_name": "learn-python-qS5X6pXX-py3.12",
   "language": "python",
   "name": "python3"
  },
  "language_info": {
   "codemirror_mode": {
    "name": "ipython",
    "version": 3
   },
   "file_extension": ".py",
   "mimetype": "text/x-python",
   "name": "python",
   "nbconvert_exporter": "python",
   "pygments_lexer": "ipython3",
   "version": "3.11.6"
  }
 },
 "nbformat": 4,
 "nbformat_minor": 2
}
