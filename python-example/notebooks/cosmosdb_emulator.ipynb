{
 "cells": [
  {
   "cell_type": "markdown",
   "metadata": {},
   "source": [
    "# Cosmos DBエミュレーターを使う"
   ]
  },
  {
   "cell_type": "markdown",
   "metadata": {},
   "source": [
    "Dockerでエミュレーターを動かせられる。\n",
    "\n",
    "- 参考）[開発と CI にエミュレーターを使用する - Azure Cosmos DB | Microsoft Learn](https://learn.microsoft.com/ja-jp/azure/cosmos-db/how-to-develop-emulator?tabs=docker-linux%2Cpython&pivots=api-nosql)"
   ]
  },
  {
   "cell_type": "code",
   "execution_count": 1,
   "metadata": {
    "execution": {
     "iopub.execute_input": "2024-02-28T19:59:59.919559Z",
     "iopub.status.busy": "2024-02-28T19:59:59.919229Z",
     "iopub.status.idle": "2024-02-28T20:00:00.294301Z",
     "shell.execute_reply": "2024-02-28T20:00:00.293581Z"
    },
    "vscode": {
     "languageId": "shellscript"
    }
   },
   "outputs": [
    {
     "name": "stdout",
     "output_type": "stream",
     "text": [
      "e4d5030bc7972b7b15f3750e13f42b24340467e87d3357cda2875c8b9f83efb5\r\n"
     ]
    }
   ],
   "source": [
    "!docker run -d -p 8081:8081 -p 10250-10255:10250-10255 --name cosmos \\\n",
    "  mcr.microsoft.com/cosmosdb/linux/azure-cosmos-emulator"
   ]
  },
  {
   "cell_type": "markdown",
   "metadata": {},
   "source": [
    "次のURLがコンソール。\n",
    "\n",
    "- https://localhost:8081/_explorer/index.html"
   ]
  }
 ],
 "metadata": {
  "kernelspec": {
   "display_name": "python-example-B-yixF64-py3.12",
   "language": "python",
   "name": "python3"
  },
  "language_info": {
   "codemirror_mode": {
    "name": "ipython",
    "version": 3
   },
   "file_extension": ".py",
   "mimetype": "text/x-python",
   "name": "python",
   "nbconvert_exporter": "python",
   "pygments_lexer": "ipython3",
   "version": "3.11.6"
  }
 },
 "nbformat": 4,
 "nbformat_minor": 2
}
