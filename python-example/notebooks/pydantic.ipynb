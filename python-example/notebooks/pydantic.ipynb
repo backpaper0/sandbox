{
 "cells": [
  {
   "cell_type": "markdown",
   "metadata": {},
   "source": [
    "# Pydanticを試す"
   ]
  },
  {
   "cell_type": "code",
   "execution_count": 1,
   "metadata": {},
   "outputs": [
    {
     "name": "stdout",
     "output_type": "stream",
     "text": [
      "Comic(title='ワールドトリガー', author='葦原大介')\n",
      "Comic(title='無限の住人', author='沙村広明')\n",
      "1 validation error for Comic\n",
      "author\n",
      "  Input should be a valid string [type=string_type, input_value=0, input_type=int]\n",
      "    For further information visit https://errors.pydantic.dev/2.6/v/string_type\n"
     ]
    }
   ],
   "source": [
    "from pydantic import BaseModel, ValidationError\n",
    "\n",
    "class Comic(BaseModel):\n",
    "    title: str\n",
    "    author: str\n",
    "\n",
    "comic1 = Comic(title=\"ワールドトリガー\", author=\"葦原大介\")\n",
    "print(repr(comic1))\n",
    "\n",
    "comic2_data = { \"title\": \"無限の住人\", \"author\": \"沙村広明\" }\n",
    "comic2 = Comic(**comic2_data)\n",
    "print(repr(comic2))\n",
    "\n",
    "try:\n",
    "    Comic(title=\"バリデーションエラー\", author=0)\n",
    "except ValidationError as e:\n",
    "    print(e)\n"
   ]
  },
  {
   "cell_type": "code",
   "execution_count": 2,
   "metadata": {},
   "outputs": [
    {
     "name": "stdout",
     "output_type": "stream",
     "text": [
      "{'title': 'Limit', 'singer': 'LUNA SEA'}\n",
      "'{\"title\":\"Limit\",\"singer\":\"LUNA SEA\"}'\n",
      "{'title': FieldInfo(annotation=str, required=True), 'singer': FieldInfo(annotation=str, required=True)}\n",
      "{'properties': {'title': {'title': 'Title', 'type': 'string'}, 'singer': {'title': 'Singer', 'type': 'string'}}, 'required': ['title', 'singer'], 'title': 'Song', 'type': 'object'}\n"
     ]
    }
   ],
   "source": [
    "from pydantic import BaseModel\n",
    "\n",
    "class Song(BaseModel):\n",
    "    title: str\n",
    "    singer: str\n",
    "\n",
    "song1 = Song(title=\"Limit\", singer=\"LUNA SEA\")\n",
    "# dict[str, Any]\n",
    "print(repr(song1.model_dump()))\n",
    "# str\n",
    "print(repr(song1.model_dump_json()))\n",
    "\n",
    "print(song1.model_fields)\n",
    "print(song1.model_json_schema())"
   ]
  }
 ],
 "metadata": {
  "kernelspec": {
   "display_name": "python-example-B-yixF64-py3.11",
   "language": "python",
   "name": "python3"
  },
  "language_info": {
   "codemirror_mode": {
    "name": "ipython",
    "version": 3
   },
   "file_extension": ".py",
   "mimetype": "text/x-python",
   "name": "python",
   "nbconvert_exporter": "python",
   "pygments_lexer": "ipython3",
   "version": "3.11.6"
  }
 },
 "nbformat": 4,
 "nbformat_minor": 2
}
