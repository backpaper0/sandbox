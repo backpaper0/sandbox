{
 "cells": [
  {
   "cell_type": "markdown",
   "metadata": {},
   "source": [
    "# `with`文とコンテキストマネージャー"
   ]
  },
  {
   "cell_type": "markdown",
   "metadata": {},
   "source": [
    "コンテキストマネージャー型のクラスを作ればオレオレ`with`文が可能。"
   ]
  },
  {
   "cell_type": "code",
   "execution_count": 1,
   "metadata": {
    "execution": {
     "iopub.execute_input": "2024-02-28T19:52:57.101456Z",
     "iopub.status.busy": "2024-02-28T19:52:57.101122Z",
     "iopub.status.idle": "2024-02-28T19:52:57.111162Z",
     "shell.execute_reply": "2024-02-28T19:52:57.110445Z"
    }
   },
   "outputs": [
    {
     "name": "stdout",
     "output_type": "stream",
     "text": [
      "enter\n",
      "MyContext\n",
      "exit\n"
     ]
    }
   ],
   "source": [
    "class MyContextManager:\n",
    "\n",
    "    def __enter__(self):\n",
    "        print(\"enter\")\n",
    "        return MyContext()\n",
    "\n",
    "    def __exit__(self, exc_type, exc_val, exc_tb):\n",
    "        print(\"exit\")\n",
    "\n",
    "class MyContext:\n",
    "    def __str__(self):\n",
    "        return \"MyContext\"\n",
    "\n",
    "\n",
    "with MyContextManager() as a:\n",
    "    print(a)\n"
   ]
  },
  {
   "cell_type": "markdown",
   "metadata": {},
   "source": [
    "`__enter__`は`self`を返しても良い。"
   ]
  },
  {
   "cell_type": "code",
   "execution_count": 2,
   "metadata": {
    "execution": {
     "iopub.execute_input": "2024-02-28T19:52:57.155510Z",
     "iopub.status.busy": "2024-02-28T19:52:57.155245Z",
     "iopub.status.idle": "2024-02-28T19:52:57.159448Z",
     "shell.execute_reply": "2024-02-28T19:52:57.158850Z"
    }
   },
   "outputs": [
    {
     "name": "stdout",
     "output_type": "stream",
     "text": [
      "enter2\n",
      "MyContextManager2\n",
      "exit2\n"
     ]
    }
   ],
   "source": [
    "class MyContextManager2:\n",
    "\n",
    "    def __enter__(self):\n",
    "        print(\"enter2\")\n",
    "        return self\n",
    "\n",
    "    def __exit__(self, exc_type, exc_val, exc_tb):\n",
    "        print(\"exit2\")\n",
    "\n",
    "    def __str__(self):\n",
    "        return \"MyContextManager2\"\n",
    "\n",
    "with MyContextManager2() as a:\n",
    "    print(a)\n"
   ]
  }
 ],
 "metadata": {
  "kernelspec": {
   "display_name": "learn-python-qS5X6pXX-py3.12",
   "language": "python",
   "name": "python3"
  },
  "language_info": {
   "codemirror_mode": {
    "name": "ipython",
    "version": 3
   },
   "file_extension": ".py",
   "mimetype": "text/x-python",
   "name": "python",
   "nbconvert_exporter": "python",
   "pygments_lexer": "ipython3",
   "version": "3.11.6"
  }
 },
 "nbformat": 4,
 "nbformat_minor": 2
}
