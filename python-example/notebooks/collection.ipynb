{
 "cells": [
  {
   "cell_type": "markdown",
   "metadata": {},
   "source": [
    "# コレクション"
   ]
  },
  {
   "cell_type": "markdown",
   "metadata": {},
   "source": [
    "## コレクションの確認"
   ]
  },
  {
   "cell_type": "markdown",
   "metadata": {},
   "source": [
    "リスト、辞書、集合、タプルなどがある。"
   ]
  },
  {
   "cell_type": "code",
   "execution_count": 1,
   "metadata": {
    "execution": {
     "iopub.execute_input": "2024-02-28T19:51:58.149856Z",
     "iopub.status.busy": "2024-02-28T19:51:58.149485Z",
     "iopub.status.idle": "2024-02-28T19:51:58.162580Z",
     "shell.execute_reply": "2024-02-28T19:51:58.161855Z"
    }
   },
   "outputs": [
    {
     "data": {
      "text/plain": [
       "([1, 2, 2, 3, 3, 3], {'name': 'Taichi', 'age': 40}, {1, 2, 3}, ('Taichi', 40))"
      ]
     },
     "execution_count": 1,
     "metadata": {},
     "output_type": "execute_result"
    }
   ],
   "source": [
    "lst = [1, 2, 2, 3, 3, 3]\n",
    "dct = {\"name\": \"Taichi\", \"age\": 40}\n",
    "st = {1, 2, 2, 3, 3, 3}\n",
    "tpl = (\"Taichi\", 40)\n",
    "\n",
    "lst, dct, st, tpl"
   ]
  },
  {
   "cell_type": "markdown",
   "metadata": {},
   "source": [
    "## 内包表記"
   ]
  },
  {
   "cell_type": "markdown",
   "metadata": {},
   "source": [
    "リスト、辞書、集合では内包表記が使える。"
   ]
  },
  {
   "cell_type": "code",
   "execution_count": 2,
   "metadata": {
    "execution": {
     "iopub.execute_input": "2024-02-28T19:51:58.206327Z",
     "iopub.status.busy": "2024-02-28T19:51:58.206068Z",
     "iopub.status.idle": "2024-02-28T19:51:58.211199Z",
     "shell.execute_reply": "2024-02-28T19:51:58.210680Z"
    }
   },
   "outputs": [
    {
     "data": {
      "text/plain": [
       "([6, 10, 5], {'Cherry': 6, 'Strawberry': 10, 'Grape': 5}, {5, 6, 10})"
      ]
     },
     "execution_count": 2,
     "metadata": {},
     "output_type": "execute_result"
    }
   ],
   "source": [
    "fruits = [\"Cherry\", \"Strawberry\", \"Grape\"]\n",
    "\n",
    "# リスト内包表記\n",
    "lst2 = [len(a) for a in fruits]\n",
    "# 同じ内容をfor文で書くとこんな感じ\n",
    "# lst2 = []\n",
    "# for a in fruits:\n",
    "#     lst2.append(len(fruits))\n",
    "\n",
    "# 辞書内包表記\n",
    "dct2 = {a: len(a) for a in fruits}\n",
    "\n",
    "# 集合内包表記\n",
    "st2 = {len(a) for a in fruits}\n",
    "\n",
    "lst2, dct2, st2"
   ]
  },
  {
   "cell_type": "markdown",
   "metadata": {},
   "source": [
    "## ループ"
   ]
  },
  {
   "cell_type": "markdown",
   "metadata": {},
   "source": [
    "`for-in`でループできる。"
   ]
  },
  {
   "cell_type": "code",
   "execution_count": 3,
   "metadata": {},
   "outputs": [
    {
     "data": {
      "text/plain": [
       "(['Cherry', 'Strawberry', 'Grape'],\n",
       " ['Cherry', 'Strawberry', 'Grape'],\n",
       " [10, 5, 6],\n",
       " ['foo', 'bar', 'baz'])"
      ]
     },
     "execution_count": 3,
     "metadata": {},
     "output_type": "execute_result"
    }
   ],
   "source": [
    "(\n",
    "    [a for a in fruits],  # リスト\n",
    "    [a for a in dct2],  # 辞書\n",
    "    [a for a in st2],  # 集合\n",
    "    [a for a in (\"foo\", \"bar\", \"baz\")],  # タプル\n",
    ")"
   ]
  },
  {
   "cell_type": "markdown",
   "metadata": {},
   "source": [
    "インデックス付きでループしたい場合は`enumerate`関数が使える。"
   ]
  },
  {
   "cell_type": "code",
   "execution_count": 4,
   "metadata": {
    "execution": {
     "iopub.execute_input": "2024-02-28T19:51:58.213951Z",
     "iopub.status.busy": "2024-02-28T19:51:58.213729Z",
     "iopub.status.idle": "2024-02-28T19:51:58.217479Z",
     "shell.execute_reply": "2024-02-28T19:51:58.217015Z"
    }
   },
   "outputs": [
    {
     "data": {
      "text/plain": [
       "([(0, 'Cherry'), (1, 'Strawberry'), (2, 'Grape')],\n",
       " [(0, 'Cherry'), (1, 'Strawberry'), (2, 'Grape')],\n",
       " [(0, 10), (1, 5), (2, 6)],\n",
       " [(0, 'foo'), (1, 'bar'), (2, 'baz')])"
      ]
     },
     "execution_count": 4,
     "metadata": {},
     "output_type": "execute_result"
    }
   ],
   "source": [
    "(\n",
    "    [(i, a) for i, a in enumerate(fruits)],  # リスト\n",
    "    [(i, a) for i, a in enumerate(dct2)],  # 辞書\n",
    "    [(i, a) for i, a in enumerate(st2)],  # 集合\n",
    "    [(i, a) for i, a in enumerate((\"foo\", \"bar\", \"baz\"))],  # タプル\n",
    ")"
   ]
  },
  {
   "cell_type": "markdown",
   "metadata": {},
   "source": [
    "## リストの操作"
   ]
  },
  {
   "cell_type": "markdown",
   "metadata": {},
   "source": [
    "`filter`や`map`、`flatMap`、`reduce`ができるか試す。"
   ]
  },
  {
   "cell_type": "code",
   "execution_count": 5,
   "metadata": {},
   "outputs": [
    {
     "data": {
      "text/plain": [
       "{'元のリスト': [1, 2, 3, 4, 5],\n",
       " 'filterでフィルター': [2, 4],\n",
       " 'リスト内包表記でフィルター': [2, 4],\n",
       " 'mapでマップ': [2, 4, 6, 8, 10],\n",
       " 'リスト内包表記でマップ': [2, 4, 6, 8, 10],\n",
       " 'フラットマップ': [1, 1, 2, 2, 3, 3, 4, 4, 5, 5],\n",
       " 'reduceで求めた合計': 15}"
      ]
     },
     "execution_count": 5,
     "metadata": {},
     "output_type": "execute_result"
    }
   ],
   "source": [
    "from functools import reduce\n",
    "from itertools import chain\n",
    "\n",
    "src_list = [a for a in range(1, 6)]\n",
    "\n",
    "# 偶数だけにフィルターする\n",
    "filter1 = list(filter(lambda a: a % 2 == 0, src_list))\n",
    "filter2 = [a for a in src_list if a % 2 == 0]\n",
    "\n",
    "# 2倍にマップする\n",
    "map1 = list(map(lambda a: a * 2, src_list))\n",
    "map2 = [a * 2 for a in src_list]\n",
    "\n",
    "flat_map = list(chain.from_iterable([[a, a] for a in src_list]))\n",
    "\n",
    "test_reduce = reduce(lambda a, b: a + b, src_list)\n",
    "\n",
    "{\n",
    "    \"元のリスト\": src_list,\n",
    "    \"filterでフィルター\": filter1,\n",
    "    \"リスト内包表記でフィルター\": filter2,\n",
    "    \"mapでマップ\": map1,\n",
    "    \"リスト内包表記でマップ\": map2,\n",
    "    \"フラットマップ\": flat_map,\n",
    "    \"reduceで求めた合計\": test_reduce,\n",
    "}"
   ]
  },
  {
   "cell_type": "markdown",
   "metadata": {},
   "source": [
    "もうちょい`reduce`を試す。"
   ]
  },
  {
   "cell_type": "code",
   "execution_count": 6,
   "metadata": {},
   "outputs": [
    {
     "data": {
      "text/plain": [
       "('TypeError', 1, '2 + 4')"
      ]
     },
     "execution_count": 6,
     "metadata": {},
     "output_type": "execute_result"
    }
   ],
   "source": [
    "def test_reduce(xs: list[int]) -> int:\n",
    "    return reduce(lambda a, b: f\"{a} + {b}\", xs)\n",
    "\n",
    "\n",
    "# 要素数0のリスト(TypeErrorになる)\n",
    "try:\n",
    "    a = test_reduce([])\n",
    "except TypeError:\n",
    "    a = \"TypeError\"\n",
    "\n",
    "# 要素数1のリスト(関数は呼び出されず唯一の要素がそのまま返される)\n",
    "b = test_reduce([1])\n",
    "\n",
    "# 要素数2のリスト(普通に処理される)\n",
    "c = test_reduce([2, 4])\n",
    "\n",
    "a, b, c"
   ]
  },
  {
   "cell_type": "markdown",
   "metadata": {},
   "source": [
    "「どれかひとつの要素が`True`なら`True`(`any`)」と「すべての要素が`True`なら`True`(`all`)」も試す。"
   ]
  },
  {
   "cell_type": "code",
   "execution_count": 7,
   "metadata": {},
   "outputs": [
    {
     "data": {
      "text/plain": [
       "(True, False, True, False)"
      ]
     },
     "execution_count": 7,
     "metadata": {},
     "output_type": "execute_result"
    }
   ],
   "source": [
    "(\n",
    "    any([a % 2 == 0 for a in [1, 2, 3]]),\n",
    "    any([a % 2 == 0 for a in [1, 3, 5]]),\n",
    "    all([a > 0 for a in [1, 2, 3]]),\n",
    "    all([a > 0 for a in [0, 1, 2]]),\n",
    ")"
   ]
  },
  {
   "cell_type": "markdown",
   "metadata": {},
   "source": [
    "## 結合する"
   ]
  },
  {
   "cell_type": "markdown",
   "metadata": {},
   "source": [
    "リストは`+`演算で良さそう。"
   ]
  },
  {
   "cell_type": "code",
   "execution_count": 8,
   "metadata": {},
   "outputs": [
    {
     "data": {
      "text/plain": [
       "(list, ['foo', 'bar', 'baz', 'qux'])"
      ]
     },
     "execution_count": 8,
     "metadata": {},
     "output_type": "execute_result"
    }
   ],
   "source": [
    "a = [\"foo\", \"bar\"]\n",
    "b = [\"baz\", \"qux\"]\n",
    "c = a + b\n",
    "\n",
    "type(c), c"
   ]
  },
  {
   "cell_type": "markdown",
   "metadata": {},
   "source": [
    "タプルも`+`演算。"
   ]
  },
  {
   "cell_type": "code",
   "execution_count": 9,
   "metadata": {},
   "outputs": [
    {
     "data": {
      "text/plain": [
       "(tuple, ('foo', 'bar', 'baz', 'qux'))"
      ]
     },
     "execution_count": 9,
     "metadata": {},
     "output_type": "execute_result"
    }
   ],
   "source": [
    "a = (\"foo\", \"bar\")\n",
    "b = (\"baz\", \"qux\")\n",
    "c = a + b\n",
    "\n",
    "type(c), c"
   ]
  },
  {
   "cell_type": "markdown",
   "metadata": {},
   "source": [
    "辞書は`**`が使える。後勝ちっぽい。"
   ]
  },
  {
   "cell_type": "code",
   "execution_count": 10,
   "metadata": {},
   "outputs": [
    {
     "data": {
      "text/plain": [
       "(dict, {'f': 'foo', 'b': 'baz', 'q': 'qux'})"
      ]
     },
     "execution_count": 10,
     "metadata": {},
     "output_type": "execute_result"
    }
   ],
   "source": [
    "a = {\"f\": \"foo\", \"b\": \"bar\"}\n",
    "b = {\"b\": \"baz\", \"q\": \"qux\"}\n",
    "c = {**a, **b}\n",
    "\n",
    "type(c), c"
   ]
  },
  {
   "cell_type": "markdown",
   "metadata": {},
   "source": [
    "集合は`|`演算。"
   ]
  },
  {
   "cell_type": "code",
   "execution_count": 11,
   "metadata": {},
   "outputs": [
    {
     "data": {
      "text/plain": [
       "(set, {1, 2, 3, 4, 5})"
      ]
     },
     "execution_count": 11,
     "metadata": {},
     "output_type": "execute_result"
    }
   ],
   "source": [
    "a = {1, 2, 3}\n",
    "b = {3, 4, 5}\n",
    "c = a | b\n",
    "\n",
    "type(c), c"
   ]
  },
  {
   "cell_type": "markdown",
   "metadata": {},
   "source": [
    "`&`演算もある。"
   ]
  },
  {
   "cell_type": "code",
   "execution_count": 12,
   "metadata": {},
   "outputs": [
    {
     "data": {
      "text/plain": [
       "(set, {3})"
      ]
     },
     "execution_count": 12,
     "metadata": {},
     "output_type": "execute_result"
    }
   ],
   "source": [
    "a = {1, 2, 3}\n",
    "b = {3, 4, 5}\n",
    "c = a & b\n",
    "\n",
    "type(c), c"
   ]
  }
 ],
 "metadata": {
  "kernelspec": {
   "display_name": "learn-python-qS5X6pXX-py3.12",
   "language": "python",
   "name": "python3"
  },
  "language_info": {
   "codemirror_mode": {
    "name": "ipython",
    "version": 3
   },
   "file_extension": ".py",
   "mimetype": "text/x-python",
   "name": "python",
   "nbconvert_exporter": "python",
   "pygments_lexer": "ipython3",
   "version": "3.11.6"
  }
 },
 "nbformat": 4,
 "nbformat_minor": 2
}
