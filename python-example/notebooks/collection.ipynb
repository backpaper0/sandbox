{
 "cells": [
  {
   "cell_type": "markdown",
   "metadata": {},
   "source": [
    "# コレクション"
   ]
  },
  {
   "cell_type": "markdown",
   "metadata": {},
   "source": [
    "リスト、辞書、集合、タプルなどがある。"
   ]
  },
  {
   "cell_type": "code",
   "execution_count": 1,
   "metadata": {
    "execution": {
     "iopub.execute_input": "2024-02-28T19:51:58.149856Z",
     "iopub.status.busy": "2024-02-28T19:51:58.149485Z",
     "iopub.status.idle": "2024-02-28T19:51:58.162580Z",
     "shell.execute_reply": "2024-02-28T19:51:58.161855Z"
    }
   },
   "outputs": [
    {
     "data": {
      "text/plain": [
       "([1, 2, 2, 3, 3, 3], {'name': 'Taichi', 'age': 40}, {1, 2, 3}, ('Taichi', 40))"
      ]
     },
     "execution_count": 1,
     "metadata": {},
     "output_type": "execute_result"
    }
   ],
   "source": [
    "lst = [1, 2, 2, 3, 3, 3]\n",
    "dct = {\"name\":\"Taichi\", \"age\":40}\n",
    "st = {1, 2, 2, 3, 3, 3}\n",
    "tpl = (\"Taichi\", 40)\n",
    "\n",
    "lst, dct, st, tpl"
   ]
  },
  {
   "cell_type": "markdown",
   "metadata": {},
   "source": [
    "リスト、辞書、集合では内包表記が使える。"
   ]
  },
  {
   "cell_type": "code",
   "execution_count": 2,
   "metadata": {
    "execution": {
     "iopub.execute_input": "2024-02-28T19:51:58.206327Z",
     "iopub.status.busy": "2024-02-28T19:51:58.206068Z",
     "iopub.status.idle": "2024-02-28T19:51:58.211199Z",
     "shell.execute_reply": "2024-02-28T19:51:58.210680Z"
    }
   },
   "outputs": [
    {
     "data": {
      "text/plain": [
       "([6, 10, 5], {'Cherry': 6, 'Strawberry': 10, 'Grape': 5}, {5, 6, 10})"
      ]
     },
     "execution_count": 2,
     "metadata": {},
     "output_type": "execute_result"
    }
   ],
   "source": [
    "fruits = [\"Cherry\", \"Strawberry\", \"Grape\"]\n",
    "\n",
    "# リスト内包表記\n",
    "lst2 = [len(a) for a in fruits]\n",
    "# 同じ内容をfor文で書くとこんな感じ\n",
    "# lst2 = []\n",
    "# for a in fruits:\n",
    "#     lst2.append(len(fruits))\n",
    "\n",
    "# 辞書内包表記\n",
    "dct2 = {a: len(a) for a in fruits}\n",
    "\n",
    "# 集合内包表記\n",
    "st2 = {len(a) for a in fruits}\n",
    "\n",
    "lst2, dct2, st2"
   ]
  },
  {
   "cell_type": "markdown",
   "metadata": {},
   "source": [
    "インデックス付きでリスト回したい場合は`enumerate`関数が使える。"
   ]
  },
  {
   "cell_type": "code",
   "execution_count": 3,
   "metadata": {
    "execution": {
     "iopub.execute_input": "2024-02-28T19:51:58.213951Z",
     "iopub.status.busy": "2024-02-28T19:51:58.213729Z",
     "iopub.status.idle": "2024-02-28T19:51:58.217479Z",
     "shell.execute_reply": "2024-02-28T19:51:58.217015Z"
    }
   },
   "outputs": [
    {
     "data": {
      "text/plain": [
       "['0 Cherry', '1 Strawberry', '2 Grape']"
      ]
     },
     "execution_count": 3,
     "metadata": {},
     "output_type": "execute_result"
    }
   ],
   "source": [
    "[f\"{i} {a}\" for i, a in enumerate(fruits)]"
   ]
  }
 ],
 "metadata": {
  "kernelspec": {
   "display_name": "learn-python-qS5X6pXX-py3.12",
   "language": "python",
   "name": "python3"
  },
  "language_info": {
   "codemirror_mode": {
    "name": "ipython",
    "version": 3
   },
   "file_extension": ".py",
   "mimetype": "text/x-python",
   "name": "python",
   "nbconvert_exporter": "python",
   "pygments_lexer": "ipython3",
   "version": "3.11.6"
  }
 },
 "nbformat": 4,
 "nbformat_minor": 2
}
