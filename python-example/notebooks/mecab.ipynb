{
 "cells": [
  {
   "cell_type": "code",
   "execution_count": 1,
   "metadata": {},
   "outputs": [],
   "source": [
    "import MeCab\n",
    "import ipadic"
   ]
  },
  {
   "cell_type": "code",
   "execution_count": 2,
   "metadata": {},
   "outputs": [
    {
     "name": "stdout",
     "output_type": "stream",
     "text": [
      "<class 'str'>\n",
      "今日\t名詞,副詞可能,*,*,*,*,今日,キョウ,キョー\n",
      "は\t助詞,係助詞,*,*,*,*,は,ハ,ワ\n",
      "いい\t形容詞,自立,*,*,形容詞・イイ,基本形,いい,イイ,イイ\n",
      "天気\t名詞,一般,*,*,*,*,天気,テンキ,テンキ\n",
      "です\t助動詞,*,*,*,特殊・デス,基本形,です,デス,デス\n",
      "。\t記号,句点,*,*,*,*,。,。,。\n",
      "EOS\n",
      "\n"
     ]
    }
   ],
   "source": [
    "tagger = MeCab.Tagger(ipadic.MECAB_ARGS)\n",
    "node = tagger.parse(\"今日はいい天気です。\")\n",
    "print(type(node))\n",
    "print(node)"
   ]
  },
  {
   "cell_type": "code",
   "execution_count": 3,
   "metadata": {},
   "outputs": [
    {
     "name": "stdout",
     "output_type": "stream",
     "text": [
      "<class 'str'>\n",
      "今日 は いい 天気 です 。 \n",
      "\n"
     ]
    }
   ],
   "source": [
    "tagger = MeCab.Tagger(f\"-Owakati {ipadic.MECAB_ARGS}\")\n",
    "node = tagger.parse(\"今日はいい天気です。\")\n",
    "print(type(node))\n",
    "print(node)"
   ]
  },
  {
   "cell_type": "code",
   "execution_count": 4,
   "metadata": {},
   "outputs": [
    {
     "name": "stdout",
     "output_type": "stream",
     "text": [
      "今日はいい天気です。 -> 今日 いい 天気\n",
      "完全に理解した人達。 -> 完全 理解 する 人達\n",
      "Spring Boot とは、設定がほとんど不要で Spring と外部ライブラリを利用でき、規約に従うことにより Spring ベースのアプリケーションを簡単に作成できる事実上標準の Java フレームワークです。 -> Spring Boot 設定 ほとんど 不要 Spring 外部 ライブラリ 利用 できる 規約 従う こと Spring ベース アプリケーション 簡単 作成 できる 事実 上 標準 Java フレーム ワーク\n"
     ]
    }
   ],
   "source": [
    "tagger = MeCab.Tagger(ipadic.MECAB_ARGS)\n",
    "for sentence in [\n",
    "    \"今日はいい天気です。\",\n",
    "    \"完全に理解した人達。\",\n",
    "    \"Spring Boot とは、設定がほとんど不要で Spring と外部ライブラリを利用でき、規約に従うことにより Spring ベースのアプリケーションを簡単に作成できる事実上標準の Java フレームワークです。\",\n",
    "]:\n",
    "    node = tagger.parseToNode(sentence)\n",
    "\n",
    "    original = []\n",
    "    while True:\n",
    "        node = node.next\n",
    "        if node is None:\n",
    "            break\n",
    "        feature = node.feature.split(\",\")\n",
    "        if feature[0] == \"BOS/EOS\":\n",
    "            break\n",
    "        elif feature[0] in [\"助詞\", \"助動詞\", \"記号\"]:\n",
    "            continue\n",
    "        elif feature[0] in [\"名詞\"]:\n",
    "            original.append(node.surface)\n",
    "        else:\n",
    "            original.append(feature[6])\n",
    "\n",
    "    print(f\"{sentence} -> {' '.join(original)}\")"
   ]
  }
 ],
 "metadata": {
  "kernelspec": {
   "display_name": "python-example-B-yixF64-py3.11",
   "language": "python",
   "name": "python3"
  },
  "language_info": {
   "codemirror_mode": {
    "name": "ipython",
    "version": 3
   },
   "file_extension": ".py",
   "mimetype": "text/x-python",
   "name": "python",
   "nbconvert_exporter": "python",
   "pygments_lexer": "ipython3",
   "version": "3.11.6"
  }
 },
 "nbformat": 4,
 "nbformat_minor": 2
}
