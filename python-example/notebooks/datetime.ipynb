{
 "cells": [
  {
   "cell_type": "markdown",
   "metadata": {},
   "source": [
    "# 日時"
   ]
  },
  {
   "cell_type": "markdown",
   "metadata": {},
   "source": [
    "パースする。"
   ]
  },
  {
   "cell_type": "code",
   "execution_count": 1,
   "metadata": {},
   "outputs": [
    {
     "data": {
      "text/plain": [
       "(datetime.datetime(2024, 3, 18, 21, 29, 30),\n",
       " datetime.date(2024, 3, 18),\n",
       " datetime.time(21, 29, 30))"
      ]
     },
     "execution_count": 1,
     "metadata": {},
     "output_type": "execute_result"
    }
   ],
   "source": [
    "from datetime import datetime, date, time\n",
    "\n",
    "dt: datetime = datetime.strptime(\"2024/03/18 21:29:30\", \"%Y/%m/%d %H:%M:%S\")\n",
    "d: date = datetime.strptime(\"2024/03/18\", \"%Y/%m/%d\").date()\n",
    "t: time = datetime.strptime(\"21:29:30\", \"%H:%M:%S\").time()\n",
    "\n",
    "dt, d, t"
   ]
  },
  {
   "cell_type": "markdown",
   "metadata": {},
   "source": [
    "フォーマットする。"
   ]
  },
  {
   "cell_type": "code",
   "execution_count": 2,
   "metadata": {},
   "outputs": [
    {
     "data": {
      "text/plain": [
       "'2024/03/18 21:29:30'"
      ]
     },
     "execution_count": 2,
     "metadata": {},
     "output_type": "execute_result"
    }
   ],
   "source": [
    "from datetime import datetime, date, time\n",
    "\n",
    "dt = datetime(2024, 3, 18, 21, 29, 30)\n",
    "s: str = dt.strftime(\"%Y/%m/%d %H:%M:%S\")\n",
    "\n",
    "s"
   ]
  },
  {
   "cell_type": "markdown",
   "metadata": {},
   "source": [
    "ISO 8601形式の日時をUNIX時間へ変換する。"
   ]
  },
  {
   "cell_type": "code",
   "execution_count": 3,
   "metadata": {},
   "outputs": [
    {
     "data": {
      "text/plain": [
       "1710764400.0"
      ]
     },
     "execution_count": 3,
     "metadata": {},
     "output_type": "execute_result"
    }
   ],
   "source": [
    "from datetime import datetime\n",
    "\n",
    "iso_format = \"2024-03-18T21:20:00+09:00\"\n",
    "date_object = datetime.fromisoformat(iso_format)\n",
    "unix_timestamp = date_object.timestamp()\n",
    "\n",
    "unix_timestamp"
   ]
  }
 ],
 "metadata": {
  "kernelspec": {
   "display_name": "python-example-B-yixF64-py3.11",
   "language": "python",
   "name": "python3"
  },
  "language_info": {
   "codemirror_mode": {
    "name": "ipython",
    "version": 3
   },
   "file_extension": ".py",
   "mimetype": "text/x-python",
   "name": "python",
   "nbconvert_exporter": "python",
   "pygments_lexer": "ipython3",
   "version": "3.11.6"
  }
 },
 "nbformat": 4,
 "nbformat_minor": 2
}
