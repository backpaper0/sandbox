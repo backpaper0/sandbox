{
 "cells": [
  {
   "cell_type": "markdown",
   "metadata": {},
   "source": [
    "# リテラル"
   ]
  },
  {
   "cell_type": "markdown",
   "metadata": {},
   "source": [
    "## 文字列リテラル"
   ]
  },
  {
   "cell_type": "markdown",
   "metadata": {},
   "source": [
    "`\"`または`'`で括る。`\"\"\"`または`'''`で括ると複数行リテラル。"
   ]
  },
  {
   "cell_type": "code",
   "execution_count": 1,
   "metadata": {},
   "outputs": [
    {
     "name": "stdout",
     "output_type": "stream",
     "text": [
      "1. 文字列リテラルです。\n",
      "2. シングルクォートでもOKです。\n",
      "3. 三つ重ねれば\n",
      "   \"複数行リテラル\"です。\n",
      "4. こちらも\n",
      "   'シングルクォート'が\n",
      "   使えます。\n"
     ]
    }
   ],
   "source": [
    "print(\"1. 文字列リテラルです。\")\n",
    "print('2. シングルクォートでもOKです。')\n",
    "print(\"\"\"3. 三つ重ねれば\n",
    "   \"複数行リテラル\"です。\"\"\")\n",
    "print('''4. こちらも\n",
    "   'シングルクォート'が\n",
    "   使えます。''')"
   ]
  },
  {
   "cell_type": "markdown",
   "metadata": {},
   "source": [
    "`r`または`R`を付けると raw strings となり、バックスラッシュがエスケープシーケンスとして扱われなくなる。"
   ]
  },
  {
   "cell_type": "code",
   "execution_count": 2,
   "metadata": {},
   "outputs": [
    {
     "name": "stdout",
     "output_type": "stream",
     "text": [
      "Python\n",
      "\\u0050\\u0079\\u0074\\u0068\\u006F\\u006E\n",
      "\\u0050\\u0079\\u0074\\u0068\\u006F\\u006E\n"
     ]
    }
   ],
   "source": [
    "print(\"\\u0050\\u0079\\u0074\\u0068\\u006F\\u006E\")\n",
    "print(r\"\\u0050\\u0079\\u0074\\u0068\\u006F\\u006E\")\n",
    "print(R\"\\u0050\\u0079\\u0074\\u0068\\u006F\\u006E\")"
   ]
  },
  {
   "cell_type": "markdown",
   "metadata": {},
   "source": [
    "`f`または`F`を付けるとフォーマット済み文字列リテラルとなり、`{}`で変数や式を埋め込める。"
   ]
  },
  {
   "cell_type": "code",
   "execution_count": 3,
   "metadata": {},
   "outputs": [
    {
     "name": "stdout",
     "output_type": "stream",
     "text": [
      "Hello, world!\n",
      "HELLO, WORLD!\n"
     ]
    }
   ],
   "source": [
    "line = \"Hello, world!\"\n",
    "print(f\"{line}\")\n",
    "print(F\"{line.upper()}\")"
   ]
  },
  {
   "cell_type": "markdown",
   "metadata": {},
   "source": [
    "書式指定もできる。"
   ]
  },
  {
   "cell_type": "code",
   "execution_count": 4,
   "metadata": {},
   "outputs": [
    {
     "name": "stdout",
     "output_type": "stream",
     "text": [
      "0001234567\n",
      "   1234567\n",
      "1,234,567\n",
      "      1,234,567\n",
      "12d687\n",
      "foo      \n",
      "      foo\n",
      "   foo   \n",
      "foo......\n",
      "......foo\n",
      "...foo...\n"
     ]
    }
   ],
   "source": [
    "a = 1234567\n",
    "print(f\"{a:010}\") #0埋め10桁\n",
    "print(f\"{a:10}\") #10桁(右寄せ)\n",
    "print(f\"{a:,}\")\n",
    "print(f\"{a:15,}\")\n",
    "print(f\"{a:x}\") #16進数表現\n",
    "\n",
    "b = \"foo\"\n",
    "print(f\"{b:<9}\") #左寄せ\n",
    "print(f\"{b:>9}\") #右寄せ\n",
    "print(f\"{b:^9}\") #中央寄せ\n",
    "\n",
    "print(f\"{b:.<9}\")\n",
    "print(f\"{b:.>9}\")\n",
    "print(f\"{b:.^9}\")"
   ]
  },
  {
   "cell_type": "markdown",
   "metadata": {},
   "source": [
    "`u`または`U`というプレフィックスもあって、これはUnicode文字列ということを表すものだが、Python 2.xとの文法上の互換性を保つために存在するのであって、Python 3.xでは意味をなさない。"
   ]
  }
 ],
 "metadata": {
  "kernelspec": {
   "display_name": "learn-python-qS5X6pXX-py3.12",
   "language": "python",
   "name": "python3"
  },
  "language_info": {
   "codemirror_mode": {
    "name": "ipython",
    "version": 3
   },
   "file_extension": ".py",
   "mimetype": "text/x-python",
   "name": "python",
   "nbconvert_exporter": "python",
   "pygments_lexer": "ipython3",
   "version": "3.12.2"
  }
 },
 "nbformat": 4,
 "nbformat_minor": 2
}
