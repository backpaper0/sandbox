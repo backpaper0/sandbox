{
 "cells": [
  {
   "cell_type": "markdown",
   "metadata": {},
   "source": [
    "# JSON操作"
   ]
  },
  {
   "cell_type": "code",
   "execution_count": 1,
   "metadata": {
    "execution": {
     "iopub.execute_input": "2024-02-28T19:52:07.234250Z",
     "iopub.status.busy": "2024-02-28T19:52:07.233930Z",
     "iopub.status.idle": "2024-02-28T19:52:07.241835Z",
     "shell.execute_reply": "2024-02-28T19:52:07.241168Z"
    }
   },
   "outputs": [],
   "source": [
    "import json"
   ]
  },
  {
   "cell_type": "markdown",
   "metadata": {},
   "source": [
    "`json`を使ってJSONの文字列表現と辞書の相互変換ができる。"
   ]
  },
  {
   "cell_type": "code",
   "execution_count": 2,
   "metadata": {
    "execution": {
     "iopub.execute_input": "2024-02-28T19:52:07.245241Z",
     "iopub.status.busy": "2024-02-28T19:52:07.244984Z",
     "iopub.status.idle": "2024-02-28T19:52:07.249796Z",
     "shell.execute_reply": "2024-02-28T19:52:07.249087Z"
    }
   },
   "outputs": [
    {
     "name": "stdout",
     "output_type": "stream",
     "text": [
      "{'name': 'Taichi', 'age': 40, 'fav_things': ['Java', 'BotW', 'LUNA SEA']}\n",
      "<class 'dict'>\n",
      "{\"name\": \"Taichi\", \"age\": 40, \"fav_things\": [\"Java\", \"BotW\", \"LUNA SEA\"]}\n",
      "<class 'str'>\n"
     ]
    }
   ],
   "source": [
    "source_text = \"\"\"{\n",
    "    \"name\": \"Taichi\",\n",
    "    \"age\": 40,\n",
    "    \"fav_things\": [\"Java\", \"BotW\", \"LUNA SEA\"]\n",
    "}\"\"\"\n",
    "\n",
    "json_data = json.loads(source_text)\n",
    "print(json_data)\n",
    "print(type(json_data))\n",
    "\n",
    "json_text = json.dumps(json_data)\n",
    "print(json_text)\n",
    "print(type(json_text))"
   ]
  },
  {
   "cell_type": "markdown",
   "metadata": {},
   "source": [
    "[pandas](https://pandas.pydata.org/)でもJSONを扱える。"
   ]
  },
  {
   "cell_type": "code",
   "execution_count": 3,
   "metadata": {
    "execution": {
     "iopub.execute_input": "2024-02-28T19:52:07.292643Z",
     "iopub.status.busy": "2024-02-28T19:52:07.292274Z",
     "iopub.status.idle": "2024-02-28T19:52:23.489402Z",
     "shell.execute_reply": "2024-02-28T19:52:23.488614Z"
    }
   },
   "outputs": [],
   "source": [
    "import pandas as pd\n",
    "import io"
   ]
  },
  {
   "cell_type": "code",
   "execution_count": 4,
   "metadata": {
    "execution": {
     "iopub.execute_input": "2024-02-28T19:52:23.492474Z",
     "iopub.status.busy": "2024-02-28T19:52:23.492188Z",
     "iopub.status.idle": "2024-02-28T19:52:23.503447Z",
     "shell.execute_reply": "2024-02-28T19:52:23.502938Z"
    }
   },
   "outputs": [
    {
     "data": {
      "text/plain": [
       "['ALICE', 'BOB', 'CAROL', 'DAVE', 'EVE']"
      ]
     },
     "execution_count": 4,
     "metadata": {},
     "output_type": "execute_result"
    }
   ],
   "source": [
    "json_text = \"\"\"[\n",
    "    {\"name\": \"Alice\"},\n",
    "    {\"name\": \"Bob\"},\n",
    "    {\"name\": \"Carol\"},\n",
    "    {\"name\": \"Dave\"},\n",
    "    {\"name\": \"Eve\"}\n",
    "]\"\"\"\n",
    "\n",
    "df = pd.read_json(io.StringIO(json_text))\n",
    "len(df)\n",
    "\n",
    "# DataFrameはデフォルトでorient=\"columns\"\n",
    "# 特定の列に対して一括変換を行える\n",
    "df[\"name\"] = df[\"name\"].apply(lambda name: name.upper())\n",
    "\n",
    "names = [a[\"name\"] for _, a in df.iterrows()]\n",
    "names"
   ]
  },
  {
   "cell_type": "code",
   "execution_count": 5,
   "metadata": {
    "execution": {
     "iopub.execute_input": "2024-02-28T19:52:23.506660Z",
     "iopub.status.busy": "2024-02-28T19:52:23.506427Z",
     "iopub.status.idle": "2024-02-28T19:52:23.512750Z",
     "shell.execute_reply": "2024-02-28T19:52:23.512181Z"
    }
   },
   "outputs": [
    {
     "name": "stdout",
     "output_type": "stream",
     "text": [
      "columns = {\"name\":{\"0\":\"ALICE\",\"1\":\"BOB\",\"2\":\"CAROL\",\"3\":\"DAVE\",\"4\":\"EVE\"}}\n",
      "index   = {\"0\":{\"name\":\"ALICE\"},\"1\":{\"name\":\"BOB\"},\"2\":{\"name\":\"CAROL\"},\"3\":{\"name\":\"DAVE\"},\"4\":{\"name\":\"EVE\"}}\n",
      "records = [{\"name\":\"ALICE\"},{\"name\":\"BOB\"},{\"name\":\"CAROL\"},{\"name\":\"DAVE\"},{\"name\":\"EVE\"}]\n",
      "split   = {\"columns\":[\"name\"],\"index\":[0,1,2,3,4],\"data\":[[\"ALICE\"],[\"BOB\"],[\"CAROL\"],[\"DAVE\"],[\"EVE\"]]}\n",
      "table   = {\"schema\":{\"fields\":[{\"name\":\"index\",\"type\":\"integer\"},{\"name\":\"name\",\"type\":\"string\"}],\"primaryKey\":[\"index\"],\"pandas_version\":\"1.4.0\"},\"data\":[{\"index\":0,\"name\":\"ALICE\"},{\"index\":1,\"name\":\"BOB\"},{\"index\":2,\"name\":\"CAROL\"},{\"index\":3,\"name\":\"DAVE\"},{\"index\":4,\"name\":\"EVE\"}]}\n",
      "values  = [[\"ALICE\"],[\"BOB\"],[\"CAROL\"],[\"DAVE\"],[\"EVE\"]]\n"
     ]
    }
   ],
   "source": [
    "print(\"columns = \" + df.to_json(orient=\"columns\"))\n",
    "print(\"index   = \" + df.to_json(orient=\"index\"))\n",
    "print(\"records = \" + df.to_json(orient=\"records\"))\n",
    "print(\"split   = \" + df.to_json(orient=\"split\"))\n",
    "print(\"table   = \" + df.to_json(orient=\"table\"))\n",
    "print(\"values  = \" + df.to_json(orient=\"values\"))"
   ]
  },
  {
   "cell_type": "markdown",
   "metadata": {},
   "source": [
    "PandasはJSON Linesも扱える。"
   ]
  },
  {
   "cell_type": "code",
   "execution_count": 6,
   "metadata": {},
   "outputs": [
    {
     "data": {
      "text/html": [
       "<div>\n",
       "<style scoped>\n",
       "    .dataframe tbody tr th:only-of-type {\n",
       "        vertical-align: middle;\n",
       "    }\n",
       "\n",
       "    .dataframe tbody tr th {\n",
       "        vertical-align: top;\n",
       "    }\n",
       "\n",
       "    .dataframe thead th {\n",
       "        text-align: right;\n",
       "    }\n",
       "</style>\n",
       "<table border=\"1\" class=\"dataframe\">\n",
       "  <thead>\n",
       "    <tr style=\"text-align: right;\">\n",
       "      <th></th>\n",
       "      <th>name</th>\n",
       "    </tr>\n",
       "  </thead>\n",
       "  <tbody>\n",
       "    <tr>\n",
       "      <th>0</th>\n",
       "      <td>Alice</td>\n",
       "    </tr>\n",
       "    <tr>\n",
       "      <th>1</th>\n",
       "      <td>Bob</td>\n",
       "    </tr>\n",
       "    <tr>\n",
       "      <th>2</th>\n",
       "      <td>Carol</td>\n",
       "    </tr>\n",
       "    <tr>\n",
       "      <th>3</th>\n",
       "      <td>Dave</td>\n",
       "    </tr>\n",
       "    <tr>\n",
       "      <th>4</th>\n",
       "      <td>Eve</td>\n",
       "    </tr>\n",
       "  </tbody>\n",
       "</table>\n",
       "</div>"
      ],
      "text/plain": [
       "    name\n",
       "0  Alice\n",
       "1    Bob\n",
       "2  Carol\n",
       "3   Dave\n",
       "4    Eve"
      ]
     },
     "execution_count": 6,
     "metadata": {},
     "output_type": "execute_result"
    }
   ],
   "source": [
    "json_text = \"\"\"\n",
    "{\"name\": \"Alice\"}\n",
    "{\"name\": \"Bob\"}\n",
    "{\"name\": \"Carol\"}\n",
    "{\"name\": \"Dave\"}\n",
    "{\"name\": \"Eve\"}\n",
    "\"\"\"\n",
    "\n",
    "df = pd.read_json(io.StringIO(json_text), lines=True)\n",
    "df"
   ]
  }
 ],
 "metadata": {
  "kernelspec": {
   "display_name": "learn-python-qS5X6pXX-py3.12",
   "language": "python",
   "name": "python3"
  },
  "language_info": {
   "codemirror_mode": {
    "name": "ipython",
    "version": 3
   },
   "file_extension": ".py",
   "mimetype": "text/x-python",
   "name": "python",
   "nbconvert_exporter": "python",
   "pygments_lexer": "ipython3",
   "version": "3.11.6"
  }
 },
 "nbformat": 4,
 "nbformat_minor": 2
}
