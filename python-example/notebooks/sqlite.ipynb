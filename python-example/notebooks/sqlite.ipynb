{
 "cells": [
  {
   "cell_type": "code",
   "execution_count": 1,
   "metadata": {},
   "outputs": [],
   "source": [
    "from sqlalchemy import select\n",
    "from sqlalchemy.ext.asyncio import create_async_engine, AsyncSession\n",
    "from sqlalchemy.orm import DeclarativeBase, Mapped, mapped_column\n",
    "from sqlalchemy.types import Text"
   ]
  },
  {
   "cell_type": "code",
   "execution_count": 2,
   "metadata": {},
   "outputs": [],
   "source": [
    "class Base(DeclarativeBase):\n",
    "    pass\n",
    "\n",
    "class Message(Base):\n",
    "    __tablename__ = \"messages\"\n",
    "\n",
    "    id: Mapped[int] = mapped_column(primary_key=True)\n",
    "    content: Mapped[str] = mapped_column(Text())\n",
    "\n",
    "    def __repr__(self):\n",
    "        return f\"Message(id={self.id}, content={self.content})\""
   ]
  },
  {
   "cell_type": "markdown",
   "metadata": {},
   "source": [
    "テーブル作れる。"
   ]
  },
  {
   "cell_type": "code",
   "execution_count": 3,
   "metadata": {},
   "outputs": [
    {
     "name": "stdout",
     "output_type": "stream",
     "text": [
      "2024-03-14 20:50:18,143 INFO sqlalchemy.engine.Engine BEGIN (implicit)\n",
      "2024-03-14 20:50:18,144 INFO sqlalchemy.engine.Engine PRAGMA main.table_info(\"messages\")\n",
      "2024-03-14 20:50:18,145 INFO sqlalchemy.engine.Engine [raw sql] ()\n",
      "2024-03-14 20:50:18,147 INFO sqlalchemy.engine.Engine \n",
      "DROP TABLE messages\n",
      "2024-03-14 20:50:18,147 INFO sqlalchemy.engine.Engine [no key 0.00051s] ()\n",
      "2024-03-14 20:50:18,150 INFO sqlalchemy.engine.Engine PRAGMA main.table_info(\"messages\")\n",
      "2024-03-14 20:50:18,150 INFO sqlalchemy.engine.Engine [raw sql] ()\n",
      "2024-03-14 20:50:18,152 INFO sqlalchemy.engine.Engine PRAGMA temp.table_info(\"messages\")\n",
      "2024-03-14 20:50:18,153 INFO sqlalchemy.engine.Engine [raw sql] ()\n",
      "2024-03-14 20:50:18,155 INFO sqlalchemy.engine.Engine \n",
      "CREATE TABLE messages (\n",
      "\tid INTEGER NOT NULL, \n",
      "\tcontent TEXT NOT NULL, \n",
      "\tPRIMARY KEY (id)\n",
      ")\n",
      "\n",
      "\n",
      "2024-03-14 20:50:18,155 INFO sqlalchemy.engine.Engine [no key 0.00069s] ()\n",
      "2024-03-14 20:50:18,158 INFO sqlalchemy.engine.Engine COMMIT\n"
     ]
    }
   ],
   "source": [
    "url = \"sqlite+aiosqlite:///example.db\"\n",
    "\n",
    "engine = create_async_engine(url=url, echo=True, echo_pool=True)\n",
    "async with engine.begin() as conn:\n",
    "    await conn.run_sync(Base.metadata.drop_all)\n",
    "    await conn.run_sync(Base.metadata.create_all)"
   ]
  },
  {
   "cell_type": "markdown",
   "metadata": {},
   "source": [
    "`add`して`commit`で`INSERT`。"
   ]
  },
  {
   "cell_type": "code",
   "execution_count": 4,
   "metadata": {},
   "outputs": [
    {
     "name": "stdout",
     "output_type": "stream",
     "text": [
      "2024-03-14 20:50:18,168 INFO sqlalchemy.engine.Engine BEGIN (implicit)\n",
      "2024-03-14 20:50:18,170 INFO sqlalchemy.engine.Engine INSERT INTO messages (content) VALUES (?) RETURNING id\n",
      "2024-03-14 20:50:18,170 INFO sqlalchemy.engine.Engine [generated in 0.00010s (insertmanyvalues) 1/4 (ordered; batch not supported)] ('foo',)\n",
      "2024-03-14 20:50:18,172 INFO sqlalchemy.engine.Engine INSERT INTO messages (content) VALUES (?) RETURNING id\n",
      "2024-03-14 20:50:18,173 INFO sqlalchemy.engine.Engine [insertmanyvalues 2/4 (ordered; batch not supported)] ('bar',)\n",
      "2024-03-14 20:50:18,174 INFO sqlalchemy.engine.Engine INSERT INTO messages (content) VALUES (?) RETURNING id\n",
      "2024-03-14 20:50:18,175 INFO sqlalchemy.engine.Engine [insertmanyvalues 3/4 (ordered; batch not supported)] ('baz',)\n",
      "2024-03-14 20:50:18,176 INFO sqlalchemy.engine.Engine INSERT INTO messages (content) VALUES (?) RETURNING id\n",
      "2024-03-14 20:50:18,177 INFO sqlalchemy.engine.Engine [insertmanyvalues 4/4 (ordered; batch not supported)] ('qux',)\n",
      "2024-03-14 20:50:18,179 INFO sqlalchemy.engine.Engine COMMIT\n"
     ]
    }
   ],
   "source": [
    "session = AsyncSession(engine)\n",
    "try:\n",
    "    for content in [\"foo\", \"bar\", \"baz\", \"qux\"]:\n",
    "        session.add(Message(content=content))\n",
    "    await session.commit()\n",
    "finally:\n",
    "    await session.close()"
   ]
  },
  {
   "cell_type": "markdown",
   "metadata": {},
   "source": [
    "個々の条件を`()`で括って`&`で`AND`。"
   ]
  },
  {
   "cell_type": "code",
   "execution_count": 5,
   "metadata": {},
   "outputs": [
    {
     "name": "stdout",
     "output_type": "stream",
     "text": [
      "2024-03-14 20:50:18,189 INFO sqlalchemy.engine.Engine BEGIN (implicit)\n",
      "2024-03-14 20:50:18,191 INFO sqlalchemy.engine.Engine SELECT messages.id, messages.content \n",
      "FROM messages \n",
      "WHERE messages.id > ? AND messages.id < ?\n",
      "2024-03-14 20:50:18,192 INFO sqlalchemy.engine.Engine [generated in 0.00084s] (1, 4)\n",
      "Message(id=2, content=bar)\n",
      "Message(id=3, content=baz)\n",
      "2024-03-14 20:50:18,194 INFO sqlalchemy.engine.Engine ROLLBACK\n"
     ]
    }
   ],
   "source": [
    "session = AsyncSession(engine)\n",
    "try:\n",
    "    result = await session.execute(select(Message).where((1 < Message.id) & (Message.id < 4)))\n",
    "    for m in result.scalars():\n",
    "        print(m)\n",
    "finally:\n",
    "    await session.close()"
   ]
  },
  {
   "cell_type": "markdown",
   "metadata": {},
   "source": [
    "`|`で`OR`。"
   ]
  },
  {
   "cell_type": "code",
   "execution_count": 6,
   "metadata": {},
   "outputs": [
    {
     "name": "stdout",
     "output_type": "stream",
     "text": [
      "2024-03-14 20:50:18,203 INFO sqlalchemy.engine.Engine BEGIN (implicit)\n",
      "2024-03-14 20:50:18,204 INFO sqlalchemy.engine.Engine SELECT messages.id, messages.content \n",
      "FROM messages \n",
      "WHERE messages.id < ? OR messages.id > ?\n",
      "2024-03-14 20:50:18,205 INFO sqlalchemy.engine.Engine [generated in 0.00056s] (2, 3)\n",
      "Message(id=1, content=foo)\n",
      "Message(id=4, content=qux)\n",
      "2024-03-14 20:50:18,207 INFO sqlalchemy.engine.Engine ROLLBACK\n"
     ]
    }
   ],
   "source": [
    "session = AsyncSession(engine)\n",
    "try:\n",
    "    result = await session.execute(select(Message).where((2 > Message.id) | (Message.id > 3)))\n",
    "    for m in result.scalars():\n",
    "        print(m)\n",
    "finally:\n",
    "    await session.close()"
   ]
  },
  {
   "cell_type": "code",
   "execution_count": 7,
   "metadata": {},
   "outputs": [
    {
     "name": "stdout",
     "output_type": "stream",
     "text": [
      "2024-03-14 20:50:18,214 INFO sqlalchemy.pool.impl.NullPool Pool recreating\n"
     ]
    }
   ],
   "source": [
    "await engine.dispose()"
   ]
  }
 ],
 "metadata": {
  "kernelspec": {
   "display_name": "python-example-B-yixF64-py3.11",
   "language": "python",
   "name": "python3"
  },
  "language_info": {
   "codemirror_mode": {
    "name": "ipython",
    "version": 3
   },
   "file_extension": ".py",
   "mimetype": "text/x-python",
   "name": "python",
   "nbconvert_exporter": "python",
   "pygments_lexer": "ipython3",
   "version": "3.11.6"
  }
 },
 "nbformat": 4,
 "nbformat_minor": 2
}
