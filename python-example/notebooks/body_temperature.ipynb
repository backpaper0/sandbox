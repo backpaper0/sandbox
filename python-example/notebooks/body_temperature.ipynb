{
 "cells": [
  {
   "cell_type": "code",
   "execution_count": null,
   "metadata": {},
   "outputs": [],
   "source": [
    "from collections import OrderedDict\n",
    "from datetime import datetime\n",
    "import matplotlib.pyplot as plt\n",
    "import pandas as pd\n",
    "\n",
    "df = pd.read_json(\"body_temperature.jsonl\", lines=True)\n",
    "\n",
    "# 回数を取得\n",
    "counts = list(OrderedDict.fromkeys(df[\"count\"]))\n",
    "\n",
    "for count in counts:\n",
    "    # 特定カウントに絞る\n",
    "    part_df = df[(df[\"count\"] == count) & (df[\"body_temperature\"].notna())]\n",
    "    part_df = pd.DataFrame(part_df)\n",
    "\n",
    "    # 日時の差を算出する\n",
    "    def calc_diff(date2: datetime):\n",
    "        date1 = part_df.iloc[0][\"date\"]\n",
    "        return date2 - date1\n",
    "\n",
    "    part_df[\"date_diff\"] = part_df[\"date\"].apply(calc_diff)\n",
    "\n",
    "    # 必要な項目に絞る\n",
    "    part_df = part_df[[\"date_diff\", \"body_temperature\"]]\n",
    "\n",
    "    plt.plot(part_df[\"date_diff\"], part_df[\"body_temperature\"], label=f\"{count} times\")\n",
    "\n",
    "plt.xlabel(\"days\")\n",
    "plt.ylabel(\"temperatures\")\n",
    "plt.legend()\n",
    "plt.show()"
   ]
  }
 ],
 "metadata": {
  "kernelspec": {
   "display_name": "python-example-B-yixF64-py3.11",
   "language": "python",
   "name": "python3"
  },
  "language_info": {
   "codemirror_mode": {
    "name": "ipython",
    "version": 3
   },
   "file_extension": ".py",
   "mimetype": "text/x-python",
   "name": "python",
   "nbconvert_exporter": "python",
   "pygments_lexer": "ipython3",
   "version": "3.11.6"
  }
 },
 "nbformat": 4,
 "nbformat_minor": 2
}
