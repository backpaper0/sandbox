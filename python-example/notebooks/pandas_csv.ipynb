{
 "cells": [
  {
   "cell_type": "markdown",
   "metadata": {},
   "source": [
    "# CSV操作"
   ]
  },
  {
   "cell_type": "markdown",
   "metadata": {},
   "source": [
    "[pandas](https://pandas.pydata.org/)を用いてCSVの操作ができる。"
   ]
  },
  {
   "cell_type": "code",
   "execution_count": 1,
   "metadata": {
    "execution": {
     "iopub.execute_input": "2024-02-28T19:52:32.934536Z",
     "iopub.status.busy": "2024-02-28T19:52:32.934206Z",
     "iopub.status.idle": "2024-02-28T19:52:33.231370Z",
     "shell.execute_reply": "2024-02-28T19:52:33.230733Z"
    }
   },
   "outputs": [],
   "source": [
    "import pandas as pd\n",
    "import json"
   ]
  },
  {
   "cell_type": "markdown",
   "metadata": {},
   "source": [
    "CSVを読み込んで`DataFrame`を構築する。"
   ]
  },
  {
   "cell_type": "code",
   "execution_count": 2,
   "metadata": {
    "execution": {
     "iopub.execute_input": "2024-02-28T19:52:33.234493Z",
     "iopub.status.busy": "2024-02-28T19:52:33.234227Z",
     "iopub.status.idle": "2024-02-28T19:52:33.253926Z",
     "shell.execute_reply": "2024-02-28T19:52:33.253343Z"
    }
   },
   "outputs": [
    {
     "data": {
      "text/html": [
       "<div>\n",
       "<style scoped>\n",
       "    .dataframe tbody tr th:only-of-type {\n",
       "        vertical-align: middle;\n",
       "    }\n",
       "\n",
       "    .dataframe tbody tr th {\n",
       "        vertical-align: top;\n",
       "    }\n",
       "\n",
       "    .dataframe thead th {\n",
       "        text-align: right;\n",
       "    }\n",
       "</style>\n",
       "<table border=\"1\" class=\"dataframe\">\n",
       "  <thead>\n",
       "    <tr style=\"text-align: right;\">\n",
       "      <th></th>\n",
       "      <th>フルーツ名</th>\n",
       "      <th>色</th>\n",
       "      <th>平均重量(グラム)</th>\n",
       "    </tr>\n",
       "  </thead>\n",
       "  <tbody>\n",
       "    <tr>\n",
       "      <th>0</th>\n",
       "      <td>りんご</td>\n",
       "      <td>赤</td>\n",
       "      <td>200</td>\n",
       "    </tr>\n",
       "    <tr>\n",
       "      <th>1</th>\n",
       "      <td>バナナ</td>\n",
       "      <td>黄色</td>\n",
       "      <td>120</td>\n",
       "    </tr>\n",
       "    <tr>\n",
       "      <th>2</th>\n",
       "      <td>オレンジ</td>\n",
       "      <td>橙色</td>\n",
       "      <td>150</td>\n",
       "    </tr>\n",
       "    <tr>\n",
       "      <th>3</th>\n",
       "      <td>ぶどう</td>\n",
       "      <td>紫</td>\n",
       "      <td>5</td>\n",
       "    </tr>\n",
       "    <tr>\n",
       "      <th>4</th>\n",
       "      <td>キウイ</td>\n",
       "      <td>緑</td>\n",
       "      <td>90</td>\n",
       "    </tr>\n",
       "  </tbody>\n",
       "</table>\n",
       "</div>"
      ],
      "text/plain": [
       "  フルーツ名   色  平均重量(グラム)\n",
       "0   りんご   赤        200\n",
       "1   バナナ  黄色        120\n",
       "2  オレンジ  橙色        150\n",
       "3   ぶどう   紫          5\n",
       "4   キウイ   緑         90"
      ]
     },
     "execution_count": 2,
     "metadata": {},
     "output_type": "execute_result"
    }
   ],
   "source": [
    "with open(\"../data/fruits.csv\") as f:\n",
    "    df = pd.read_csv(f)\n",
    "df"
   ]
  },
  {
   "cell_type": "code",
   "execution_count": 3,
   "metadata": {
    "execution": {
     "iopub.execute_input": "2024-02-28T19:52:33.289465Z",
     "iopub.status.busy": "2024-02-28T19:52:33.289239Z",
     "iopub.status.idle": "2024-02-28T19:52:33.293972Z",
     "shell.execute_reply": "2024-02-28T19:52:33.293536Z"
    }
   },
   "outputs": [
    {
     "data": {
      "text/plain": [
       "['りんご', 'バナナ', 'オレンジ', 'ぶどう', 'キウイ']"
      ]
     },
     "execution_count": 3,
     "metadata": {},
     "output_type": "execute_result"
    }
   ],
   "source": [
    "[row[\"フルーツ名\"] for _, row in df.iterrows()]"
   ]
  },
  {
   "cell_type": "markdown",
   "metadata": {},
   "source": [
    "`DataFrame`からCSVテキストを得る。"
   ]
  },
  {
   "cell_type": "code",
   "execution_count": 4,
   "metadata": {
    "execution": {
     "iopub.execute_input": "2024-02-28T19:52:33.296593Z",
     "iopub.status.busy": "2024-02-28T19:52:33.296275Z",
     "iopub.status.idle": "2024-02-28T19:52:33.302866Z",
     "shell.execute_reply": "2024-02-28T19:52:33.302472Z"
    }
   },
   "outputs": [
    {
     "data": {
      "text/plain": [
       "'フルーツ名,色,平均重量(グラム)\\nりんご,赤,200\\nバナナ,黄色,120\\nオレンジ,橙色,150\\nぶどう,紫,5\\nキウイ,緑,90\\n'"
      ]
     },
     "execution_count": 4,
     "metadata": {},
     "output_type": "execute_result"
    }
   ],
   "source": [
    "df.to_csv(index=False)"
   ]
  },
  {
   "cell_type": "markdown",
   "metadata": {},
   "source": [
    "JSONへ変換することも可能（CSV関係っつーか`DataFrame`の機能だけども）。"
   ]
  },
  {
   "cell_type": "code",
   "execution_count": 5,
   "metadata": {
    "execution": {
     "iopub.execute_input": "2024-02-28T19:52:33.305111Z",
     "iopub.status.busy": "2024-02-28T19:52:33.304946Z",
     "iopub.status.idle": "2024-02-28T19:52:33.308410Z",
     "shell.execute_reply": "2024-02-28T19:52:33.307889Z"
    }
   },
   "outputs": [
    {
     "data": {
      "text/plain": [
       "'[{\"フルーツ名\":\"りんご\",\"色\":\"赤\",\"平均重量(グラム)\":200},{\"フルーツ名\":\"バナナ\",\"色\":\"黄色\",\"平均重量(グラム)\":120},{\"フルーツ名\":\"オレンジ\",\"色\":\"橙色\",\"平均重量(グラム)\":150},{\"フルーツ名\":\"ぶどう\",\"色\":\"紫\",\"平均重量(グラム)\":5},{\"フルーツ名\":\"キウイ\",\"色\":\"緑\",\"平均重量(グラム)\":90}]'"
      ]
     },
     "execution_count": 5,
     "metadata": {},
     "output_type": "execute_result"
    }
   ],
   "source": [
    "df.to_json(force_ascii=False, orient=\"records\")"
   ]
  },
  {
   "cell_type": "markdown",
   "metadata": {},
   "source": [
    "CSVを読み込んで辞書へ変換する。一部の列はJSON文字列が書かれているので、そこも考慮する。"
   ]
  },
  {
   "cell_type": "code",
   "execution_count": 6,
   "metadata": {
    "execution": {
     "iopub.execute_input": "2024-02-28T19:52:33.311126Z",
     "iopub.status.busy": "2024-02-28T19:52:33.310880Z",
     "iopub.status.idle": "2024-02-28T19:52:33.319435Z",
     "shell.execute_reply": "2024-02-28T19:52:33.318956Z"
    }
   },
   "outputs": [
    {
     "data": {
      "text/html": [
       "<div>\n",
       "<style scoped>\n",
       "    .dataframe tbody tr th:only-of-type {\n",
       "        vertical-align: middle;\n",
       "    }\n",
       "\n",
       "    .dataframe tbody tr th {\n",
       "        vertical-align: top;\n",
       "    }\n",
       "\n",
       "    .dataframe thead th {\n",
       "        text-align: right;\n",
       "    }\n",
       "</style>\n",
       "<table border=\"1\" class=\"dataframe\">\n",
       "  <thead>\n",
       "    <tr style=\"text-align: right;\">\n",
       "      <th></th>\n",
       "      <th>料理名</th>\n",
       "      <th>主な食材</th>\n",
       "      <th>種類</th>\n",
       "    </tr>\n",
       "  </thead>\n",
       "  <tbody>\n",
       "    <tr>\n",
       "      <th>0</th>\n",
       "      <td>麻婆豆腐</td>\n",
       "      <td>[豆腐, ひき肉, ニラ]</td>\n",
       "      <td>辛い料理</td>\n",
       "    </tr>\n",
       "    <tr>\n",
       "      <th>1</th>\n",
       "      <td>回鍋肉</td>\n",
       "      <td>[豚肉, ピーマン, ニンニク]</td>\n",
       "      <td>炒め物</td>\n",
       "    </tr>\n",
       "    <tr>\n",
       "      <th>2</th>\n",
       "      <td>酢豚</td>\n",
       "      <td>[豚肉, パイナップル, ピーマン]</td>\n",
       "      <td>甘酢料理</td>\n",
       "    </tr>\n",
       "    <tr>\n",
       "      <th>3</th>\n",
       "      <td>餃子</td>\n",
       "      <td>[豚肉, キャベツ, ニラ]</td>\n",
       "      <td>点心</td>\n",
       "    </tr>\n",
       "    <tr>\n",
       "      <th>4</th>\n",
       "      <td>炒飯</td>\n",
       "      <td>[米, 卵, ネギ, ハム]</td>\n",
       "      <td>炒め物</td>\n",
       "    </tr>\n",
       "    <tr>\n",
       "      <th>5</th>\n",
       "      <td>エビチリ</td>\n",
       "      <td>[エビ, ピーマン, ニンニク, 唐辛子]</td>\n",
       "      <td>辛い料理</td>\n",
       "    </tr>\n",
       "    <tr>\n",
       "      <th>6</th>\n",
       "      <td>油淋鶏</td>\n",
       "      <td>[鶏肉, キュウリ, ニンニクソース]</td>\n",
       "      <td>揚げ物</td>\n",
       "    </tr>\n",
       "  </tbody>\n",
       "</table>\n",
       "</div>"
      ],
      "text/plain": [
       "    料理名                   主な食材    種類\n",
       "0  麻婆豆腐          [豆腐, ひき肉, ニラ]  辛い料理\n",
       "1   回鍋肉       [豚肉, ピーマン, ニンニク]   炒め物\n",
       "2    酢豚     [豚肉, パイナップル, ピーマン]  甘酢料理\n",
       "3    餃子         [豚肉, キャベツ, ニラ]    点心\n",
       "4    炒飯         [米, 卵, ネギ, ハム]   炒め物\n",
       "5  エビチリ  [エビ, ピーマン, ニンニク, 唐辛子]  辛い料理\n",
       "6   油淋鶏    [鶏肉, キュウリ, ニンニクソース]   揚げ物"
      ]
     },
     "execution_count": 6,
     "metadata": {},
     "output_type": "execute_result"
    }
   ],
   "source": [
    "df2 = pd.read_csv(\"../data/chinese_cuisine.csv\")\n",
    "df2[\"主な食材\"] = df2[\"主な食材\"].apply(lambda a: json.loads(a))\n",
    "df2"
   ]
  },
  {
   "cell_type": "code",
   "execution_count": 7,
   "metadata": {
    "execution": {
     "iopub.execute_input": "2024-02-28T19:52:33.321892Z",
     "iopub.status.busy": "2024-02-28T19:52:33.321730Z",
     "iopub.status.idle": "2024-02-28T19:52:33.326308Z",
     "shell.execute_reply": "2024-02-28T19:52:33.325907Z"
    }
   },
   "outputs": [
    {
     "data": {
      "text/plain": [
       "[{'料理名': '麻婆豆腐', '主な食材': ['豆腐', 'ひき肉', 'ニラ'], '種類': '辛い料理'},\n",
       " {'料理名': '回鍋肉', '主な食材': ['豚肉', 'ピーマン', 'ニンニク'], '種類': '炒め物'},\n",
       " {'料理名': '酢豚', '主な食材': ['豚肉', 'パイナップル', 'ピーマン'], '種類': '甘酢料理'},\n",
       " {'料理名': '餃子', '主な食材': ['豚肉', 'キャベツ', 'ニラ'], '種類': '点心'},\n",
       " {'料理名': '炒飯', '主な食材': ['米', '卵', 'ネギ', 'ハム'], '種類': '炒め物'},\n",
       " {'料理名': 'エビチリ', '主な食材': ['エビ', 'ピーマン', 'ニンニク', '唐辛子'], '種類': '辛い料理'},\n",
       " {'料理名': '油淋鶏', '主な食材': ['鶏肉', 'キュウリ', 'ニンニクソース'], '種類': '揚げ物'}]"
      ]
     },
     "execution_count": 7,
     "metadata": {},
     "output_type": "execute_result"
    }
   ],
   "source": [
    "[\n",
    "    {\n",
    "        \"料理名\": row[\"料理名\"],\n",
    "        \"主な食材\": row[\"主な食材\"],\n",
    "        \"種類\": row[\"種類\"],\n",
    "    }\n",
    "    for _, row in df2.iterrows()\n",
    "]"
   ]
  }
 ],
 "metadata": {
  "kernelspec": {
   "display_name": "python-example-B-yixF64-py3.12",
   "language": "python",
   "name": "python3"
  },
  "language_info": {
   "codemirror_mode": {
    "name": "ipython",
    "version": 3
   },
   "file_extension": ".py",
   "mimetype": "text/x-python",
   "name": "python",
   "nbconvert_exporter": "python",
   "pygments_lexer": "ipython3",
   "version": "3.11.6"
  }
 },
 "nbformat": 4,
 "nbformat_minor": 2
}
