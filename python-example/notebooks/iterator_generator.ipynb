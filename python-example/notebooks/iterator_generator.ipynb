{
 "cells": [
  {
   "cell_type": "markdown",
   "metadata": {},
   "source": [
    "# イテレーターとジェネレーター"
   ]
  },
  {
   "cell_type": "markdown",
   "metadata": {},
   "source": [
    "`__iter__`メソッドを持つクラスと`__next__`メソッドを持つクラスが必要。\n",
    "`__iter__`メソッドはイテレーターを返す。\n",
    "`__next__`メソッドは値を返し、返す値がなくなったら`raise StopIteration`する。"
   ]
  },
  {
   "cell_type": "code",
   "execution_count": 1,
   "metadata": {
    "execution": {
     "iopub.execute_input": "2024-02-28T19:52:04.284974Z",
     "iopub.status.busy": "2024-02-28T19:52:04.284653Z",
     "iopub.status.idle": "2024-02-28T19:52:04.294758Z",
     "shell.execute_reply": "2024-02-28T19:52:04.294041Z"
    }
   },
   "outputs": [
    {
     "name": "stdout",
     "output_type": "stream",
     "text": [
      "foo\n",
      "bar\n",
      "baz\n"
     ]
    }
   ],
   "source": [
    "class FooIterFactory:\n",
    "    def __iter__(self):\n",
    "        return FooIter()\n",
    "\n",
    "\n",
    "class FooIter:\n",
    "    index = 0\n",
    "\n",
    "    def __next__(self):\n",
    "        self.index += 1\n",
    "        match self.index:\n",
    "            case 1:\n",
    "                return \"foo\"\n",
    "            case 2:\n",
    "                return \"bar\"\n",
    "            case 3:\n",
    "                return \"baz\"\n",
    "            case _:\n",
    "                raise StopIteration\n",
    "\n",
    "\n",
    "for a in FooIterFactory():\n",
    "    print(a)"
   ]
  },
  {
   "cell_type": "markdown",
   "metadata": {},
   "source": [
    "`yield`キーワードでイテレーターを簡易に作れるのがジェネレーター。"
   ]
  },
  {
   "cell_type": "code",
   "execution_count": 2,
   "metadata": {
    "execution": {
     "iopub.execute_input": "2024-02-28T19:52:04.338195Z",
     "iopub.status.busy": "2024-02-28T19:52:04.337928Z",
     "iopub.status.idle": "2024-02-28T19:52:04.341398Z",
     "shell.execute_reply": "2024-02-28T19:52:04.340793Z"
    }
   },
   "outputs": [
    {
     "name": "stdout",
     "output_type": "stream",
     "text": [
      "foo\n",
      "bar\n",
      "baz\n"
     ]
    }
   ],
   "source": [
    "def foo_iter():\n",
    "    yield \"foo\"\n",
    "    yield \"bar\"\n",
    "    yield \"baz\"\n",
    "\n",
    "\n",
    "for a in foo_iter():\n",
    "    print(a)"
   ]
  },
  {
   "cell_type": "markdown",
   "metadata": {},
   "source": [
    "`iter`関数でイテレーターを取得したり、`next`関数でイテレーターを操作することも可能。"
   ]
  },
  {
   "cell_type": "code",
   "execution_count": 3,
   "metadata": {
    "execution": {
     "iopub.execute_input": "2024-02-28T19:52:04.344347Z",
     "iopub.status.busy": "2024-02-28T19:52:04.344123Z",
     "iopub.status.idle": "2024-02-28T19:52:04.347786Z",
     "shell.execute_reply": "2024-02-28T19:52:04.347254Z"
    }
   },
   "outputs": [
    {
     "name": "stdout",
     "output_type": "stream",
     "text": [
      "foo\n",
      "bar\n",
      "baz\n"
     ]
    }
   ],
   "source": [
    "it = iter([\"foo\", \"bar\", \"baz\"])\n",
    "print(next(it))\n",
    "print(next(it))\n",
    "print(next(it))\n",
    "\n",
    "try:\n",
    "    next(it)\n",
    "except StopIteration:\n",
    "    pass"
   ]
  }
 ],
 "metadata": {
  "kernelspec": {
   "display_name": "learn-python-qS5X6pXX-py3.12",
   "language": "python",
   "name": "python3"
  },
  "language_info": {
   "codemirror_mode": {
    "name": "ipython",
    "version": 3
   },
   "file_extension": ".py",
   "mimetype": "text/x-python",
   "name": "python",
   "nbconvert_exporter": "python",
   "pygments_lexer": "ipython3",
   "version": "3.11.6"
  }
 },
 "nbformat": 4,
 "nbformat_minor": 2
}
