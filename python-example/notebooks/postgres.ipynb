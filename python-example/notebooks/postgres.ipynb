{
 "cells": [
  {
   "cell_type": "markdown",
   "metadata": {},
   "source": [
    "# PostgreSQLを操作する"
   ]
  },
  {
   "cell_type": "code",
   "execution_count": 1,
   "metadata": {},
   "outputs": [],
   "source": [
    "from dotenv import load_dotenv\n",
    "from psycopg_pool import ConnectionPool\n",
    "import os"
   ]
  },
  {
   "cell_type": "code",
   "execution_count": 2,
   "metadata": {},
   "outputs": [],
   "source": [
    "load_dotenv()\n",
    "\n",
    "conninfo = os.environ[\"POSTGRES_CONNINFO\"]"
   ]
  },
  {
   "cell_type": "code",
   "execution_count": 3,
   "metadata": {},
   "outputs": [
    {
     "name": "stdout",
     "output_type": "stream",
     "text": [
      "(1, 'foo')\n",
      "(2, 'bar')\n",
      "(3, 'baz')\n",
      "(4, 'qux')\n"
     ]
    }
   ],
   "source": [
    "with ConnectionPool(conninfo=conninfo) as pool:\n",
    "    with pool.connection() as conn:\n",
    "        with conn.execute(\"select * from messages order by id asc\") as cur:\n",
    "            for record in cur:\n",
    "                print(record)"
   ]
  }
 ],
 "metadata": {
  "kernelspec": {
   "display_name": "python-example-B-yixF64-py3.11",
   "language": "python",
   "name": "python3"
  },
  "language_info": {
   "codemirror_mode": {
    "name": "ipython",
    "version": 3
   },
   "file_extension": ".py",
   "mimetype": "text/x-python",
   "name": "python",
   "nbconvert_exporter": "python",
   "pygments_lexer": "ipython3",
   "version": "3.11.6"
  }
 },
 "nbformat": 4,
 "nbformat_minor": 2
}
