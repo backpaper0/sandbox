{
 "cells": [
  {
   "cell_type": "markdown",
   "metadata": {},
   "source": [
    "# PostgreSQLを操作する"
   ]
  },
  {
   "cell_type": "code",
   "execution_count": 1,
   "metadata": {},
   "outputs": [],
   "source": [
    "from dotenv import load_dotenv\n",
    "from psycopg_pool import ConnectionPool\n",
    "from sqlalchemy import create_engine, select, text\n",
    "from sqlalchemy.ext.asyncio import create_async_engine, AsyncSession\n",
    "from sqlalchemy.orm import DeclarativeBase, Mapped, mapped_column, Session\n",
    "from sqlalchemy.types import Text\n",
    "import os"
   ]
  },
  {
   "cell_type": "code",
   "execution_count": 2,
   "metadata": {},
   "outputs": [],
   "source": [
    "load_dotenv()\n",
    "\n",
    "conninfo = os.environ[\"POSTGRES_CONNINFO\"]\n",
    "url = os.environ[\"SQLARCHEMY_URL\"]\n",
    "\n",
    "# SQLログを見たい場合はTrueにする\n",
    "echo = False"
   ]
  },
  {
   "cell_type": "code",
   "execution_count": 3,
   "metadata": {},
   "outputs": [
    {
     "name": "stdout",
     "output_type": "stream",
     "text": [
      "(1, 'foo')\n",
      "(2, 'bar')\n",
      "(3, 'baz')\n",
      "(4, 'qux')\n"
     ]
    }
   ],
   "source": [
    "with ConnectionPool(conninfo=conninfo) as pool:\n",
    "    with pool.connection() as session:\n",
    "        with session.execute(\"select * from messages order by id asc\") as cur:\n",
    "            for record in cur:\n",
    "                print(record)"
   ]
  },
  {
   "cell_type": "markdown",
   "metadata": {},
   "source": [
    "## SQLAlchemy"
   ]
  },
  {
   "cell_type": "code",
   "execution_count": 4,
   "metadata": {},
   "outputs": [
    {
     "name": "stdout",
     "output_type": "stream",
     "text": [
      "[(1, 'foo'), (2, 'bar'), (3, 'baz'), (4, 'qux')]\n",
      "['foo']\n",
      "['foo', 'bar', 'baz', 'qux', 'hoge', 'fuga']\n"
     ]
    }
   ],
   "source": [
    "engine = create_engine(url, echo=echo, echo_pool=echo)\n",
    "try:\n",
    "    # engine.connect()でもデータベースの操作はできるけれど、ORM的な機能を使うにはSessionを使うみたい。\n",
    "    # この例では単純にクエリーを投げているだけなのでConnectionを使うのと変わらない使い方になってる。\n",
    "    #with engine.connect() as conn:\n",
    "    with Session(engine) as session:\n",
    "        result = session.execute(text(\"select * from messages order by id asc\"))\n",
    "        print(result.all())\n",
    "\n",
    "        result = session.execute(text(\"select * from messages where id = :id\"), { \"id\": \"1\" })\n",
    "        # 動的にカラム名が付けられたタプルがイテレートされる\n",
    "        print([row.content for row in result.all()])\n",
    "\n",
    "        session.execute(\n",
    "            text(\"insert into messages (content) values (:content)\"), \n",
    "            [{ \"content\": \"hoge\" }, { \"content\": \"fuga\" }],\n",
    "        )\n",
    "        #conn.commit()\n",
    "        result = session.execute(text(\"select content from messages order by id asc\"))\n",
    "        # content, でタプルを分解して受け取っている\n",
    "        print([content for content, in result.all()])\n",
    "finally:\n",
    "    engine.dispose()"
   ]
  },
  {
   "cell_type": "code",
   "execution_count": 5,
   "metadata": {},
   "outputs": [
    {
     "name": "stdout",
     "output_type": "stream",
     "text": [
      "Message(id=35, content=foobar)\n"
     ]
    }
   ],
   "source": [
    "class Base(DeclarativeBase):\n",
    "    pass\n",
    "\n",
    "class Message(Base):\n",
    "    __tablename__ = \"messages\"\n",
    "\n",
    "    id: Mapped[int] = mapped_column(primary_key=True)\n",
    "    content: Mapped[str] = mapped_column(Text())\n",
    "\n",
    "    def __repr__(self):\n",
    "        return f\"Message(id={self.id}, content={self.content})\"\n",
    "\n",
    "engine = create_engine(url, echo=echo, echo_pool=echo)\n",
    "try:\n",
    "    with Session(engine) as session:\n",
    "        session.add(Message(content=\"foobar\"))\n",
    "\n",
    "        m = session.execute(select(Message).filter_by(content=\"foobar\")).scalar_one()\n",
    "        print(m)\n",
    "finally:\n",
    "    engine.dispose()"
   ]
  },
  {
   "cell_type": "markdown",
   "metadata": {},
   "source": [
    "### 非同期"
   ]
  },
  {
   "cell_type": "code",
   "execution_count": 6,
   "metadata": {},
   "outputs": [
    {
     "name": "stdout",
     "output_type": "stream",
     "text": [
      "Message(id=1, content=foo)\n",
      "Message(id=2, content=bar)\n",
      "Message(id=3, content=baz)\n",
      "Message(id=4, content=qux)\n"
     ]
    }
   ],
   "source": [
    "async_engine = create_async_engine(url, echo=echo, echo_pool=echo)\n",
    "try:\n",
    "\n",
    "    session = AsyncSession(async_engine)\n",
    "    try:\n",
    "        result = await session.execute(select(Message).order_by(Message.id))\n",
    "        for m in result.scalars():\n",
    "            print(m)\n",
    "\n",
    "    finally:\n",
    "        await session.aclose()\n",
    "\n",
    "finally:\n",
    "    await async_engine.dispose()"
   ]
  }
 ],
 "metadata": {
  "kernelspec": {
   "display_name": "python-example-B-yixF64-py3.11",
   "language": "python",
   "name": "python3"
  },
  "language_info": {
   "codemirror_mode": {
    "name": "ipython",
    "version": 3
   },
   "file_extension": ".py",
   "mimetype": "text/x-python",
   "name": "python",
   "nbconvert_exporter": "python",
   "pygments_lexer": "ipython3",
   "version": "3.11.6"
  }
 },
 "nbformat": 4,
 "nbformat_minor": 2
}
