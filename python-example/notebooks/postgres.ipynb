{
 "cells": [
  {
   "cell_type": "markdown",
   "metadata": {},
   "source": [
    "# PostgreSQLを操作する"
   ]
  },
  {
   "cell_type": "code",
   "execution_count": 1,
   "metadata": {},
   "outputs": [],
   "source": [
    "from dotenv import load_dotenv\n",
    "from psycopg_pool import ConnectionPool\n",
    "from sqlalchemy import create_engine, text\n",
    "from sqlalchemy.orm import Session\n",
    "import os"
   ]
  },
  {
   "cell_type": "code",
   "execution_count": 2,
   "metadata": {},
   "outputs": [],
   "source": [
    "load_dotenv()\n",
    "\n",
    "conninfo = os.environ[\"POSTGRES_CONNINFO\"]\n",
    "url = os.environ[\"SQLARCHEMY_URL\"]"
   ]
  },
  {
   "cell_type": "code",
   "execution_count": 3,
   "metadata": {},
   "outputs": [
    {
     "name": "stdout",
     "output_type": "stream",
     "text": [
      "(1, 'foo')\n",
      "(2, 'bar')\n",
      "(3, 'baz')\n",
      "(4, 'qux')\n"
     ]
    }
   ],
   "source": [
    "with ConnectionPool(conninfo=conninfo) as pool:\n",
    "    with pool.connection() as session:\n",
    "        with session.execute(\"select * from messages order by id asc\") as cur:\n",
    "            for record in cur:\n",
    "                print(record)"
   ]
  },
  {
   "cell_type": "markdown",
   "metadata": {},
   "source": [
    "## SQLAlchemy"
   ]
  },
  {
   "cell_type": "code",
   "execution_count": 4,
   "metadata": {},
   "outputs": [
    {
     "name": "stdout",
     "output_type": "stream",
     "text": [
      "[(1, 'foo'), (2, 'bar'), (3, 'baz'), (4, 'qux')]\n",
      "['foo']\n",
      "['foo', 'bar', 'baz', 'qux', 'hoge', 'fuga']\n"
     ]
    }
   ],
   "source": [
    "engine = create_engine(url)\n",
    "\n",
    "# engine.connect()でもデータベースの操作はできるけれど、ORM的な機能を使うにはSessionを使うみたい。\n",
    "# この例では単純にクエリーを投げているだけなのでConnectionを使うのと変わらない使い方になってる。\n",
    "#with engine.connect() as conn:\n",
    "with Session(engine) as session:\n",
    "    result = session.execute(text(\"select * from messages order by id asc\"))\n",
    "    print(result.all())\n",
    "\n",
    "    result = session.execute(text(\"select * from messages where id = :id\"), { \"id\": \"1\" })\n",
    "    # 動的にカラム名が付けられたタプルがイテレートされる\n",
    "    print([row.content for row in result.all()])\n",
    "\n",
    "    session.execute(\n",
    "        text(\"insert into messages (content) values (:content)\"), \n",
    "        [{ \"content\": \"hoge\" }, { \"content\": \"fuga\" }],\n",
    "    )\n",
    "    #conn.commit()\n",
    "    result = session.execute(text(\"select content from messages order by id asc\"))\n",
    "    # content, でタプルを分解して受け取っている\n",
    "    print([content for content, in result.all()])\n",
    "\n"
   ]
  }
 ],
 "metadata": {
  "kernelspec": {
   "display_name": "python-example-B-yixF64-py3.11",
   "language": "python",
   "name": "python3"
  },
  "language_info": {
   "codemirror_mode": {
    "name": "ipython",
    "version": 3
   },
   "file_extension": ".py",
   "mimetype": "text/x-python",
   "name": "python",
   "nbconvert_exporter": "python",
   "pygments_lexer": "ipython3",
   "version": "3.11.6"
  }
 },
 "nbformat": 4,
 "nbformat_minor": 2
}
