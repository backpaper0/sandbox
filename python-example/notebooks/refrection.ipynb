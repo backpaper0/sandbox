{
 "cells": [
  {
   "cell_type": "markdown",
   "metadata": {},
   "source": [
    "# リフレクション"
   ]
  },
  {
   "cell_type": "markdown",
   "metadata": {},
   "source": [
    "[dir関数](https://docs.python.org/ja/3/library/functions.html#dir)でクラスの属性とメソッドの一覧を取得できるっぽい。\n",
    "継承したものも含む。"
   ]
  },
  {
   "cell_type": "code",
   "execution_count": 1,
   "metadata": {
    "execution": {
     "iopub.execute_input": "2024-02-28T19:52:54.153731Z",
     "iopub.status.busy": "2024-02-28T19:52:54.153270Z",
     "iopub.status.idle": "2024-02-28T19:52:54.168063Z",
     "shell.execute_reply": "2024-02-28T19:52:54.167386Z"
    }
   },
   "outputs": [
    {
     "data": {
      "text/plain": [
       "['__class__',\n",
       " '__delattr__',\n",
       " '__dict__',\n",
       " '__dir__',\n",
       " '__doc__',\n",
       " '__eq__',\n",
       " '__format__',\n",
       " '__ge__',\n",
       " '__getattribute__',\n",
       " '__getstate__',\n",
       " '__gt__',\n",
       " '__hash__',\n",
       " '__init__',\n",
       " '__init_subclass__',\n",
       " '__le__',\n",
       " '__lt__',\n",
       " '__module__',\n",
       " '__ne__',\n",
       " '__new__',\n",
       " '__reduce__',\n",
       " '__reduce_ex__',\n",
       " '__repr__',\n",
       " '__setattr__',\n",
       " '__sizeof__',\n",
       " '__str__',\n",
       " '__subclasshook__',\n",
       " '__weakref__',\n",
       " 'field1',\n",
       " 'field2',\n",
       " 'field3',\n",
       " 'field4',\n",
       " 'method1',\n",
       " 'method2',\n",
       " 'method3',\n",
       " 'method4']"
      ]
     },
     "execution_count": 1,
     "metadata": {},
     "output_type": "execute_result"
    }
   ],
   "source": [
    "class Class1:\n",
    "    field1 = None\n",
    "    field2 = None\n",
    "    def method1(self):\n",
    "        pass\n",
    "    def method2(self):\n",
    "        pass\n",
    "\n",
    "class Class2(Class1):\n",
    "    field3 = None\n",
    "    field4 = None\n",
    "    def method3(self):\n",
    "        pass\n",
    "    def method4(self):\n",
    "        pass\n",
    "\n",
    "\n",
    "dir(Class2)"
   ]
  },
  {
   "cell_type": "markdown",
   "metadata": {},
   "source": [
    "[inspect](https://docs.python.org/ja/3/library/inspect.html)を使った方が良さそう。"
   ]
  },
  {
   "cell_type": "code",
   "execution_count": 2,
   "metadata": {
    "execution": {
     "iopub.execute_input": "2024-02-28T19:52:54.211876Z",
     "iopub.status.busy": "2024-02-28T19:52:54.211598Z",
     "iopub.status.idle": "2024-02-28T19:52:54.217026Z",
     "shell.execute_reply": "2024-02-28T19:52:54.216475Z"
    }
   },
   "outputs": [
    {
     "data": {
      "text/plain": [
       "([('method1', <function __main__.Class1.method1(self)>),\n",
       "  ('method2', <function __main__.Class1.method2(self)>),\n",
       "  ('method3', <function __main__.Class2.method3(self)>),\n",
       "  ('method4', <function __main__.Class2.method4(self)>)],\n",
       " [('field1', None), ('field2', None), ('field3', None), ('field4', None)])"
      ]
     },
     "execution_count": 2,
     "metadata": {},
     "output_type": "execute_result"
    }
   ],
   "source": [
    "import inspect\n",
    "\n",
    "methods = inspect.getmembers(Class2, predicate=inspect.isfunction)\n",
    "\n",
    "attributes = [member for member in inspect.getmembers(Class2) if not inspect.isroutine(member[1]) and not member[0].startswith(\"__\")]\n",
    "\n",
    "methods, attributes"
   ]
  }
 ],
 "metadata": {
  "kernelspec": {
   "display_name": "python-example-B-yixF64-py3.12",
   "language": "python",
   "name": "python3"
  },
  "language_info": {
   "codemirror_mode": {
    "name": "ipython",
    "version": 3
   },
   "file_extension": ".py",
   "mimetype": "text/x-python",
   "name": "python",
   "nbconvert_exporter": "python",
   "pygments_lexer": "ipython3",
   "version": "3.11.6"
  }
 },
 "nbformat": 4,
 "nbformat_minor": 2
}
